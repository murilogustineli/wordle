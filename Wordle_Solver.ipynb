{
 "cells": [
  {
   "cell_type": "markdown",
   "id": "18a7f0d0",
   "metadata": {},
   "source": [
    "# Wordle Solver"
   ]
  },
  {
   "cell_type": "code",
   "execution_count": 1,
   "id": "0a4a8e9e",
   "metadata": {},
   "outputs": [],
   "source": [
    "%run -i wordle_functions.py"
   ]
  },
  {
   "cell_type": "code",
   "execution_count": 2,
   "id": "91f995fa",
   "metadata": {},
   "outputs": [],
   "source": [
    "# help(main)"
   ]
  },
  {
   "cell_type": "code",
   "execution_count": 6,
   "id": "13f5b9d5",
   "metadata": {},
   "outputs": [
    {
     "name": "stdout",
     "output_type": "stream",
     "text": [
      "['molar', 'moral', 'polar', 'solar']\n"
     ]
    }
   ],
   "source": [
    "# Main function that returns a list of possible words\n",
    "green_letters = 'O'\n",
    "green_positions = [2]\n",
    "yellow_letters = 'RAL'\n",
    "yellow_positions = [2,3,4]\n",
    "bad_letters = 'CNEHTY'\n",
    "\n",
    "# Main function that returns a list of possible words\n",
    "words = main(green_letters, green_positions, yellow_letters, yellow_positions, bad_letters)\n",
    "print(words)"
   ]
  },
  {
   "cell_type": "code",
   "execution_count": 7,
   "id": "5daaac42",
   "metadata": {},
   "outputs": [
    {
     "name": "stdout",
     "output_type": "stream",
     "text": [
      "Letters  Count\n",
      "      O      4\n",
      "      L      4\n",
      "      A      4\n",
      "      R      4\n",
      "      M      2\n",
      "      P      1\n",
      "      S      1\n"
     ]
    }
   ],
   "source": [
    "# Repetitive letters\n",
    "letters_df = repetitive_letters(wordle_list=words)\n",
    "print(letters_df.to_string(index=False))"
   ]
  },
  {
   "cell_type": "markdown",
   "id": "612c0aa7",
   "metadata": {
    "tags": []
   },
   "source": [
    "#### Good words:\n",
    "SALET, CRANE, SHOUT, AUDIO, SLICE, SLICK, SPLIT, STUDY, INCUR, CHOIR, CROWN, CROWD, CRONE, POISE, OLIVE, DUNCE, BINGO, BISON, MIDST, SPOUT"
   ]
  },
  {
   "cell_type": "code",
   "execution_count": 5,
   "id": "3fd2a027",
   "metadata": {},
   "outputs": [],
   "source": [
    "# GLEAN, LADEN, NAVEL, PANEL, PENAL"
   ]
  },
  {
   "cell_type": "code",
   "execution_count": 8,
   "id": "ddf142cf",
   "metadata": {},
   "outputs": [
    {
     "name": "stdout",
     "output_type": "stream",
     "text": [
      "['prism', 'psalm', 'scamp', 'skimp', 'slump', 'spasm', 'sperm', 'stamp', 'stomp', 'stump', 'swamp']\n"
     ]
    }
   ],
   "source": [
    "# Main function that returns a list of possible words\n",
    "green_letters = ''\n",
    "green_positions = []\n",
    "yellow_letters = 'MPS'\n",
    "yellow_positions = []\n",
    "bad_letters = ''\n",
    "\n",
    "# Main function that returns a list of possible words\n",
    "words = main(green_letters, green_positions, yellow_letters, yellow_positions, bad_letters)\n",
    "print(words)"
   ]
  },
  {
   "cell_type": "code",
   "execution_count": 7,
   "id": "886d21ff",
   "metadata": {},
   "outputs": [],
   "source": [
    "# help(score)"
   ]
  },
  {
   "cell_type": "code",
   "execution_count": 8,
   "id": "46b6a7f7",
   "metadata": {},
   "outputs": [
    {
     "data": {
      "text/html": [
       "<div>\n",
       "<style scoped>\n",
       "    .dataframe tbody tr th:only-of-type {\n",
       "        vertical-align: middle;\n",
       "    }\n",
       "\n",
       "    .dataframe tbody tr th {\n",
       "        vertical-align: top;\n",
       "    }\n",
       "\n",
       "    .dataframe thead th {\n",
       "        text-align: right;\n",
       "    }\n",
       "</style>\n",
       "<table border=\"1\" class=\"dataframe\">\n",
       "  <thead>\n",
       "    <tr style=\"text-align: right;\">\n",
       "      <th></th>\n",
       "      <th>Names</th>\n",
       "      <th>Games_Won</th>\n",
       "    </tr>\n",
       "  </thead>\n",
       "  <tbody>\n",
       "    <tr>\n",
       "      <th>0</th>\n",
       "      <td>Murilo</td>\n",
       "      <td>81</td>\n",
       "    </tr>\n",
       "    <tr>\n",
       "      <th>1</th>\n",
       "      <td>Barbara</td>\n",
       "      <td>34</td>\n",
       "    </tr>\n",
       "    <tr>\n",
       "      <th>2</th>\n",
       "      <td>Draw</td>\n",
       "      <td>67</td>\n",
       "    </tr>\n",
       "  </tbody>\n",
       "</table>\n",
       "</div>"
      ],
      "text/plain": [
       "     Names  Games_Won\n",
       "0   Murilo         81\n",
       "1  Barbara         34\n",
       "2     Draw         67"
      ]
     },
     "execution_count": 8,
     "metadata": {},
     "output_type": "execute_result"
    }
   ],
   "source": [
    "df = load_data(file_name='wordle_ranking.csv')\n",
    "df"
   ]
  },
  {
   "cell_type": "code",
   "execution_count": 9,
   "id": "fba1bc3e",
   "metadata": {},
   "outputs": [
    {
     "name": "stdin",
     "output_type": "stream",
     "text": [
      "Who won the game? Murilo, Barbara, or Draw?     \n",
      "Enter 'M' if Murilo won.     \n",
      "Enter 'B' if Barbara won.     \n",
      "Enter 'D' if it was a Draw.     \n",
      "Please enter [M/B/D]: M\n"
     ]
    },
    {
     "data": {
      "text/html": [
       "<div>\n",
       "<style scoped>\n",
       "    .dataframe tbody tr th:only-of-type {\n",
       "        vertical-align: middle;\n",
       "    }\n",
       "\n",
       "    .dataframe tbody tr th {\n",
       "        vertical-align: top;\n",
       "    }\n",
       "\n",
       "    .dataframe thead th {\n",
       "        text-align: right;\n",
       "    }\n",
       "</style>\n",
       "<table border=\"1\" class=\"dataframe\">\n",
       "  <thead>\n",
       "    <tr style=\"text-align: right;\">\n",
       "      <th></th>\n",
       "      <th>Names</th>\n",
       "      <th>Games_Won</th>\n",
       "    </tr>\n",
       "  </thead>\n",
       "  <tbody>\n",
       "    <tr>\n",
       "      <th>0</th>\n",
       "      <td>Murilo</td>\n",
       "      <td>82</td>\n",
       "    </tr>\n",
       "    <tr>\n",
       "      <th>1</th>\n",
       "      <td>Barbara</td>\n",
       "      <td>34</td>\n",
       "    </tr>\n",
       "    <tr>\n",
       "      <th>2</th>\n",
       "      <td>Draw</td>\n",
       "      <td>67</td>\n",
       "    </tr>\n",
       "  </tbody>\n",
       "</table>\n",
       "</div>"
      ],
      "text/plain": [
       "     Names  Games_Won\n",
       "0   Murilo         82\n",
       "1  Barbara         34\n",
       "2     Draw         67"
      ]
     },
     "execution_count": 9,
     "metadata": {},
     "output_type": "execute_result"
    }
   ],
   "source": [
    "# Update score\n",
    "score_df = score()\n",
    "score_df"
   ]
  },
  {
   "cell_type": "code",
   "execution_count": 10,
   "id": "532bdf5d",
   "metadata": {},
   "outputs": [
    {
     "name": "stdout",
     "output_type": "stream",
     "text": [
      "  Names  Games_Won\n",
      " Murilo         82\n",
      "Barbara         34\n",
      "   Draw         67\n"
     ]
    }
   ],
   "source": [
    "# Print results\n",
    "print(score_df.to_string(index=False))"
   ]
  },
  {
   "cell_type": "code",
   "execution_count": 11,
   "id": "c06d1896",
   "metadata": {},
   "outputs": [],
   "source": [
    "# help(reset_score)"
   ]
  },
  {
   "cell_type": "markdown",
   "id": "b192eadb",
   "metadata": {
    "tags": []
   },
   "source": [
    "#### Set custom score"
   ]
  },
  {
   "cell_type": "code",
   "execution_count": 12,
   "id": "4423073b",
   "metadata": {},
   "outputs": [],
   "source": [
    "# help(set_score)"
   ]
  },
  {
   "cell_type": "code",
   "execution_count": 13,
   "id": "649ee319",
   "metadata": {},
   "outputs": [],
   "source": [
    "# # Set custom score\n",
    "# df = set_score(m_score=21, b_score=10, draw_score=18)\n",
    "# df"
   ]
  },
  {
   "cell_type": "markdown",
   "id": "4c649c98",
   "metadata": {},
   "source": [
    "#### Reset score"
   ]
  },
  {
   "cell_type": "code",
   "execution_count": 14,
   "id": "dbb6dae7",
   "metadata": {
    "tags": []
   },
   "outputs": [],
   "source": [
    "## Reset score\n",
    "# reset_score()"
   ]
  },
  {
   "cell_type": "code",
   "execution_count": null,
   "id": "462cbac1",
   "metadata": {},
   "outputs": [],
   "source": []
  },
  {
   "cell_type": "code",
   "execution_count": null,
   "id": "c1e3b28e",
   "metadata": {
    "tags": []
   },
   "outputs": [],
   "source": []
  },
  {
   "cell_type": "code",
   "execution_count": 15,
   "id": "90e474b8",
   "metadata": {},
   "outputs": [],
   "source": [
    "# Convert JSON to CSV\n",
    "import json\n",
    "import pandas as pd"
   ]
  },
  {
   "cell_type": "code",
   "execution_count": 16,
   "id": "3654b5f4",
   "metadata": {},
   "outputs": [],
   "source": [
    "def open_json(file_name: str) -> list:\n",
    "    # Opening JSON file and loading the data into the variable data\n",
    "    with open(file_name) as json_file:\n",
    "        json_file = json.load(json_file)\n",
    "    \n",
    "    data = []\n",
    "    for i in json_file['statusSteps']:\n",
    "        data.append(i['notificationOptions']['notifyOnAttributeSelection'])\n",
    "        \n",
    "    return data"
   ]
  },
  {
   "cell_type": "code",
   "execution_count": 17,
   "id": "0f133229",
   "metadata": {},
   "outputs": [],
   "source": [
    "def convert_json_csv(data: list, download=False) -> pd.DataFrame:\n",
    "    dic = {}\n",
    "    \n",
    "    # Loop through list and convert to dictionary\n",
    "    for row in data:  # iterate every row\n",
    "        for key in row:\n",
    "            if type(row[key]) != dict:  # if key is not a dictionary type object\n",
    "                if key not in dic.keys():  # if key not in dictionary\n",
    "                    dic[key] = [row[key]]\n",
    "                else:\n",
    "                    dic[key].append(row[key])  # add element to dictionary key\n",
    "            else:\n",
    "                for ele in row[key]:  # iterate nested dictionary\n",
    "                    sub_dic = row[key]\n",
    "                    if ele not in dic.keys():  # if key is not in dictionary\n",
    "                        dic[ele] = [sub_dic[ele]]\n",
    "                    else:\n",
    "                        dic[ele].append(sub_dic[ele])  # add element to dictionary key\n",
    "    \n",
    "    # Convert dictionary to pandas DF\n",
    "    df = pd.DataFrame(dic)\n",
    "    \n",
    "    # Download CSV\n",
    "    if download:\n",
    "        df.to_csv(\"output.csv\")\n",
    "    \n",
    "    return df"
   ]
  },
  {
   "cell_type": "code",
   "execution_count": 18,
   "id": "8ac0e0da",
   "metadata": {},
   "outputs": [],
   "source": [
    "# Call functions\n",
    "def convert(file_name=\"ConagraPerfect.json\"):\n",
    "    data = open_json(file_name=file_name)\n",
    "    df = convert_json_csv(data=data, download=False)\n",
    "    display(df)"
   ]
  },
  {
   "cell_type": "code",
   "execution_count": 19,
   "id": "20d9bb5a",
   "metadata": {},
   "outputs": [
    {
     "ename": "FileNotFoundError",
     "evalue": "[Errno 2] No such file or directory: 'ConagraPerfect.json'",
     "output_type": "error",
     "traceback": [
      "\u001b[1;31m---------------------------------------------------------------------------\u001b[0m",
      "\u001b[1;31mFileNotFoundError\u001b[0m                         Traceback (most recent call last)",
      "Input \u001b[1;32mIn [19]\u001b[0m, in \u001b[0;36m<cell line: 2>\u001b[1;34m()\u001b[0m\n\u001b[0;32m      1\u001b[0m \u001b[38;5;66;03m# Read JSON file\u001b[39;00m\n\u001b[1;32m----> 2\u001b[0m data \u001b[38;5;241m=\u001b[39m \u001b[43mopen_json\u001b[49m\u001b[43m(\u001b[49m\u001b[43mfile_name\u001b[49m\u001b[38;5;241;43m=\u001b[39;49m\u001b[38;5;124;43m\"\u001b[39;49m\u001b[38;5;124;43mConagraPerfect.json\u001b[39;49m\u001b[38;5;124;43m\"\u001b[39;49m\u001b[43m)\u001b[49m\n\u001b[0;32m      4\u001b[0m data \u001b[38;5;241m=\u001b[39m data[\u001b[38;5;241m0\u001b[39m]\n\u001b[0;32m      5\u001b[0m data\n",
      "Input \u001b[1;32mIn [16]\u001b[0m, in \u001b[0;36mopen_json\u001b[1;34m(file_name)\u001b[0m\n\u001b[0;32m      1\u001b[0m \u001b[38;5;28;01mdef\u001b[39;00m \u001b[38;5;21mopen_json\u001b[39m(file_name: \u001b[38;5;28mstr\u001b[39m) \u001b[38;5;241m-\u001b[39m\u001b[38;5;241m>\u001b[39m \u001b[38;5;28mlist\u001b[39m:\n\u001b[0;32m      2\u001b[0m     \u001b[38;5;66;03m# Opening JSON file and loading the data into the variable data\u001b[39;00m\n\u001b[1;32m----> 3\u001b[0m     \u001b[38;5;28;01mwith\u001b[39;00m \u001b[38;5;28;43mopen\u001b[39;49m\u001b[43m(\u001b[49m\u001b[43mfile_name\u001b[49m\u001b[43m)\u001b[49m \u001b[38;5;28;01mas\u001b[39;00m json_file:\n\u001b[0;32m      4\u001b[0m         json_file \u001b[38;5;241m=\u001b[39m json\u001b[38;5;241m.\u001b[39mload(json_file)\n\u001b[0;32m      6\u001b[0m     data \u001b[38;5;241m=\u001b[39m []\n",
      "\u001b[1;31mFileNotFoundError\u001b[0m: [Errno 2] No such file or directory: 'ConagraPerfect.json'"
     ]
    }
   ],
   "source": [
    "# Read JSON file\n",
    "data = open_json(file_name=\"ConagraPerfect.json\")\n",
    "\n",
    "data = data[0]\n",
    "data\n",
    "\n",
    "df = convert_json_csv(data=data, download=True)\n",
    "display(df)\n",
    "\n",
    "for d in range(1, len(lst)):\n",
    "    if len(data[d]) > 0:\n",
    "        new_df = convert_json_csv(data=data[d], download=False)\n",
    "        df = pd.concat([df, new_df])\n",
    "\n",
    "display(df)\n",
    "df.to_csv(\"output.csv\")"
   ]
  },
  {
   "cell_type": "code",
   "execution_count": null,
   "id": "b8074315",
   "metadata": {},
   "outputs": [],
   "source": []
  }
 ],
 "metadata": {
  "kernelspec": {
   "display_name": "Python 3",
   "language": "python",
   "name": "python3"
  },
  "language_info": {
   "codemirror_mode": {
    "name": "ipython",
    "version": 3
   },
   "file_extension": ".py",
   "mimetype": "text/x-python",
   "name": "python",
   "nbconvert_exporter": "python",
   "pygments_lexer": "ipython3",
   "version": "3.7.10"
  }
 },
 "nbformat": 4,
 "nbformat_minor": 5
}
