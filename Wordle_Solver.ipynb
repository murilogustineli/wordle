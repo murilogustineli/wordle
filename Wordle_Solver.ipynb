{
 "cells": [
  {
   "cell_type": "markdown",
   "id": "cd86ed2e",
   "metadata": {},
   "source": [
    "# Wordle Solver"
   ]
  },
  {
   "cell_type": "code",
   "execution_count": 1,
   "id": "dde45938",
   "metadata": {},
   "outputs": [],
   "source": [
    "%run -i wordle_functions.py"
   ]
  },
  {
   "cell_type": "code",
   "execution_count": 2,
   "id": "33b529e6",
   "metadata": {},
   "outputs": [],
   "source": [
    "# help(main)"
   ]
  },
  {
   "cell_type": "code",
   "execution_count": 3,
   "id": "1a862c91",
   "metadata": {},
   "outputs": [
    {
     "name": "stdout",
     "output_type": "stream",
     "text": [
      "['layer']\n"
     ]
    }
   ],
   "source": [
    "# Main function that returns a list of possible words\n",
    "green_letters = ''\n",
    "green_positions = []\n",
    "yellow_letters = 'RAEALY'\n",
    "yellow_positions = [2,3,5,1,4,5]\n",
    "bad_letters = 'CNPT'\n",
    "\n",
    "# Main function that returns a list of possible words\n",
    "words = main(green_letters, green_positions, yellow_letters, yellow_positions, bad_letters)\n",
    "print(words)"
   ]
  },
  {
   "cell_type": "code",
   "execution_count": 4,
   "id": "07fabf77",
   "metadata": {},
   "outputs": [
    {
     "name": "stdout",
     "output_type": "stream",
     "text": [
      "Letters  Count\n",
      "      L      1\n",
      "      A      1\n",
      "      Y      1\n",
      "      E      1\n",
      "      R      1\n"
     ]
    }
   ],
   "source": [
    "# Repetitive letters\n",
    "letters_df = repetitive_letters(wordle_list=words)\n",
    "print(letters_df.to_string(index=False))"
   ]
  },
  {
   "cell_type": "markdown",
   "id": "1f7f9798",
   "metadata": {
    "tags": []
   },
   "source": [
    "#### Good words:\n",
    "SALET, CRANE, SHOUT, AUDIO, SLICE, SLICK, SPLIT, STUDY, INCUR, CHOIR, CROWN, CROWD, CRONE, POISE, OLIVE, DUNCE, BINGO, BISON, MIDST, SPOUT"
   ]
  },
  {
   "cell_type": "code",
   "execution_count": 5,
   "id": "d0754247",
   "metadata": {},
   "outputs": [],
   "source": [
    "# GLEAN, LADEN, NAVEL, PANEL, PENAL"
   ]
  },
  {
   "cell_type": "code",
   "execution_count": 6,
   "id": "87f44000",
   "metadata": {},
   "outputs": [
    {
     "name": "stdout",
     "output_type": "stream",
     "text": [
      "['aptly']\n"
     ]
    }
   ],
   "source": [
    "# Main function that returns a list of possible words\n",
    "green_letters = ''\n",
    "green_positions = []\n",
    "yellow_letters = 'TLPY'\n",
    "yellow_positions = []\n",
    "bad_letters = ''\n",
    "\n",
    "# Main function that returns a list of possible words\n",
    "words = main(green_letters, green_positions, yellow_letters, yellow_positions, bad_letters)\n",
    "print(words)"
   ]
  },
  {
   "cell_type": "code",
   "execution_count": 7,
   "id": "fa9a8f89",
   "metadata": {},
   "outputs": [],
   "source": [
    "# help(score)"
   ]
  },
  {
   "cell_type": "code",
   "execution_count": 8,
   "id": "ac58f55f",
   "metadata": {},
   "outputs": [
    {
     "data": {
      "text/html": [
       "<div>\n",
       "<style scoped>\n",
       "    .dataframe tbody tr th:only-of-type {\n",
       "        vertical-align: middle;\n",
       "    }\n",
       "\n",
       "    .dataframe tbody tr th {\n",
       "        vertical-align: top;\n",
       "    }\n",
       "\n",
       "    .dataframe thead th {\n",
       "        text-align: right;\n",
       "    }\n",
       "</style>\n",
       "<table border=\"1\" class=\"dataframe\">\n",
       "  <thead>\n",
       "    <tr style=\"text-align: right;\">\n",
       "      <th></th>\n",
       "      <th>Names</th>\n",
       "      <th>Games_Won</th>\n",
       "    </tr>\n",
       "  </thead>\n",
       "  <tbody>\n",
       "    <tr>\n",
       "      <th>0</th>\n",
       "      <td>Murilo</td>\n",
       "      <td>83</td>\n",
       "    </tr>\n",
       "    <tr>\n",
       "      <th>1</th>\n",
       "      <td>Barbara</td>\n",
       "      <td>34</td>\n",
       "    </tr>\n",
       "    <tr>\n",
       "      <th>2</th>\n",
       "      <td>Draw</td>\n",
       "      <td>70</td>\n",
       "    </tr>\n",
       "  </tbody>\n",
       "</table>\n",
       "</div>"
      ],
      "text/plain": [
       "     Names  Games_Won\n",
       "0   Murilo         83\n",
       "1  Barbara         34\n",
       "2     Draw         70"
      ]
     },
     "execution_count": 8,
     "metadata": {},
     "output_type": "execute_result"
    }
   ],
   "source": [
    "df = load_data(file_name='wordle_ranking.csv')\n",
    "df"
   ]
  },
  {
   "cell_type": "code",
   "execution_count": 9,
   "id": "9bcf5433",
   "metadata": {},
   "outputs": [
    {
     "name": "stdin",
     "output_type": "stream",
     "text": [
      "Who won the game? Murilo, Barbara, or Draw?     \n",
      "Enter 'M' if Murilo won.     \n",
      "Enter 'B' if Barbara won.     \n",
      "Enter 'D' if it was a Draw.     \n",
      "Please enter [M/B/D]: M\n"
     ]
    },
    {
     "data": {
      "text/html": [
       "<div>\n",
       "<style scoped>\n",
       "    .dataframe tbody tr th:only-of-type {\n",
       "        vertical-align: middle;\n",
       "    }\n",
       "\n",
       "    .dataframe tbody tr th {\n",
       "        vertical-align: top;\n",
       "    }\n",
       "\n",
       "    .dataframe thead th {\n",
       "        text-align: right;\n",
       "    }\n",
       "</style>\n",
       "<table border=\"1\" class=\"dataframe\">\n",
       "  <thead>\n",
       "    <tr style=\"text-align: right;\">\n",
       "      <th></th>\n",
       "      <th>Names</th>\n",
       "      <th>Games_Won</th>\n",
       "    </tr>\n",
       "  </thead>\n",
       "  <tbody>\n",
       "    <tr>\n",
       "      <th>0</th>\n",
       "      <td>Murilo</td>\n",
       "      <td>84</td>\n",
       "    </tr>\n",
       "    <tr>\n",
       "      <th>1</th>\n",
       "      <td>Barbara</td>\n",
       "      <td>34</td>\n",
       "    </tr>\n",
       "    <tr>\n",
       "      <th>2</th>\n",
       "      <td>Draw</td>\n",
       "      <td>70</td>\n",
       "    </tr>\n",
       "  </tbody>\n",
       "</table>\n",
       "</div>"
      ],
      "text/plain": [
       "     Names  Games_Won\n",
       "0   Murilo         84\n",
       "1  Barbara         34\n",
       "2     Draw         70"
      ]
     },
     "execution_count": 9,
     "metadata": {},
     "output_type": "execute_result"
    }
   ],
   "source": [
    "# Update score\n",
    "score_df = score()\n",
    "score_df"
   ]
  },
  {
   "cell_type": "code",
   "execution_count": 10,
   "id": "68bca24a",
   "metadata": {},
   "outputs": [
    {
     "name": "stdout",
     "output_type": "stream",
     "text": [
      "  Names  Games_Won\n",
      " Murilo         84\n",
      "Barbara         34\n",
      "   Draw         70\n"
     ]
    }
   ],
   "source": [
    "# Print results\n",
    "print(score_df.to_string(index=False))"
   ]
  },
  {
   "cell_type": "code",
   "execution_count": 11,
   "id": "78647b3a",
   "metadata": {},
   "outputs": [],
   "source": [
    "# help(reset_score)"
   ]
  },
  {
   "cell_type": "markdown",
   "id": "3afcdbae",
   "metadata": {
    "tags": []
   },
   "source": [
    "#### Set custom score"
   ]
  },
  {
   "cell_type": "code",
   "execution_count": 12,
   "id": "65d15bf0",
   "metadata": {},
   "outputs": [],
   "source": [
    "# help(set_score)"
   ]
  },
  {
   "cell_type": "code",
   "execution_count": 13,
   "id": "83f21710",
   "metadata": {},
   "outputs": [],
   "source": [
    "# # Set custom score\n",
    "# df = set_score(m_score=21, b_score=10, draw_score=18)\n",
    "# df"
   ]
  },
  {
   "cell_type": "markdown",
   "id": "99a87e1f",
   "metadata": {},
   "source": [
    "#### Reset score"
   ]
  },
  {
   "cell_type": "code",
   "execution_count": 14,
   "id": "75742648",
   "metadata": {
    "tags": []
   },
   "outputs": [],
   "source": [
    "## Reset score\n",
    "# reset_score()"
   ]
  },
  {
   "cell_type": "code",
   "execution_count": null,
   "id": "caef1180",
   "metadata": {},
   "outputs": [],
   "source": []
  },
  {
   "cell_type": "code",
   "execution_count": null,
   "id": "78d81d10",
   "metadata": {
    "tags": []
   },
   "outputs": [],
   "source": []
  },
  {
   "cell_type": "code",
   "execution_count": 15,
   "id": "5297165e",
   "metadata": {},
   "outputs": [],
   "source": [
    "# Convert JSON to CSV\n",
    "import json\n",
    "import pandas as pd"
   ]
  },
  {
   "cell_type": "code",
   "execution_count": 16,
   "id": "77edee1d",
   "metadata": {},
   "outputs": [],
   "source": [
    "def open_json(file_name: str) -> list:\n",
    "    # Opening JSON file and loading the data into the variable data\n",
    "    with open(file_name) as json_file:\n",
    "        json_file = json.load(json_file)\n",
    "    \n",
    "    data = []\n",
    "    for i in json_file['statusSteps']:\n",
    "        data.append(i['notificationOptions']['notifyOnAttributeSelection'])\n",
    "        \n",
    "    return data"
   ]
  },
  {
   "cell_type": "code",
   "execution_count": 17,
   "id": "4ce45375",
   "metadata": {},
   "outputs": [],
   "source": [
    "def convert_json_csv(data: list, download=False) -> pd.DataFrame:\n",
    "    dic = {}\n",
    "    \n",
    "    # Loop through list and convert to dictionary\n",
    "    for row in data:  # iterate every row\n",
    "        for key in row:\n",
    "            if type(row[key]) != dict:  # if key is not a dictionary type object\n",
    "                if key not in dic.keys():  # if key not in dictionary\n",
    "                    dic[key] = [row[key]]\n",
    "                else:\n",
    "                    dic[key].append(row[key])  # add element to dictionary key\n",
    "            else:\n",
    "                for ele in row[key]:  # iterate nested dictionary\n",
    "                    sub_dic = row[key]\n",
    "                    if ele not in dic.keys():  # if key is not in dictionary\n",
    "                        dic[ele] = [sub_dic[ele]]\n",
    "                    else:\n",
    "                        dic[ele].append(sub_dic[ele])  # add element to dictionary key\n",
    "    \n",
    "    # Convert dictionary to pandas DF\n",
    "    df = pd.DataFrame(dic)\n",
    "    \n",
    "    # Download CSV\n",
    "    if download:\n",
    "        df.to_csv(\"output.csv\")\n",
    "    \n",
    "    return df"
   ]
  },
  {
   "cell_type": "code",
   "execution_count": 18,
   "id": "755f0540",
   "metadata": {},
   "outputs": [],
   "source": [
    "# Call functions\n",
    "def convert(file_name=\"ConagraPerfect.json\"):\n",
    "    data = open_json(file_name=file_name)\n",
    "    df = convert_json_csv(data=data, download=False)\n",
    "    display(df)"
   ]
  },
  {
   "cell_type": "code",
   "execution_count": null,
   "id": "2d327d56",
   "metadata": {},
   "outputs": [],
   "source": [
    "# Read JSON file\n",
    "data = open_json(file_name=\"ConagraPerfect.json\")\n",
    "\n",
    "data = data[0]\n",
    "data\n",
    "\n",
    "df = convert_json_csv(data=data, download=True)\n",
    "display(df)\n",
    "\n",
    "for d in range(1, len(lst)):\n",
    "    if len(data[d]) > 0:\n",
    "        new_df = convert_json_csv(data=data[d], download=False)\n",
    "        df = pd.concat([df, new_df])\n",
    "\n",
    "display(df)\n",
    "df.to_csv(\"output.csv\")"
   ]
  },
  {
   "cell_type": "code",
   "execution_count": null,
   "id": "afd79f9c",
   "metadata": {},
   "outputs": [],
   "source": []
  }
 ],
 "metadata": {
  "kernelspec": {
   "display_name": "Python 3 (ipykernel)",
   "language": "python",
   "name": "python3"
  },
  "language_info": {
   "codemirror_mode": {
    "name": "ipython",
    "version": 3
   },
   "file_extension": ".py",
   "mimetype": "text/x-python",
   "name": "python",
   "nbconvert_exporter": "python",
   "pygments_lexer": "ipython3",
   "version": "3.9.12"
  }
 },
 "nbformat": 4,
 "nbformat_minor": 5
}
