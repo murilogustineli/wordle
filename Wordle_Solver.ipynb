{
 "cells": [
  {
   "cell_type": "markdown",
   "id": "3933667c",
   "metadata": {},
   "source": [
    "# Wordle Solver"
   ]
  },
  {
   "cell_type": "code",
   "execution_count": 1,
   "id": "266ac9f6",
   "metadata": {},
   "outputs": [],
   "source": [
    "%run -i wordle_functions.py"
   ]
  },
  {
   "cell_type": "code",
   "execution_count": 2,
   "id": "370e403f",
   "metadata": {},
   "outputs": [],
   "source": [
    "# help(main)"
   ]
  },
  {
   "cell_type": "code",
   "execution_count": 30,
   "id": "7b35e8dd",
   "metadata": {},
   "outputs": [
    {
     "name": "stdout",
     "output_type": "stream",
     "text": [
      "['aorta']\n"
     ]
    }
   ],
   "source": [
    "# Main function that returns a list of possible words\n",
    "green_letters = 'O'\n",
    "green_positions = [2]\n",
    "yellow_letters = 'RAT'\n",
    "yellow_positions = [2,3,3]\n",
    "bad_letters = 'CNEHLY'\n",
    "\n",
    "# Main function that returns a list of possible words\n",
    "words = main(green_letters, green_positions, yellow_letters, yellow_positions, bad_letters)\n",
    "print(words)"
   ]
  },
  {
   "cell_type": "code",
   "execution_count": 31,
   "id": "ce70cfb2-d50c-43a5-b70f-41ec364498ce",
   "metadata": {},
   "outputs": [
    {
     "name": "stdout",
     "output_type": "stream",
     "text": [
      "Letters  Count\n",
      "      A      2\n",
      "      O      1\n",
      "      R      1\n",
      "      T      1\n"
     ]
    }
   ],
   "source": [
    "# Repetitive letters\n",
    "letters_df = repetitive_letters(wordle_list=words)\n",
    "print(letters_df.to_string(index=False))"
   ]
  },
  {
   "cell_type": "markdown",
   "id": "be5e0d9b",
   "metadata": {
    "tags": []
   },
   "source": [
    "#### Good words:\n",
    "SALET, CRANE, SHOUT, AUDIO, SLICE, SLICK, SPLIT, STUDY, INCUR, CHOIR, CROWN, CROWD, CRONE, POISE, OLIVE, DUNCE, BINGO, BISON, MIDST, SPOUT"
   ]
  },
  {
   "cell_type": "code",
   "execution_count": 32,
   "id": "9f244f5f",
   "metadata": {},
   "outputs": [],
   "source": [
    "# GLEAN, LADEN, NAVEL, PANEL, PENAL"
   ]
  },
  {
   "cell_type": "code",
   "execution_count": 33,
   "id": "acfb6579",
   "metadata": {},
   "outputs": [
    {
     "name": "stdout",
     "output_type": "stream",
     "text": [
      "['hotly', 'lofty']\n"
     ]
    }
   ],
   "source": [
    "# Main function that returns a list of possible words\n",
    "green_letters = ''\n",
    "green_positions = []\n",
    "yellow_letters = 'OYLT'\n",
    "yellow_positions = []\n",
    "bad_letters = ''\n",
    "\n",
    "# Main function that returns a list of possible words\n",
    "words = main(green_letters, green_positions, yellow_letters, yellow_positions, bad_letters)\n",
    "print(words)"
   ]
  },
  {
   "cell_type": "code",
   "execution_count": 7,
   "id": "b33d1ce8",
   "metadata": {},
   "outputs": [],
   "source": [
    "# help(score)"
   ]
  },
  {
   "cell_type": "code",
   "execution_count": 8,
   "id": "b790bd07",
   "metadata": {},
   "outputs": [
    {
     "data": {
      "text/html": [
       "<div>\n",
       "<style scoped>\n",
       "    .dataframe tbody tr th:only-of-type {\n",
       "        vertical-align: middle;\n",
       "    }\n",
       "\n",
       "    .dataframe tbody tr th {\n",
       "        vertical-align: top;\n",
       "    }\n",
       "\n",
       "    .dataframe thead th {\n",
       "        text-align: right;\n",
       "    }\n",
       "</style>\n",
       "<table border=\"1\" class=\"dataframe\">\n",
       "  <thead>\n",
       "    <tr style=\"text-align: right;\">\n",
       "      <th></th>\n",
       "      <th>Names</th>\n",
       "      <th>Games_Won</th>\n",
       "    </tr>\n",
       "  </thead>\n",
       "  <tbody>\n",
       "    <tr>\n",
       "      <th>0</th>\n",
       "      <td>Murilo</td>\n",
       "      <td>79</td>\n",
       "    </tr>\n",
       "    <tr>\n",
       "      <th>1</th>\n",
       "      <td>Barbara</td>\n",
       "      <td>33</td>\n",
       "    </tr>\n",
       "    <tr>\n",
       "      <th>2</th>\n",
       "      <td>Draw</td>\n",
       "      <td>65</td>\n",
       "    </tr>\n",
       "  </tbody>\n",
       "</table>\n",
       "</div>"
      ],
      "text/plain": [
       "     Names  Games_Won\n",
       "0   Murilo         79\n",
       "1  Barbara         33\n",
       "2     Draw         65"
      ]
     },
     "execution_count": 8,
     "metadata": {},
     "output_type": "execute_result"
    }
   ],
   "source": [
    "df = load_data(file_name='wordle_ranking.csv')\n",
    "df"
   ]
  },
  {
   "cell_type": "code",
   "execution_count": 9,
   "id": "698f5b65",
   "metadata": {},
   "outputs": [
    {
     "name": "stdin",
     "output_type": "stream",
     "text": [
      "Who won the game? Murilo, Barbara, or Draw?     \n",
      "Enter 'M' if Murilo won.     \n",
      "Enter 'B' if Barbara won.     \n",
      "Enter 'D' if it was a Draw.     \n",
      "Please enter [M/B/D]: D\n"
     ]
    },
    {
     "data": {
      "text/html": [
       "<div>\n",
       "<style scoped>\n",
       "    .dataframe tbody tr th:only-of-type {\n",
       "        vertical-align: middle;\n",
       "    }\n",
       "\n",
       "    .dataframe tbody tr th {\n",
       "        vertical-align: top;\n",
       "    }\n",
       "\n",
       "    .dataframe thead th {\n",
       "        text-align: right;\n",
       "    }\n",
       "</style>\n",
       "<table border=\"1\" class=\"dataframe\">\n",
       "  <thead>\n",
       "    <tr style=\"text-align: right;\">\n",
       "      <th></th>\n",
       "      <th>Names</th>\n",
       "      <th>Games_Won</th>\n",
       "    </tr>\n",
       "  </thead>\n",
       "  <tbody>\n",
       "    <tr>\n",
       "      <th>0</th>\n",
       "      <td>Murilo</td>\n",
       "      <td>79</td>\n",
       "    </tr>\n",
       "    <tr>\n",
       "      <th>1</th>\n",
       "      <td>Barbara</td>\n",
       "      <td>33</td>\n",
       "    </tr>\n",
       "    <tr>\n",
       "      <th>2</th>\n",
       "      <td>Draw</td>\n",
       "      <td>66</td>\n",
       "    </tr>\n",
       "  </tbody>\n",
       "</table>\n",
       "</div>"
      ],
      "text/plain": [
       "     Names  Games_Won\n",
       "0   Murilo         79\n",
       "1  Barbara         33\n",
       "2     Draw         66"
      ]
     },
     "execution_count": 9,
     "metadata": {},
     "output_type": "execute_result"
    }
   ],
   "source": [
    "# Update score\n",
    "score_df = score()\n",
    "score_df"
   ]
  },
  {
   "cell_type": "code",
   "execution_count": 10,
   "id": "fba7aae0",
   "metadata": {},
   "outputs": [
    {
     "name": "stdout",
     "output_type": "stream",
     "text": [
      "  Names  Games_Won\n",
      " Murilo         79\n",
      "Barbara         33\n",
      "   Draw         66\n"
     ]
    }
   ],
   "source": [
    "# Print results\n",
    "print(score_df.to_string(index=False))"
   ]
  },
  {
   "cell_type": "code",
   "execution_count": 11,
   "id": "ced1255c",
   "metadata": {},
   "outputs": [],
   "source": [
    "# help(reset_score)"
   ]
  },
  {
   "cell_type": "markdown",
   "id": "ace4f35e",
   "metadata": {
    "tags": []
   },
   "source": [
    "#### Set custom score"
   ]
  },
  {
   "cell_type": "code",
   "execution_count": 12,
   "id": "3b292e25-097b-4790-82c1-b4ee9d2fa36c",
   "metadata": {},
   "outputs": [],
   "source": [
    "# help(set_score)"
   ]
  },
  {
   "cell_type": "code",
   "execution_count": 13,
   "id": "09c035a9",
   "metadata": {},
   "outputs": [],
   "source": [
    "# # Set custom score\n",
    "# df = set_score(m_score=21, b_score=10, draw_score=18)\n",
    "# df"
   ]
  },
  {
   "cell_type": "markdown",
   "id": "5d9c2f0a",
   "metadata": {},
   "source": [
    "#### Reset score"
   ]
  },
  {
   "cell_type": "code",
   "execution_count": 14,
   "id": "319f3af2",
   "metadata": {
    "tags": []
   },
   "outputs": [],
   "source": [
    "## Reset score\n",
    "# reset_score()"
   ]
  },
  {
   "cell_type": "code",
   "execution_count": null,
   "id": "e0b8838c-117a-4698-86ff-5ab361424d26",
   "metadata": {},
   "outputs": [],
   "source": []
  },
  {
   "cell_type": "code",
   "execution_count": null,
   "id": "c0b3c2c0-b49a-4b6d-9f13-c7ad94202e03",
   "metadata": {},
   "outputs": [],
   "source": []
  },
  {
   "cell_type": "code",
   "execution_count": 93,
   "id": "d6dbbaa6-2bbf-4196-afa9-6d2e2fbf06b8",
   "metadata": {},
   "outputs": [],
   "source": [
    "data = [{'roleId': '6140c2afce30fa000ecaa054', 'isForCreator': False, 'attributeRequirement': {'storedAs': 'notificationPlant', 'dataType': 'list', 'operator': 'isOneOf', 'values': ['Archbold']}},\n",
    "        {'roleId': '612691d2ddcaab000f4a9b21', 'isForCreator': False, 'attributeRequirement': {'storedAs': 'notificationPlant', 'dataType': 'list', 'operator': 'isOneOf', 'values': ['Aurora']}},\n",
    "        {'roleId': '6140c265ce30fa000ecaa03e', 'isForCreator': False, 'attributeRequirement': {'storedAs': 'notificationPlant', 'dataType': 'list', 'operator': 'isOneOf', 'values': ['Beaver Dam']}},\n",
    "        {'roleId': '6140c60a0d3863000f5478ea', 'isForCreator': False, 'attributeRequirement': {'storedAs': 'notificationPlant', 'dataType': 'list', 'operator': 'isOneOf', 'values': ['Boisbriand']}},\n",
    "        {'roleId': '6140c643f0fe6a000e4fe3d0', 'isForCreator': False, 'attributeRequirement': {'storedAs': 'notificationPlant', 'dataType': 'list', 'operator': 'isOneOf', 'values': ['Brookston']}},\n",
    "        {'roleId': '6140c65a0d3863000f54792b', 'isForCreator': False, 'attributeRequirement': {'storedAs': 'notificationPlant', 'dataType': 'list', 'operator': 'isOneOf', 'values': ['Centralia']}}]"
   ]
  },
  {
   "cell_type": "code",
   "execution_count": 140,
   "id": "4a989774-a289-4b80-b9e1-eb0121f164a1",
   "metadata": {},
   "outputs": [],
   "source": [
    "import json\n",
    "import csv\n",
    "\n",
    "def open_json(file_name: str) -> list:\n",
    "    # Opening JSON file and loading the data into the variable data\n",
    "    with open(file_name) as json_file:\n",
    "        data = json.load(json_file)\n",
    "    return data\n",
    "\n",
    "def convert_json_csv(data: list, download=False) -> pd.DataFrame:\n",
    "    dic = {}\n",
    "    \n",
    "    # Loop through list and convert to dictionary\n",
    "    for row in data:  # iterate every row\n",
    "        for key in row:\n",
    "            if type(row[key]) != dict:  # if key is not a dictionary type object\n",
    "                if key not in dic.keys():  # if key not in dictionary\n",
    "                    dic[key] = [row[key]]\n",
    "                else:\n",
    "                    dic[key].append(row[key])  # add element to dictionary key\n",
    "            else:\n",
    "                for ele in row[key]:  # iterate nested dictionary\n",
    "                    sub_dic = row[key]\n",
    "                    if ele not in dic.keys():  # if key is not in dictionary\n",
    "                        dic[ele] = [sub_dic[ele]]\n",
    "                    else:\n",
    "                        dic[ele].append(sub_dic[ele])  # add element to dictionary key\n",
    "    \n",
    "    # Convert dictionary to pandas DF\n",
    "    df = pd.DataFrame(dic)\n",
    "    \n",
    "    # Download CSV\n",
    "    if download:\n",
    "        df.to_csv(\"output.csv\")\n",
    "    \n",
    "    return df"
   ]
  },
  {
   "cell_type": "code",
   "execution_count": 142,
   "id": "77c9b455-4477-4b72-8b9d-68440979790b",
   "metadata": {},
   "outputs": [
    {
     "data": {
      "text/html": [
       "<div>\n",
       "<style scoped>\n",
       "    .dataframe tbody tr th:only-of-type {\n",
       "        vertical-align: middle;\n",
       "    }\n",
       "\n",
       "    .dataframe tbody tr th {\n",
       "        vertical-align: top;\n",
       "    }\n",
       "\n",
       "    .dataframe thead th {\n",
       "        text-align: right;\n",
       "    }\n",
       "</style>\n",
       "<table border=\"1\" class=\"dataframe\">\n",
       "  <thead>\n",
       "    <tr style=\"text-align: right;\">\n",
       "      <th></th>\n",
       "      <th>roleId</th>\n",
       "      <th>isForCreator</th>\n",
       "      <th>storedAs</th>\n",
       "      <th>dataType</th>\n",
       "      <th>operator</th>\n",
       "      <th>values</th>\n",
       "    </tr>\n",
       "  </thead>\n",
       "  <tbody>\n",
       "    <tr>\n",
       "      <th>0</th>\n",
       "      <td>6140c2afce30fa000ecaa054</td>\n",
       "      <td>False</td>\n",
       "      <td>notificationPlant</td>\n",
       "      <td>list</td>\n",
       "      <td>isOneOf</td>\n",
       "      <td>[Archbold]</td>\n",
       "    </tr>\n",
       "    <tr>\n",
       "      <th>1</th>\n",
       "      <td>612691d2ddcaab000f4a9b21</td>\n",
       "      <td>False</td>\n",
       "      <td>notificationPlant</td>\n",
       "      <td>list</td>\n",
       "      <td>isOneOf</td>\n",
       "      <td>[Aurora]</td>\n",
       "    </tr>\n",
       "    <tr>\n",
       "      <th>2</th>\n",
       "      <td>6140c265ce30fa000ecaa03e</td>\n",
       "      <td>False</td>\n",
       "      <td>notificationPlant</td>\n",
       "      <td>list</td>\n",
       "      <td>isOneOf</td>\n",
       "      <td>[Beaver Dam]</td>\n",
       "    </tr>\n",
       "    <tr>\n",
       "      <th>3</th>\n",
       "      <td>6140c60a0d3863000f5478ea</td>\n",
       "      <td>False</td>\n",
       "      <td>notificationPlant</td>\n",
       "      <td>list</td>\n",
       "      <td>isOneOf</td>\n",
       "      <td>[Boisbriand]</td>\n",
       "    </tr>\n",
       "    <tr>\n",
       "      <th>4</th>\n",
       "      <td>6140c643f0fe6a000e4fe3d0</td>\n",
       "      <td>False</td>\n",
       "      <td>notificationPlant</td>\n",
       "      <td>list</td>\n",
       "      <td>isOneOf</td>\n",
       "      <td>[Brookston]</td>\n",
       "    </tr>\n",
       "    <tr>\n",
       "      <th>5</th>\n",
       "      <td>6140c65a0d3863000f54792b</td>\n",
       "      <td>False</td>\n",
       "      <td>notificationPlant</td>\n",
       "      <td>list</td>\n",
       "      <td>isOneOf</td>\n",
       "      <td>[Centralia]</td>\n",
       "    </tr>\n",
       "  </tbody>\n",
       "</table>\n",
       "</div>"
      ],
      "text/plain": [
       "                     roleId  isForCreator           storedAs dataType  \\\n",
       "0  6140c2afce30fa000ecaa054         False  notificationPlant     list   \n",
       "1  612691d2ddcaab000f4a9b21         False  notificationPlant     list   \n",
       "2  6140c265ce30fa000ecaa03e         False  notificationPlant     list   \n",
       "3  6140c60a0d3863000f5478ea         False  notificationPlant     list   \n",
       "4  6140c643f0fe6a000e4fe3d0         False  notificationPlant     list   \n",
       "5  6140c65a0d3863000f54792b         False  notificationPlant     list   \n",
       "\n",
       "  operator        values  \n",
       "0  isOneOf    [Archbold]  \n",
       "1  isOneOf      [Aurora]  \n",
       "2  isOneOf  [Beaver Dam]  \n",
       "3  isOneOf  [Boisbriand]  \n",
       "4  isOneOf   [Brookston]  \n",
       "5  isOneOf   [Centralia]  "
      ]
     },
     "metadata": {},
     "output_type": "display_data"
    }
   ],
   "source": [
    "data = open_json(file_name=\"data.json\")\n",
    "df = convert_json_csv(data=data, download=False)\n",
    "display(df)"
   ]
  },
  {
   "cell_type": "code",
   "execution_count": null,
   "id": "dece94bb-f34a-456c-9c94-8fe6a31eb469",
   "metadata": {},
   "outputs": [],
   "source": []
  },
  {
   "cell_type": "code",
   "execution_count": null,
   "id": "117b558c-9b03-406b-9622-e31417e09fa5",
   "metadata": {},
   "outputs": [],
   "source": []
  }
 ],
 "metadata": {
  "kernelspec": {
   "display_name": "Python 3 (ipykernel)",
   "language": "python",
   "name": "python3"
  },
  "language_info": {
   "codemirror_mode": {
    "name": "ipython",
    "version": 3
   },
   "file_extension": ".py",
   "mimetype": "text/x-python",
   "name": "python",
   "nbconvert_exporter": "python",
   "pygments_lexer": "ipython3",
   "version": "3.9.12"
  }
 },
 "nbformat": 4,
 "nbformat_minor": 5
}
