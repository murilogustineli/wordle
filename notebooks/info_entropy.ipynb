{
 "cells": [
  {
   "cell_type": "markdown",
   "metadata": {},
   "source": [
    "# Information Entropy\n",
    "\n",
    "## 1. Understanding Information Entropy\n",
    "**Information entropy**, introduced by Claude Shannon, _is a measure of the uncertainty or randomness in a set of possible outcomes_. In the context of Wordle, entropy quantifies the expected information you would gain from making a particular guess, based on how it partitions the remaining possible words.\n",
    "\n",
    "### Why Use Entropy in Wordle?\n",
    "\n",
    "In Wordle, each guess provides feedback that narrows down the list of possible answers. By choosing a word that maximizes the expected information gain (entropy), you can eliminate the largest number of potential words, leading you closer to the solution more efficiently.\n",
    "\n",
    "**Key Concepts:**\n",
    "- **Probability Distribution:** The likelihood of each possible outcome.\n",
    "- **Expected Information Gain:** The average amount of information you expect to gain from a guess.\n",
    "\n",
    "## 2. Applying Entropy to Wordle\n",
    "\n",
    "**How to Calculate Entropy for a Guess**\n",
    "1. Possible Outcomes: For each guess, consider all possible feedback patterns (e.g., positions of green, yellow, and gray letters).\n",
    "\n",
    "2. Partitioning the Word List: Each feedback pattern partitions the remaining possible words into subsets. Words that would produce the same feedback form a group.\n",
    "\n",
    "3. Calculating Probabilities: For each feedback pattern, calculate the probability that it will occur, based on the current list of possible answers.\n",
    "\n",
    "4. Entropy Formula:\n",
    "$$\\large\n",
    "\\text { Entropy }=-\\sum_i p_i \\log _2 p_i\n",
    "$$\n",
    "where $p_i$ is the probability of the $i$-th feedback pattern.\n"
   ]
  },
  {
   "cell_type": "code",
   "execution_count": 1,
   "metadata": {},
   "outputs": [
    {
     "data": {
      "text/plain": [
       "5.702285537930144"
      ]
     },
     "execution_count": 1,
     "metadata": {},
     "output_type": "execute_result"
    }
   ],
   "source": [
    "import math\n",
    "from collections import defaultdict, Counter\n",
    "\n",
    "\n",
    "class Wordle:\n",
    "    def __init__(self):\n",
    "        self.FILE_PATH = \"../wordle/wordle-answers.txt\"\n",
    "        self.words = self.load_words(self.FILE_PATH)\n",
    "        # self.words = [\"about\", \"blink\", \"crane\", \"drove\", \"merge\", \"rayon\"]\n",
    "        self.LEN_WORDS = len(self.words)\n",
    "\n",
    "    def load_words(self, file_path: str) -> list:\n",
    "        with open(file_path, \"r\") as file:\n",
    "            content = file.read()\n",
    "            words = content.split(\"\\n\")\n",
    "        if len(words[-1]) == 0:  # remove empty word after last word from\n",
    "            words.pop()\n",
    "        return words\n",
    "\n",
    "    def simulate_feedback_pattern(self, word_played: str) -> dict:\n",
    "        # hash map of the feedback pattern\n",
    "        feedback_patern = defaultdict(list)\n",
    "        for word in self.words:\n",
    "            for letter in word_played:\n",
    "                if letter not in word:\n",
    "                    feedback_patern[word].append(\"gray\")\n",
    "                elif letter in word and word_played.index(letter) != word.index(letter):\n",
    "                    feedback_patern[word].append(\"yellow\")\n",
    "                elif letter in word_played and word_played.index(letter) == word.index(\n",
    "                    letter\n",
    "                ):\n",
    "                    feedback_patern[word].append(\"green\")\n",
    "        return feedback_patern\n",
    "\n",
    "    # calculate probabilities of feedback pattern\n",
    "    def calculate_probabilities(self, feedback_patern) -> dict:\n",
    "        # count the number of each feedback pattern\n",
    "        list_counts = Counter(tuple(lst) for lst in feedback_patern.values())\n",
    "        # calculate the probabilities of each feedback pattern\n",
    "        probabilities = {}\n",
    "        for key, value in list_counts.items():\n",
    "            probabilities[key] = value / self.LEN_WORDS\n",
    "        return probabilities\n",
    "\n",
    "    # calculate the entropy of the probabilities\n",
    "    def compute_entropy(self, probabilities: dict) -> float:\n",
    "        entropy = 0\n",
    "        for prob in probabilities.values():\n",
    "            entropy += -prob * math.log2(prob)\n",
    "        return entropy\n",
    "\n",
    "    # compute entropy for the guess\n",
    "    def compute_entropy_guess(self, word_played: str):\n",
    "        feedback_patern = self.simulate_feedback_pattern(word_played)\n",
    "        probabilities = self.calculate_probabilities(feedback_patern)\n",
    "        entropy = self.compute_entropy(probabilities)\n",
    "        self.entropy = entropy\n",
    "\n",
    "\n",
    "# Initialize the class\n",
    "wordle = Wordle()\n",
    "wordle.compute_entropy_guess(\"crane\")  # make a guess\n",
    "wordle.entropy"
   ]
  },
  {
   "cell_type": "code",
   "execution_count": 2,
   "metadata": {},
   "outputs": [
    {
     "data": {
      "text/plain": [
       "2.584962500721156"
      ]
     },
     "execution_count": 2,
     "metadata": {},
     "output_type": "execute_result"
    }
   ],
   "source": [
    "import math\n",
    "from collections import defaultdict, Counter\n",
    "\n",
    "# words = load_words(FILE_PATH)\n",
    "words = [\"about\", \"blink\", \"crane\", \"drove\", \"merge\", \"rayon\"]\n",
    "secret = \"rayon\"\n",
    "word_played = \"crane\"\n",
    "\n",
    "# hash map of the feedback pattern\n",
    "feedback_patern = defaultdict(list)\n",
    "for word in words:\n",
    "    for letter in word_played:\n",
    "        if letter not in word:\n",
    "            feedback_patern[word].append(\"gray\")\n",
    "        elif letter in word and word_played.index(letter) != word.index(letter):\n",
    "            feedback_patern[word].append(\"yellow\")\n",
    "        elif letter in word_played and word_played.index(letter) == word.index(letter):\n",
    "            feedback_patern[word].append(\"green\")\n",
    "\n",
    "# count the number of each feedback pattern\n",
    "list_count = Counter(tuple(lst) for lst in feedback_patern.values())\n",
    "# calculate the probabilities of each feedback pattern\n",
    "probabilities = {}\n",
    "for lst, count in list_count.items():\n",
    "    probabilities[lst] = count / len(words)\n",
    "\n",
    "\n",
    "def compute_entropy(probabilities):\n",
    "    entropy = 0\n",
    "    for prob in probabilities.values():\n",
    "        entropy += -prob * math.log2(prob)\n",
    "    return entropy\n",
    "\n",
    "\n",
    "entropy = compute_entropy(probabilities)\n",
    "entropy"
   ]
  },
  {
   "cell_type": "code",
   "execution_count": null,
   "metadata": {},
   "outputs": [],
   "source": []
  },
  {
   "cell_type": "code",
   "execution_count": null,
   "metadata": {},
   "outputs": [],
   "source": []
  }
 ],
 "metadata": {
  "kernelspec": {
   "display_name": ".venv",
   "language": "python",
   "name": "python3"
  },
  "language_info": {
   "codemirror_mode": {
    "name": "ipython",
    "version": 3
   },
   "file_extension": ".py",
   "mimetype": "text/x-python",
   "name": "python",
   "nbconvert_exporter": "python",
   "pygments_lexer": "ipython3",
   "version": "3.9.6"
  }
 },
 "nbformat": 4,
 "nbformat_minor": 2
}
