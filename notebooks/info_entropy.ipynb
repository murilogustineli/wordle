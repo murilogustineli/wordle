{
 "cells": [
  {
   "cell_type": "markdown",
   "metadata": {},
   "source": [
    "# Information Entropy\n",
    "\n",
    "## 1. Understanding Information Entropy\n",
    "**Information entropy**, introduced by Claude Shannon, _is a measure of the uncertainty or randomness in a set of possible outcomes_. In the context of Wordle, entropy quantifies the expected information you would gain from making a particular guess, based on how it partitions the remaining possible words.\n",
    "\n",
    "### Why Use Entropy in Wordle?\n",
    "\n",
    "In Wordle, each guess provides feedback that narrows down the list of possible answers. By choosing a word that maximizes the expected information gain (entropy), you can eliminate the largest number of potential words, leading you closer to the solution more efficiently.\n",
    "\n",
    "**Key Concepts:**\n",
    "- **Probability Distribution:** The likelihood of each possible outcome.\n",
    "- **Expected Information Gain:** The average amount of information you expect to gain from a guess.\n",
    "\n",
    "## 2. Applying Entropy to Wordle\n",
    "\n",
    "**How to Calculate Entropy for a Guess**\n",
    "1. Possible Outcomes: For each guess, consider all possible feedback patterns (e.g., positions of green, yellow, and gray letters).\n",
    "\n",
    "2. Partitioning the Word List: Each feedback pattern partitions the remaining possible words into subsets. Words that would produce the same feedback form a group.\n",
    "\n",
    "3. Calculating Probabilities: For each feedback pattern, calculate the probability that it will occur, based on the current list of possible answers.\n",
    "\n",
    "4. Entropy Formula:\n",
    "$$\\large\n",
    "\\text { Entropy }=-\\sum_i p_i \\log _2 p_i\n",
    "$$\n",
    "where $p_i$ is the probability of the $i$-th feedback pattern.\n"
   ]
  },
  {
   "cell_type": "code",
   "execution_count": null,
   "metadata": {},
   "outputs": [],
   "source": [
    "words = [\"about\", \"blink\", \"crane\", \"drove\", \"merge\", \"rayon\"]\n",
    "secret = \"rayon\"\n",
    "word = \"crane\"\n",
    "\n",
    "yellow_letters = \"ran\"\n",
    "yellow_positions = [2, 3, 4]\n",
    "green_letters = []\n",
    "green_positions = []\n",
    "grey_letters = []"
   ]
  },
  {
   "cell_type": "code",
   "execution_count": null,
   "metadata": {},
   "outputs": [],
   "source": []
  },
  {
   "cell_type": "code",
   "execution_count": null,
   "metadata": {},
   "outputs": [],
   "source": []
  },
  {
   "cell_type": "code",
   "execution_count": null,
   "metadata": {},
   "outputs": [],
   "source": []
  }
 ],
 "metadata": {
  "kernelspec": {
   "display_name": ".venv",
   "language": "python",
   "name": "python3"
  },
  "language_info": {
   "codemirror_mode": {
    "name": "ipython",
    "version": 3
   },
   "file_extension": ".py",
   "mimetype": "text/x-python",
   "name": "python",
   "nbconvert_exporter": "python",
   "pygments_lexer": "ipython3",
   "version": "3.9.6"
  }
 },
 "nbformat": 4,
 "nbformat_minor": 2
}
