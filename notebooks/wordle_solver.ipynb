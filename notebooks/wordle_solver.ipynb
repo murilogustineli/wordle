{
 "cells": [
  {
   "attachments": {},
   "cell_type": "markdown",
   "id": "cd86ed2e",
   "metadata": {},
   "source": [
    "# Wordle Solver"
   ]
  },
  {
   "cell_type": "code",
   "id": "aa0d6171",
   "metadata": {
    "ExecuteTime": {
     "end_time": "2024-11-26T15:36:58.946508Z",
     "start_time": "2024-11-26T15:36:58.681561Z"
    }
   },
   "source": [
    "from wordle.utils import Wordle\n",
    "\n",
    "%load_ext autoreload\n",
    "%autoreload 2"
   ],
   "outputs": [],
   "execution_count": 1
  },
  {
   "cell_type": "markdown",
   "id": "cccd4e6c",
   "metadata": {},
   "source": [
    "### Play Wordle"
   ]
  },
  {
   "cell_type": "code",
   "id": "8de7889c",
   "metadata": {
    "ExecuteTime": {
     "end_time": "2024-11-26T15:36:58.972100Z",
     "start_time": "2024-11-26T15:36:58.957722Z"
    }
   },
   "source": [
    "# Initialize Wordle class\n",
    "wordle = Wordle()\n",
    "\n",
    "# Main function that returns a list of possible words\n",
    "green_letters = \"it\"\n",
    "green_positions = [2, 3]\n",
    "yellow_letters = \"thh\"\n",
    "yellow_positions = [1, 4, 1]\n",
    "gray_letters = \"aremysped\"\n",
    "\n",
    "# Find words in a list of possible words\n",
    "words = wordle.find_words(\n",
    "    green_letters,\n",
    "    green_positions,\n",
    "    yellow_letters,\n",
    "    yellow_positions,\n",
    "    gray_letters,\n",
    "    answer_word_list=True,\n",
    ")\n",
    "\n",
    "# Choose a word to play\n",
    "wordle.choose_word_to_play(word_threshold=2)"
   ],
   "outputs": [
    {
     "name": "stdout",
     "output_type": "stream",
     "text": [
      "Number of possible words: 1\n",
      "witch 0.0\n"
     ]
    }
   ],
   "execution_count": 2
  },
  {
   "cell_type": "code",
   "id": "07fabf77",
   "metadata": {
    "ExecuteTime": {
     "end_time": "2024-11-26T15:36:59.276311Z",
     "start_time": "2024-11-26T15:36:59.073773Z"
    }
   },
   "source": [
    "# Repetitive letters\n",
    "letters_df = wordle.repetitive_letters()\n",
    "print(letters_df.to_string(index=False))"
   ],
   "outputs": [
    {
     "name": "stdout",
     "output_type": "stream",
     "text": [
      "Letters  Count\n",
      "      W      1\n",
      "      I      1\n",
      "      T      1\n",
      "      C      1\n",
      "      H      1\n"
     ]
    }
   ],
   "execution_count": 3
  },
  {
   "cell_type": "code",
   "id": "ac58f55f",
   "metadata": {
    "ExecuteTime": {
     "end_time": "2024-11-26T15:36:59.409322Z",
     "start_time": "2024-11-26T15:36:59.398260Z"
    }
   },
   "source": [
    "df = wordle.load_data()\n",
    "df"
   ],
   "outputs": [
    {
     "data": {
      "text/plain": [
       "     Names  Games_Won\n",
       "0   Murilo        319\n",
       "1  Barbara        134\n",
       "2     Draw        311"
      ],
      "text/html": [
       "<div>\n",
       "<style scoped>\n",
       "    .dataframe tbody tr th:only-of-type {\n",
       "        vertical-align: middle;\n",
       "    }\n",
       "\n",
       "    .dataframe tbody tr th {\n",
       "        vertical-align: top;\n",
       "    }\n",
       "\n",
       "    .dataframe thead th {\n",
       "        text-align: right;\n",
       "    }\n",
       "</style>\n",
       "<table border=\"1\" class=\"dataframe\">\n",
       "  <thead>\n",
       "    <tr style=\"text-align: right;\">\n",
       "      <th></th>\n",
       "      <th>Names</th>\n",
       "      <th>Games_Won</th>\n",
       "    </tr>\n",
       "  </thead>\n",
       "  <tbody>\n",
       "    <tr>\n",
       "      <th>0</th>\n",
       "      <td>Murilo</td>\n",
       "      <td>319</td>\n",
       "    </tr>\n",
       "    <tr>\n",
       "      <th>1</th>\n",
       "      <td>Barbara</td>\n",
       "      <td>134</td>\n",
       "    </tr>\n",
       "    <tr>\n",
       "      <th>2</th>\n",
       "      <td>Draw</td>\n",
       "      <td>311</td>\n",
       "    </tr>\n",
       "  </tbody>\n",
       "</table>\n",
       "</div>"
      ]
     },
     "execution_count": 4,
     "metadata": {},
     "output_type": "execute_result"
    }
   ],
   "execution_count": 4
  },
  {
   "cell_type": "code",
   "id": "9bcf5433",
   "metadata": {
    "ExecuteTime": {
     "end_time": "2024-11-26T15:37:01.078305Z",
     "start_time": "2024-11-26T15:36:59.439704Z"
    }
   },
   "source": [
    "# Update score\n",
    "score_df = wordle.score()\n",
    "score_df"
   ],
   "outputs": [
    {
     "data": {
      "text/plain": [
       "     Names  Games_Won\n",
       "0   Murilo        319\n",
       "1  Barbara        134\n",
       "2     Draw        312"
      ],
      "text/html": [
       "<div>\n",
       "<style scoped>\n",
       "    .dataframe tbody tr th:only-of-type {\n",
       "        vertical-align: middle;\n",
       "    }\n",
       "\n",
       "    .dataframe tbody tr th {\n",
       "        vertical-align: top;\n",
       "    }\n",
       "\n",
       "    .dataframe thead th {\n",
       "        text-align: right;\n",
       "    }\n",
       "</style>\n",
       "<table border=\"1\" class=\"dataframe\">\n",
       "  <thead>\n",
       "    <tr style=\"text-align: right;\">\n",
       "      <th></th>\n",
       "      <th>Names</th>\n",
       "      <th>Games_Won</th>\n",
       "    </tr>\n",
       "  </thead>\n",
       "  <tbody>\n",
       "    <tr>\n",
       "      <th>0</th>\n",
       "      <td>Murilo</td>\n",
       "      <td>319</td>\n",
       "    </tr>\n",
       "    <tr>\n",
       "      <th>1</th>\n",
       "      <td>Barbara</td>\n",
       "      <td>134</td>\n",
       "    </tr>\n",
       "    <tr>\n",
       "      <th>2</th>\n",
       "      <td>Draw</td>\n",
       "      <td>312</td>\n",
       "    </tr>\n",
       "  </tbody>\n",
       "</table>\n",
       "</div>"
      ]
     },
     "execution_count": 5,
     "metadata": {},
     "output_type": "execute_result"
    }
   ],
   "execution_count": 5
  },
  {
   "cell_type": "code",
   "id": "68bca24a",
   "metadata": {
    "ExecuteTime": {
     "end_time": "2024-11-26T15:37:01.139128Z",
     "start_time": "2024-11-26T15:37:01.130245Z"
    }
   },
   "source": [
    "# Print results\n",
    "print(score_df.to_string(index=False))"
   ],
   "outputs": [
    {
     "name": "stdout",
     "output_type": "stream",
     "text": [
      "  Names  Games_Won\n",
      " Murilo        319\n",
      "Barbara        134\n",
      "   Draw        312\n"
     ]
    }
   ],
   "execution_count": 6
  },
  {
   "cell_type": "markdown",
   "id": "0877fdca",
   "metadata": {},
   "source": [
    "#### Git commit message"
   ]
  },
  {
   "cell_type": "code",
   "id": "35fdc04b",
   "metadata": {
    "ExecuteTime": {
     "end_time": "2024-11-26T15:37:01.233725Z",
     "start_time": "2024-11-26T15:37:01.225454Z"
    }
   },
   "source": [
    "# git commit message\n",
    "commit_message = wordle.get_commit_message()\n",
    "print(commit_message)"
   ],
   "outputs": [
    {
     "name": "stdout",
     "output_type": "stream",
     "text": [
      "git commit -m \"updated wordle 319-134-312\"\n"
     ]
    }
   ],
   "execution_count": 7
  },
  {
   "attachments": {},
   "cell_type": "markdown",
   "id": "3afcdbae",
   "metadata": {
    "tags": []
   },
   "source": [
    "#### Set custom score"
   ]
  },
  {
   "cell_type": "code",
   "id": "78647b3a",
   "metadata": {
    "ExecuteTime": {
     "end_time": "2024-11-26T15:37:01.282644Z",
     "start_time": "2024-11-26T15:37:01.274991Z"
    }
   },
   "source": [
    "# help(wordle.reset_score)"
   ],
   "outputs": [],
   "execution_count": 8
  },
  {
   "cell_type": "code",
   "id": "65d15bf0",
   "metadata": {
    "ExecuteTime": {
     "end_time": "2024-11-26T15:37:01.335143Z",
     "start_time": "2024-11-26T15:37:01.327419Z"
    }
   },
   "source": [
    "# help(wordle.set_score)"
   ],
   "outputs": [],
   "execution_count": 9
  },
  {
   "cell_type": "code",
   "id": "83f21710",
   "metadata": {
    "ExecuteTime": {
     "end_time": "2024-11-26T15:37:01.354695Z",
     "start_time": "2024-11-26T15:37:01.347413Z"
    }
   },
   "source": [
    "# # Set custom score\n",
    "# df = wordle.set_score(m_score=311, b_score=132, draw_score=308)\n",
    "# df"
   ],
   "outputs": [],
   "execution_count": 10
  },
  {
   "attachments": {},
   "cell_type": "markdown",
   "id": "99a87e1f",
   "metadata": {},
   "source": [
    "#### Reset score"
   ]
  },
  {
   "cell_type": "code",
   "id": "75742648",
   "metadata": {
    "tags": [],
    "ExecuteTime": {
     "end_time": "2024-11-26T15:37:01.382319Z",
     "start_time": "2024-11-26T15:37:01.375844Z"
    }
   },
   "source": [
    "## Reset score\n",
    "# wordle.reset_score()"
   ],
   "outputs": [],
   "execution_count": 11
  },
  {
   "cell_type": "code",
   "id": "ad8e6754",
   "metadata": {
    "ExecuteTime": {
     "end_time": "2024-11-26T15:37:01.390535Z",
     "start_time": "2024-11-26T15:37:01.388906Z"
    }
   },
   "source": [],
   "outputs": [],
   "execution_count": null
  }
 ],
 "metadata": {
  "kernelspec": {
   "display_name": ".venv",
   "language": "python",
   "name": "python3"
  },
  "language_info": {
   "codemirror_mode": {
    "name": "ipython",
    "version": 3
   },
   "file_extension": ".py",
   "mimetype": "text/x-python",
   "name": "python",
   "nbconvert_exporter": "python",
   "pygments_lexer": "ipython3",
   "version": "3.10.12"
  }
 },
 "nbformat": 4,
 "nbformat_minor": 5
}
