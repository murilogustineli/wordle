{
 "cells": [
  {
   "attachments": {},
   "cell_type": "markdown",
   "id": "cd86ed2e",
   "metadata": {},
   "source": [
    "# Wordle Solver"
   ]
  },
  {
   "cell_type": "code",
   "id": "aa0d6171",
   "metadata": {
    "ExecuteTime": {
     "end_time": "2024-11-14T15:28:41.839100Z",
     "start_time": "2024-11-14T15:28:41.451448Z"
    }
   },
   "source": [
    "from wordle.utils import Wordle\n",
    "\n",
    "%load_ext autoreload\n",
    "%autoreload 2"
   ],
   "outputs": [],
   "execution_count": 1
  },
  {
   "cell_type": "markdown",
   "id": "cccd4e6c",
   "metadata": {},
   "source": [
    "### Play Wordle"
   ]
  },
  {
   "cell_type": "code",
   "id": "8de7889c",
   "metadata": {
    "ExecuteTime": {
     "end_time": "2024-11-14T15:28:41.853238Z",
     "start_time": "2024-11-14T15:28:41.843166Z"
    }
   },
   "source": [
    "# Initialize Wordle class\n",
    "wordle = Wordle()\n",
    "\n",
    "# Main function that returns a list of possible words\n",
    "green_letters = \"ul\"\n",
    "green_positions = [3, 4]\n",
    "yellow_letters = \"alaalua\"\n",
    "yellow_positions = [3, 3, 4, 1, 2, 4, 2]\n",
    "gray_letters = \"tiresongmck\"\n",
    "\n",
    "# Find words in a list of possible words\n",
    "words = wordle.find_words(\n",
    "    green_letters,\n",
    "    green_positions,\n",
    "    yellow_letters,\n",
    "    yellow_positions,\n",
    "    gray_letters,\n",
    "    answer_word_list=True,\n",
    ")\n",
    "# Choose a word to play\n",
    "wordle.choose_word_to_play(word_threshold=1)"
   ],
   "outputs": [
    {
     "name": "stdout",
     "output_type": "stream",
     "text": [
      "Number of possible words: 1\n",
      "uvula 0.0\n"
     ]
    }
   ],
   "execution_count": 2
  },
  {
   "cell_type": "code",
   "id": "07fabf77",
   "metadata": {
    "ExecuteTime": {
     "end_time": "2024-11-14T15:28:42.175241Z",
     "start_time": "2024-11-14T15:28:41.951294Z"
    }
   },
   "source": [
    "# Repetitive letters\n",
    "letters_df = wordle.repetitive_letters()\n",
    "print(letters_df.to_string(index=False))"
   ],
   "outputs": [
    {
     "name": "stdout",
     "output_type": "stream",
     "text": [
      "Letters  Count\n",
      "      U      2\n",
      "      V      1\n",
      "      L      1\n",
      "      A      1\n"
     ]
    }
   ],
   "execution_count": 3
  },
  {
   "cell_type": "code",
   "id": "ac58f55f",
   "metadata": {
    "ExecuteTime": {
     "end_time": "2024-11-14T15:28:42.307821Z",
     "start_time": "2024-11-14T15:28:42.297089Z"
    }
   },
   "source": [
    "df = wordle.load_data()\n",
    "df"
   ],
   "outputs": [
    {
     "data": {
      "text/plain": [
       "     Names  Games_Won\n",
       "0   Murilo        312\n",
       "1  Barbara        132\n",
       "2     Draw        308"
      ],
      "text/html": [
       "<div>\n",
       "<style scoped>\n",
       "    .dataframe tbody tr th:only-of-type {\n",
       "        vertical-align: middle;\n",
       "    }\n",
       "\n",
       "    .dataframe tbody tr th {\n",
       "        vertical-align: top;\n",
       "    }\n",
       "\n",
       "    .dataframe thead th {\n",
       "        text-align: right;\n",
       "    }\n",
       "</style>\n",
       "<table border=\"1\" class=\"dataframe\">\n",
       "  <thead>\n",
       "    <tr style=\"text-align: right;\">\n",
       "      <th></th>\n",
       "      <th>Names</th>\n",
       "      <th>Games_Won</th>\n",
       "    </tr>\n",
       "  </thead>\n",
       "  <tbody>\n",
       "    <tr>\n",
       "      <th>0</th>\n",
       "      <td>Murilo</td>\n",
       "      <td>312</td>\n",
       "    </tr>\n",
       "    <tr>\n",
       "      <th>1</th>\n",
       "      <td>Barbara</td>\n",
       "      <td>132</td>\n",
       "    </tr>\n",
       "    <tr>\n",
       "      <th>2</th>\n",
       "      <td>Draw</td>\n",
       "      <td>308</td>\n",
       "    </tr>\n",
       "  </tbody>\n",
       "</table>\n",
       "</div>"
      ]
     },
     "execution_count": 4,
     "metadata": {},
     "output_type": "execute_result"
    }
   ],
   "execution_count": 4
  },
  {
   "cell_type": "code",
   "id": "9bcf5433",
   "metadata": {
    "ExecuteTime": {
     "end_time": "2024-11-14T15:28:45.672996Z",
     "start_time": "2024-11-14T15:28:42.337309Z"
    }
   },
   "source": [
    "# Update score\n",
    "score_df = wordle.score()\n",
    "score_df"
   ],
   "outputs": [
    {
     "data": {
      "text/plain": [
       "     Names  Games_Won\n",
       "0   Murilo        312\n",
       "1  Barbara        132\n",
       "2     Draw        309"
      ],
      "text/html": [
       "<div>\n",
       "<style scoped>\n",
       "    .dataframe tbody tr th:only-of-type {\n",
       "        vertical-align: middle;\n",
       "    }\n",
       "\n",
       "    .dataframe tbody tr th {\n",
       "        vertical-align: top;\n",
       "    }\n",
       "\n",
       "    .dataframe thead th {\n",
       "        text-align: right;\n",
       "    }\n",
       "</style>\n",
       "<table border=\"1\" class=\"dataframe\">\n",
       "  <thead>\n",
       "    <tr style=\"text-align: right;\">\n",
       "      <th></th>\n",
       "      <th>Names</th>\n",
       "      <th>Games_Won</th>\n",
       "    </tr>\n",
       "  </thead>\n",
       "  <tbody>\n",
       "    <tr>\n",
       "      <th>0</th>\n",
       "      <td>Murilo</td>\n",
       "      <td>312</td>\n",
       "    </tr>\n",
       "    <tr>\n",
       "      <th>1</th>\n",
       "      <td>Barbara</td>\n",
       "      <td>132</td>\n",
       "    </tr>\n",
       "    <tr>\n",
       "      <th>2</th>\n",
       "      <td>Draw</td>\n",
       "      <td>309</td>\n",
       "    </tr>\n",
       "  </tbody>\n",
       "</table>\n",
       "</div>"
      ]
     },
     "execution_count": 5,
     "metadata": {},
     "output_type": "execute_result"
    }
   ],
   "execution_count": 5
  },
  {
   "cell_type": "code",
   "id": "68bca24a",
   "metadata": {
    "ExecuteTime": {
     "end_time": "2024-11-14T15:28:45.734337Z",
     "start_time": "2024-11-14T15:28:45.725783Z"
    }
   },
   "source": [
    "# Print results\n",
    "print(score_df.to_string(index=False))"
   ],
   "outputs": [
    {
     "name": "stdout",
     "output_type": "stream",
     "text": [
      "  Names  Games_Won\n",
      " Murilo        312\n",
      "Barbara        132\n",
      "   Draw        309\n"
     ]
    }
   ],
   "execution_count": 6
  },
  {
   "cell_type": "markdown",
   "id": "0877fdca",
   "metadata": {},
   "source": [
    "#### Git commit message"
   ]
  },
  {
   "cell_type": "code",
   "id": "35fdc04b",
   "metadata": {
    "ExecuteTime": {
     "end_time": "2024-11-14T15:28:45.796819Z",
     "start_time": "2024-11-14T15:28:45.787531Z"
    }
   },
   "source": [
    "# git commit message\n",
    "commit_message = wordle.get_commit_message()\n",
    "print(commit_message)"
   ],
   "outputs": [
    {
     "name": "stdout",
     "output_type": "stream",
     "text": [
      "git commit -m \"updated wordle 312-132-309\"\n"
     ]
    }
   ],
   "execution_count": 7
  },
  {
   "attachments": {},
   "cell_type": "markdown",
   "id": "3afcdbae",
   "metadata": {
    "tags": []
   },
   "source": [
    "#### Set custom score"
   ]
  },
  {
   "cell_type": "code",
   "id": "78647b3a",
   "metadata": {
    "ExecuteTime": {
     "end_time": "2024-11-14T15:28:45.876146Z",
     "start_time": "2024-11-14T15:28:45.868328Z"
    }
   },
   "source": [
    "# help(wordle.reset_score)"
   ],
   "outputs": [],
   "execution_count": 8
  },
  {
   "cell_type": "code",
   "id": "65d15bf0",
   "metadata": {
    "ExecuteTime": {
     "end_time": "2024-11-14T15:28:45.910588Z",
     "start_time": "2024-11-14T15:28:45.901983Z"
    }
   },
   "source": [
    "# help(wordle.set_score)"
   ],
   "outputs": [],
   "execution_count": 9
  },
  {
   "cell_type": "code",
   "id": "83f21710",
   "metadata": {
    "ExecuteTime": {
     "end_time": "2024-11-14T15:28:45.969950Z",
     "start_time": "2024-11-14T15:28:45.962216Z"
    }
   },
   "source": [
    "# # Set custom score\n",
    "# df = wordle.set_score(m_score=311, b_score=132, draw_score=308)\n",
    "# df"
   ],
   "outputs": [],
   "execution_count": 10
  },
  {
   "attachments": {},
   "cell_type": "markdown",
   "id": "99a87e1f",
   "metadata": {},
   "source": [
    "#### Reset score"
   ]
  },
  {
   "cell_type": "code",
   "id": "75742648",
   "metadata": {
    "tags": [],
    "ExecuteTime": {
     "end_time": "2024-11-14T15:28:45.990597Z",
     "start_time": "2024-11-14T15:28:45.983685Z"
    }
   },
   "source": [
    "## Reset score\n",
    "# wordle.reset_score()"
   ],
   "outputs": [],
   "execution_count": 11
  },
  {
   "cell_type": "code",
   "id": "ad8e6754",
   "metadata": {
    "ExecuteTime": {
     "end_time": "2024-11-14T15:28:46.003965Z",
     "start_time": "2024-11-14T15:28:46.002480Z"
    }
   },
   "source": [],
   "outputs": [],
   "execution_count": null
  }
 ],
 "metadata": {
  "kernelspec": {
   "display_name": ".venv",
   "language": "python",
   "name": "python3"
  },
  "language_info": {
   "codemirror_mode": {
    "name": "ipython",
    "version": 3
   },
   "file_extension": ".py",
   "mimetype": "text/x-python",
   "name": "python",
   "nbconvert_exporter": "python",
   "pygments_lexer": "ipython3",
   "version": "3.9.6"
  }
 },
 "nbformat": 4,
 "nbformat_minor": 5
}
