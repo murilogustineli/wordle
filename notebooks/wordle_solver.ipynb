{
 "cells": [
  {
   "attachments": {},
   "cell_type": "markdown",
   "id": "cd86ed2e",
   "metadata": {},
   "source": [
    "# Wordle Solver"
   ]
  },
  {
   "cell_type": "code",
   "execution_count": 1,
   "id": "aa0d6171",
   "metadata": {},
   "outputs": [],
   "source": [
    "from wordle.utils import Wordle\n",
    "\n",
    "%load_ext autoreload\n",
    "%autoreload 2"
   ]
  },
  {
   "cell_type": "code",
   "execution_count": 2,
   "id": "67ea32ba",
   "metadata": {},
   "outputs": [
    {
     "name": "stdout",
     "output_type": "stream",
     "text": [
      "['amass']\n"
     ]
    }
   ],
   "source": [
    "# Initialize Wordle class\n",
    "wordle = Wordle()\n",
    "\n",
    "# Main function that returns a list of possible words\n",
    "green_letters = \"as\"\n",
    "green_positions = [3, 5]\n",
    "yellow_letters = \"\"\n",
    "yellow_positions = []\n",
    "bad_letters = \"crnehilt\"\n",
    "\n",
    "# Find words in a list of possible words\n",
    "words = wordle.find_words(\n",
    "    green_letters, green_positions, yellow_letters, yellow_positions, bad_letters\n",
    ")\n",
    "print(words)"
   ]
  },
  {
   "cell_type": "code",
   "execution_count": 3,
   "id": "07fabf77",
   "metadata": {},
   "outputs": [
    {
     "name": "stdout",
     "output_type": "stream",
     "text": [
      "Letters  Count\n",
      "      A      2\n",
      "      S      2\n",
      "      M      1\n"
     ]
    }
   ],
   "source": [
    "# Repetitive letters\n",
    "letters_df = wordle.repetitive_letters(wordle_list=words)\n",
    "print(letters_df.to_string(index=False))"
   ]
  },
  {
   "attachments": {},
   "cell_type": "markdown",
   "id": "ae329b2b",
   "metadata": {},
   "source": [
    "#### Choosing next word"
   ]
  },
  {
   "cell_type": "code",
   "execution_count": 4,
   "id": "87f44000",
   "metadata": {},
   "outputs": [
    {
     "name": "stdout",
     "output_type": "stream",
     "text": [
      "['hilts', 'liths']\n"
     ]
    }
   ],
   "source": [
    "# Main function that returns a list of possible words\n",
    "green_letters = \"\"\n",
    "green_positions = []\n",
    "yellow_letters = \"slthi\"\n",
    "yellow_positions = []\n",
    "bad_letters = \"\"\n",
    "\n",
    "# Find words in a list of possible words\n",
    "words = wordle.find_words(\n",
    "    green_letters,\n",
    "    green_positions,\n",
    "    yellow_letters,\n",
    "    yellow_positions,\n",
    "    bad_letters,\n",
    "    answer_word_list=False,\n",
    ")\n",
    "print(words)"
   ]
  },
  {
   "cell_type": "code",
   "execution_count": 5,
   "id": "ac58f55f",
   "metadata": {},
   "outputs": [
    {
     "data": {
      "text/html": [
       "<div>\n",
       "<style scoped>\n",
       "    .dataframe tbody tr th:only-of-type {\n",
       "        vertical-align: middle;\n",
       "    }\n",
       "\n",
       "    .dataframe tbody tr th {\n",
       "        vertical-align: top;\n",
       "    }\n",
       "\n",
       "    .dataframe thead th {\n",
       "        text-align: right;\n",
       "    }\n",
       "</style>\n",
       "<table border=\"1\" class=\"dataframe\">\n",
       "  <thead>\n",
       "    <tr style=\"text-align: right;\">\n",
       "      <th></th>\n",
       "      <th>Names</th>\n",
       "      <th>Games_Won</th>\n",
       "    </tr>\n",
       "  </thead>\n",
       "  <tbody>\n",
       "    <tr>\n",
       "      <th>0</th>\n",
       "      <td>Murilo</td>\n",
       "      <td>257</td>\n",
       "    </tr>\n",
       "    <tr>\n",
       "      <th>1</th>\n",
       "      <td>Barbara</td>\n",
       "      <td>108</td>\n",
       "    </tr>\n",
       "    <tr>\n",
       "      <th>2</th>\n",
       "      <td>Draw</td>\n",
       "      <td>258</td>\n",
       "    </tr>\n",
       "  </tbody>\n",
       "</table>\n",
       "</div>"
      ],
      "text/plain": [
       "     Names  Games_Won\n",
       "0   Murilo        257\n",
       "1  Barbara        108\n",
       "2     Draw        258"
      ]
     },
     "execution_count": 5,
     "metadata": {},
     "output_type": "execute_result"
    }
   ],
   "source": [
    "df = wordle.load_data()\n",
    "df"
   ]
  },
  {
   "cell_type": "code",
   "execution_count": 6,
   "id": "9bcf5433",
   "metadata": {},
   "outputs": [
    {
     "data": {
      "text/html": [
       "<div>\n",
       "<style scoped>\n",
       "    .dataframe tbody tr th:only-of-type {\n",
       "        vertical-align: middle;\n",
       "    }\n",
       "\n",
       "    .dataframe tbody tr th {\n",
       "        vertical-align: top;\n",
       "    }\n",
       "\n",
       "    .dataframe thead th {\n",
       "        text-align: right;\n",
       "    }\n",
       "</style>\n",
       "<table border=\"1\" class=\"dataframe\">\n",
       "  <thead>\n",
       "    <tr style=\"text-align: right;\">\n",
       "      <th></th>\n",
       "      <th>Names</th>\n",
       "      <th>Games_Won</th>\n",
       "    </tr>\n",
       "  </thead>\n",
       "  <tbody>\n",
       "    <tr>\n",
       "      <th>0</th>\n",
       "      <td>Murilo</td>\n",
       "      <td>258</td>\n",
       "    </tr>\n",
       "    <tr>\n",
       "      <th>1</th>\n",
       "      <td>Barbara</td>\n",
       "      <td>108</td>\n",
       "    </tr>\n",
       "    <tr>\n",
       "      <th>2</th>\n",
       "      <td>Draw</td>\n",
       "      <td>258</td>\n",
       "    </tr>\n",
       "  </tbody>\n",
       "</table>\n",
       "</div>"
      ],
      "text/plain": [
       "     Names  Games_Won\n",
       "0   Murilo        258\n",
       "1  Barbara        108\n",
       "2     Draw        258"
      ]
     },
     "execution_count": 6,
     "metadata": {},
     "output_type": "execute_result"
    }
   ],
   "source": [
    "# Update score\n",
    "score_df = wordle.score()\n",
    "score_df"
   ]
  },
  {
   "cell_type": "code",
   "execution_count": 7,
   "id": "68bca24a",
   "metadata": {},
   "outputs": [
    {
     "name": "stdout",
     "output_type": "stream",
     "text": [
      "  Names  Games_Won\n",
      " Murilo        258\n",
      "Barbara        108\n",
      "   Draw        258\n"
     ]
    }
   ],
   "source": [
    "# Print results\n",
    "print(score_df.to_string(index=False))"
   ]
  },
  {
   "cell_type": "code",
   "execution_count": 8,
   "id": "78647b3a",
   "metadata": {},
   "outputs": [],
   "source": [
    "# help(wordle.reset_score)"
   ]
  },
  {
   "attachments": {},
   "cell_type": "markdown",
   "id": "3afcdbae",
   "metadata": {
    "tags": []
   },
   "source": [
    "#### Set custom score"
   ]
  },
  {
   "cell_type": "code",
   "execution_count": 9,
   "id": "65d15bf0",
   "metadata": {},
   "outputs": [],
   "source": [
    "# help(wordle.set_score)"
   ]
  },
  {
   "cell_type": "code",
   "execution_count": 10,
   "id": "83f21710",
   "metadata": {},
   "outputs": [],
   "source": [
    "# # Set custom score\n",
    "# df = wordle.set_score(m_score=253, b_score=105, draw_score=252)\n",
    "# df"
   ]
  },
  {
   "attachments": {},
   "cell_type": "markdown",
   "id": "99a87e1f",
   "metadata": {},
   "source": [
    "#### Reset score"
   ]
  },
  {
   "cell_type": "code",
   "execution_count": 11,
   "id": "75742648",
   "metadata": {
    "tags": []
   },
   "outputs": [],
   "source": [
    "## Reset score\n",
    "# wordle.reset_score()"
   ]
  },
  {
   "cell_type": "code",
   "execution_count": 12,
   "id": "c39cd19e",
   "metadata": {},
   "outputs": [
    {
     "data": {
      "text/plain": [
       "['apple', 'app', 'peach', 'plea']"
      ]
     },
     "execution_count": 12,
     "metadata": {},
     "output_type": "execute_result"
    }
   ],
   "source": [
    "def can_construct(word, s):\n",
    "    \"\"\"Check if the word can be constructed from the string while keeping the order.\"\"\"\n",
    "    it = iter(s)\n",
    "    return all(char in it for char in word)\n",
    "\n",
    "\n",
    "def filter_constructible_words(word_list, s):\n",
    "    \"\"\"Return the list of words that can be constructed from the string s.\"\"\"\n",
    "    return [word for word in word_list if can_construct(word, s)]\n",
    "\n",
    "\n",
    "# Example usage\n",
    "word_list = [\"apple\", \"app\", \"peach\", \"plea\", \"leap\", \"banana\"]\n",
    "s = \"applppleaechbn\"\n",
    "\n",
    "# This will return ['apple', 'app', 'plea', 'leap']\n",
    "result = filter_constructible_words(word_list, s)\n",
    "result"
   ]
  },
  {
   "cell_type": "code",
   "execution_count": 13,
   "id": "3aa67a18",
   "metadata": {},
   "outputs": [
    {
     "data": {
      "text/plain": [
       "'banana'"
      ]
     },
     "execution_count": 13,
     "metadata": {},
     "output_type": "execute_result"
    }
   ],
   "source": [
    "def can_construct(word, s):\n",
    "    for i in s:\n",
    "        if i in word:\n",
    "            return True\n",
    "\n",
    "\n",
    "def filter(word_list, s):\n",
    "    words = []\n",
    "    for word in word_list:\n",
    "        if can_construct(word, s):\n",
    "            words.append(word)\n",
    "    return word\n",
    "\n",
    "\n",
    "words = filter(word_list, s)\n",
    "words"
   ]
  },
  {
   "cell_type": "code",
   "execution_count": 14,
   "id": "bc13e7fe",
   "metadata": {},
   "outputs": [
    {
     "name": "stdout",
     "output_type": "stream",
     "text": [
      "['this', 'is', 'a', 'test']\n"
     ]
    }
   ],
   "source": [
    "def word_break(s, lexicon):\n",
    "    n = len(s)\n",
    "    dp = [0] * (n + 1)  # Probability of best segmentation\n",
    "    prev = [-1] * (n + 1)  # Backtracking for reconstruction\n",
    "    dp[0] = 1  # Base case: empty string has a segmentation with probability 1\n",
    "\n",
    "    def is_valid_word(word):\n",
    "        return word in lexicon\n",
    "\n",
    "    def get_probability(words):\n",
    "        # Placeholder: Should return the language model's probability of the sequence of words\n",
    "        return 1.0\n",
    "\n",
    "    # Fill dp table\n",
    "    for i in range(1, n + 1):\n",
    "        for j in range(i):\n",
    "            word = s[j:i]\n",
    "            if is_valid_word(word) and dp[j] > 0:\n",
    "                prob = dp[j] * get_probability(word)\n",
    "                if prob > dp[i]:\n",
    "                    dp[i] = prob\n",
    "                    prev[i] = j\n",
    "\n",
    "    # Reconstruct the best segmentation\n",
    "    if dp[n] == 0:\n",
    "        return None  # No valid segmentation\n",
    "    words = []\n",
    "    i = n\n",
    "    while i > 0:\n",
    "        words.append(s[prev[i] : i])\n",
    "        i = prev[i]\n",
    "    words.reverse()\n",
    "\n",
    "    return words\n",
    "\n",
    "\n",
    "# Example usage\n",
    "lexicon = {\"a\", \"is\", \"test\", \"thesis\", \"this\"}\n",
    "sequence = \"thisisatest\"\n",
    "result = word_break(sequence, lexicon)\n",
    "print(result)"
   ]
  },
  {
   "cell_type": "code",
   "execution_count": 15,
   "id": "b2ccd32e",
   "metadata": {},
   "outputs": [],
   "source": [
    "def threeSum(nums: list[int]) -> list[list[int]]:\n",
    "    output = []\n",
    "    distinct = []\n",
    "    nums.sort()\n",
    "    i, j, k = 0, 1, 2\n",
    "    for i in range(0, len(nums) - 2):\n",
    "        for j in range(1, len(nums) - 1):\n",
    "            for k in range(2, len(nums)):\n",
    "                list_nums = [nums[i], nums[j], nums[k]]\n",
    "                sum_nums = sum(list_nums)\n",
    "                if i != j and i != k and j != k and sum_nums == 0:\n",
    "                    if set(list_nums) not in distinct:\n",
    "                        distinct.append(set(list_nums))\n",
    "                        output.append(list_nums)\n",
    "    return output"
   ]
  },
  {
   "cell_type": "code",
   "execution_count": 16,
   "id": "4a859c55",
   "metadata": {},
   "outputs": [
    {
     "data": {
      "text/plain": [
       "[[-1, -1, 2], [-1, 0, 1]]"
      ]
     },
     "execution_count": 16,
     "metadata": {},
     "output_type": "execute_result"
    }
   ],
   "source": [
    "nums = [-1, 0, 1, 2, -1, -4]\n",
    "threeSum(nums=nums)"
   ]
  },
  {
   "cell_type": "code",
   "execution_count": 17,
   "id": "9731621d",
   "metadata": {},
   "outputs": [],
   "source": [
    "def isPalindrome(s: str) -> bool:\n",
    "    pal = \"\"\n",
    "    for char in s.lower():\n",
    "        if char.isalnum():\n",
    "            pal += char\n",
    "    for i in range(len(pal)):\n",
    "        if pal[i] == pal[-i - 1]:\n",
    "            continue\n",
    "        else:\n",
    "            return False\n",
    "    return True"
   ]
  },
  {
   "cell_type": "code",
   "execution_count": 18,
   "id": "94722fe5",
   "metadata": {},
   "outputs": [
    {
     "name": "stdout",
     "output_type": "stream",
     "text": [
      "True\n"
     ]
    }
   ],
   "source": [
    "s = \"A man, a plan, a canal: Panama\"\n",
    "ans = isPalindrome(s)\n",
    "print(ans)"
   ]
  },
  {
   "cell_type": "code",
   "execution_count": 19,
   "id": "20c7d5d8",
   "metadata": {},
   "outputs": [],
   "source": [
    "def binary_search(arr, target):\n",
    "    assert target <= len(arr) - 1\n",
    "    low, high = 0, len(arr) - 1\n",
    "    mid = 0\n",
    "\n",
    "    while low <= high:\n",
    "        mid = (low + high) // 2\n",
    "        if arr[mid] < target:\n",
    "            low = mid + 1\n",
    "        elif arr[mid] > target:\n",
    "            high = mid - 1\n",
    "        else:\n",
    "            return mid\n",
    "    return -1"
   ]
  },
  {
   "cell_type": "code",
   "execution_count": 20,
   "id": "245c96f7",
   "metadata": {},
   "outputs": [
    {
     "name": "stdout",
     "output_type": "stream",
     "text": [
      "[0, 1, 2, 4, 5, 6, 7, 8, 9, 11, 14, 15, 17, 20]\n",
      "-1\n"
     ]
    }
   ],
   "source": [
    "arr = [0, 1, 2, 4, 5, 6, 7, 8, 9, 11, 14, 15, 17, 20]\n",
    "ans = binary_search(arr, target=3)\n",
    "print(arr)\n",
    "print(ans)"
   ]
  },
  {
   "cell_type": "code",
   "execution_count": 21,
   "id": "40b03c99",
   "metadata": {},
   "outputs": [],
   "source": [
    "def calPoints(operations: list[str]) -> int:\n",
    "    output = []\n",
    "    for op in range(len(operations)):\n",
    "        try:\n",
    "            if type(int(operations[op])):\n",
    "                new_score = int(operations[op])\n",
    "        except:\n",
    "            pass\n",
    "        if operations[op] == \"D\":\n",
    "            new_score = output[-1] * 2\n",
    "        if operations[op] == \"C\":\n",
    "            output.pop()\n",
    "            continue\n",
    "        if operations[op] == \"+\":\n",
    "            new_score = output[-1] + output[-2]\n",
    "        output.append(new_score)\n",
    "    return sum(output)"
   ]
  },
  {
   "cell_type": "code",
   "execution_count": 22,
   "id": "0ba35698",
   "metadata": {},
   "outputs": [
    {
     "data": {
      "text/plain": [
       "30"
      ]
     },
     "execution_count": 22,
     "metadata": {},
     "output_type": "execute_result"
    }
   ],
   "source": [
    "ops = [\"5\", \"2\", \"C\", \"D\", \"+\"]\n",
    "calPoints(ops)"
   ]
  },
  {
   "cell_type": "code",
   "execution_count": 23,
   "id": "e1d5b072",
   "metadata": {},
   "outputs": [],
   "source": [
    "def isValid(s: str) -> bool:\n",
    "    stack = []\n",
    "    mapping = {\"(\": \")\", \"[\": \"]\", \"{\": \"}\"}\n",
    "    for i in range(len(s)):\n",
    "        if s[i] in mapping:\n",
    "            stack.append(s[i])\n",
    "        else:\n",
    "            if len(stack) and mapping[stack[-1]] == s[i]:\n",
    "                stack.pop()\n",
    "            else:\n",
    "                return False\n",
    "    return stack == []"
   ]
  },
  {
   "cell_type": "code",
   "execution_count": 24,
   "id": "0cbd95d8",
   "metadata": {},
   "outputs": [
    {
     "data": {
      "text/plain": [
       "False"
      ]
     },
     "execution_count": 24,
     "metadata": {},
     "output_type": "execute_result"
    }
   ],
   "source": [
    "s = \"]\"\n",
    "isValid(s)"
   ]
  },
  {
   "cell_type": "code",
   "execution_count": 25,
   "id": "55a83d4f",
   "metadata": {},
   "outputs": [],
   "source": [
    "class MinStack:\n",
    "    def __init__(self):\n",
    "        self.arr = []\n",
    "        self.min_stack = []\n",
    "\n",
    "    def push(self, val: int) -> None:\n",
    "        self.arr.append(val)\n",
    "        if not self.min_stack or val <= self.min_stack[-1]:\n",
    "            self.min_stack.append(val)\n",
    "\n",
    "    def pop(self) -> None:\n",
    "        if self.arr:\n",
    "            if self.arr[-1] == self.min_stack[-1]:\n",
    "                self.min_stack.pop()\n",
    "            self.arr.pop()\n",
    "\n",
    "    def top(self) -> int:\n",
    "        if self.arr:\n",
    "            return self.arr[-1]\n",
    "        return None\n",
    "\n",
    "    def getMin(self) -> int:\n",
    "        if self.min_stack:\n",
    "            return self.min_stack[-1]\n",
    "        return None"
   ]
  },
  {
   "cell_type": "code",
   "execution_count": 26,
   "id": "8611a078",
   "metadata": {},
   "outputs": [
    {
     "data": {
      "text/plain": [
       "[0]"
      ]
     },
     "execution_count": 26,
     "metadata": {},
     "output_type": "execute_result"
    }
   ],
   "source": [
    "minstack = MinStack()\n",
    "minstack.push(0)\n",
    "minstack.arr"
   ]
  },
  {
   "cell_type": "code",
   "execution_count": 35,
   "id": "1eb02cad",
   "metadata": {},
   "outputs": [
    {
     "name": "stdout",
     "output_type": "stream",
     "text": [
      "4\n"
     ]
    }
   ],
   "source": [
    "def math_challenge(num1, num2):\n",
    "    while num2 != 0:\n",
    "        num1, num2 = num2, num1 % num2\n",
    "    return num1\n",
    "\n",
    "\n",
    "# Example usage\n",
    "num1 = 12\n",
    "num2 = 16\n",
    "print(math_challenge(num1, num2))"
   ]
  },
  {
   "cell_type": "code",
   "execution_count": 32,
   "id": "4c84f883",
   "metadata": {},
   "outputs": [],
   "source": [
    "def ArrayChallenge(arr):\n",
    "    sort_arr = sorted(arr)\n",
    "    max1, max2 = sort_arr[-1], sort_arr[-2]\n",
    "    prod = max1 * max2\n",
    "    sum_arr = sum(arr) * 2\n",
    "    if prod > sum_arr:\n",
    "        return \"true\"\n",
    "    return \"false\""
   ]
  },
  {
   "cell_type": "code",
   "execution_count": 5,
   "id": "e21c7149",
   "metadata": {},
   "outputs": [],
   "source": [
    "def ArrayChallenge(arr):\n",
    "    # Initialize the two largest numbers\n",
    "    if len(arr) < 2:\n",
    "        return \"false\"  # Not enough elements to form a pair\n",
    "    max1 = float(\"-inf\")\n",
    "    max2 = float(\"-inf\")\n",
    "    # Initialize the sum\n",
    "    total_sum = 0\n",
    "    for num in arr:\n",
    "        # Update the total sum\n",
    "        total_sum += num\n",
    "        # Update the two largest numbers\n",
    "        if num > max1:\n",
    "            max2 = max1\n",
    "            max1 = num\n",
    "        elif num > max2:\n",
    "            max2 = num\n",
    "        print(max1, max2)\n",
    "    # Calculate the product of the two largest numbers\n",
    "    product = max1 * max2\n",
    "    # Calculate double the total sum\n",
    "    double_sum = 2 * total_sum\n",
    "    # Compare the product with the doubled sum\n",
    "    if product > double_sum:\n",
    "        return \"true\"\n",
    "    return \"false\""
   ]
  },
  {
   "cell_type": "code",
   "execution_count": 6,
   "id": "515c9408",
   "metadata": {},
   "outputs": [
    {
     "name": "stdout",
     "output_type": "stream",
     "text": [
      "2 -inf\n",
      "5 2\n",
      "6 5\n",
      "6 5\n",
      "26 6\n",
      "26 6\n",
      "26 6\n",
      "26 6\n",
      "26 6\n",
      "26 6\n",
      "true\n"
     ]
    }
   ],
   "source": [
    "# Example usage\n",
    "arr = [2, 5, 6, -6, 26, 2, 3, 6, 5, 3]\n",
    "print(ArrayChallenge(arr))"
   ]
  },
  {
   "cell_type": "code",
   "execution_count": null,
   "id": "35fdc04b",
   "metadata": {},
   "outputs": [],
   "source": []
  }
 ],
 "metadata": {
  "kernelspec": {
   "display_name": "ml",
   "language": "python",
   "name": "python3"
  },
  "language_info": {
   "codemirror_mode": {
    "name": "ipython",
    "version": 3
   },
   "file_extension": ".py",
   "mimetype": "text/x-python",
   "name": "python",
   "nbconvert_exporter": "python",
   "pygments_lexer": "ipython3",
   "version": "3.11.6"
  },
  "vscode": {
   "interpreter": {
    "hash": "57f1e8b789c2562e3faa8bd4fbf1bf03f323f206cff4185df1184c5825a46e3f"
   }
  }
 },
 "nbformat": 4,
 "nbformat_minor": 5
}
