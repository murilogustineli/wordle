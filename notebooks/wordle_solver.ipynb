{
 "cells": [
  {
   "attachments": {},
   "cell_type": "markdown",
   "id": "cd86ed2e",
   "metadata": {},
   "source": [
    "# Wordle Solver"
   ]
  },
  {
   "cell_type": "code",
   "execution_count": 1,
   "id": "aa0d6171",
   "metadata": {
    "ExecuteTime": {
     "end_time": "2025-01-10T01:38:26.461694Z",
     "start_time": "2025-01-10T01:38:26.209464Z"
    }
   },
   "outputs": [],
   "source": [
    "from wordle.utils import Wordle\n",
    "\n",
    "%load_ext autoreload\n",
    "%autoreload 2"
   ]
  },
  {
   "cell_type": "markdown",
   "id": "cccd4e6c",
   "metadata": {},
   "source": [
    "### Play Wordle"
   ]
  },
  {
   "cell_type": "code",
   "execution_count": 2,
   "id": "ed1e8c097e417b0e",
   "metadata": {
    "ExecuteTime": {
     "end_time": "2025-01-10T01:38:26.496352Z",
     "start_time": "2025-01-10T01:38:26.476001Z"
    }
   },
   "outputs": [
    {
     "name": "stdout",
     "output_type": "stream",
     "text": [
      "Number of possible words: 1\n",
      "QUILL 0.0\n"
     ]
    }
   ],
   "source": [
    "# initialize Wordle class\n",
    "wordle = Wordle()\n",
    "\n",
    "# main function that returns a list of possible words\n",
    "green_letters = \"ilu\"\n",
    "green_positions = [3, 4, 2]\n",
    "yellow_letters = \"i\"\n",
    "yellow_positions = [2]\n",
    "gray_letters = \"tarecosbd\"\n",
    "\n",
    "# find words in a list of possible words\n",
    "words = wordle.find_words(\n",
    "    green_letters,\n",
    "    green_positions,\n",
    "    yellow_letters,\n",
    "    yellow_positions,\n",
    "    gray_letters,\n",
    "    answer_word_list=True,\n",
    ")\n",
    "\n",
    "# choose a word to play\n",
    "wordle.choose_word_to_play(word_threshold=3)"
   ]
  },
  {
   "cell_type": "code",
   "execution_count": 3,
   "id": "4cb77cc5def13431",
   "metadata": {
    "ExecuteTime": {
     "end_time": "2025-01-10T01:38:26.737915Z",
     "start_time": "2025-01-10T01:38:26.554407Z"
    }
   },
   "outputs": [
    {
     "name": "stdout",
     "output_type": "stream",
     "text": [
      "Letters  Count\n",
      "      L      2\n",
      "      Q      1\n",
      "      U      1\n",
      "      I      1\n"
     ]
    }
   ],
   "source": [
    "# repetitive letters\n",
    "letters_df = wordle.repetitive_letters()\n",
    "print(letters_df.to_string(index=False))"
   ]
  },
  {
   "cell_type": "code",
   "execution_count": 4,
   "id": "4098fa6f21bd5227",
   "metadata": {
    "ExecuteTime": {
     "end_time": "2025-01-10T01:38:26.873324Z",
     "start_time": "2025-01-10T01:38:26.861981Z"
    }
   },
   "outputs": [
    {
     "data": {
      "text/html": [
       "<div>\n",
       "<style scoped>\n",
       "    .dataframe tbody tr th:only-of-type {\n",
       "        vertical-align: middle;\n",
       "    }\n",
       "\n",
       "    .dataframe tbody tr th {\n",
       "        vertical-align: top;\n",
       "    }\n",
       "\n",
       "    .dataframe thead th {\n",
       "        text-align: right;\n",
       "    }\n",
       "</style>\n",
       "<table border=\"1\" class=\"dataframe\">\n",
       "  <thead>\n",
       "    <tr style=\"text-align: right;\">\n",
       "      <th></th>\n",
       "      <th>Names</th>\n",
       "      <th>Games_Won</th>\n",
       "    </tr>\n",
       "  </thead>\n",
       "  <tbody>\n",
       "    <tr>\n",
       "      <th>0</th>\n",
       "      <td>Murilo</td>\n",
       "      <td>435</td>\n",
       "    </tr>\n",
       "    <tr>\n",
       "      <th>1</th>\n",
       "      <td>Barbara</td>\n",
       "      <td>192</td>\n",
       "    </tr>\n",
       "    <tr>\n",
       "      <th>2</th>\n",
       "      <td>Draw</td>\n",
       "      <td>419</td>\n",
       "    </tr>\n",
       "  </tbody>\n",
       "</table>\n",
       "</div>"
      ],
      "text/plain": [
       "     Names  Games_Won\n",
       "0   Murilo        435\n",
       "1  Barbara        192\n",
       "2     Draw        419"
      ]
     },
     "execution_count": 4,
     "metadata": {},
     "output_type": "execute_result"
    }
   ],
   "source": [
    "df = wordle.load_data()\n",
    "df"
   ]
  },
  {
   "cell_type": "code",
   "execution_count": 5,
   "id": "9bcf5433",
   "metadata": {
    "ExecuteTime": {
     "end_time": "2025-01-10T01:38:28.810910Z",
     "start_time": "2025-01-10T01:38:26.885563Z"
    }
   },
   "outputs": [
    {
     "data": {
      "text/html": [
       "<div>\n",
       "<style scoped>\n",
       "    .dataframe tbody tr th:only-of-type {\n",
       "        vertical-align: middle;\n",
       "    }\n",
       "\n",
       "    .dataframe tbody tr th {\n",
       "        vertical-align: top;\n",
       "    }\n",
       "\n",
       "    .dataframe thead th {\n",
       "        text-align: right;\n",
       "    }\n",
       "</style>\n",
       "<table border=\"1\" class=\"dataframe\">\n",
       "  <thead>\n",
       "    <tr style=\"text-align: right;\">\n",
       "      <th></th>\n",
       "      <th>Names</th>\n",
       "      <th>Games_Won</th>\n",
       "    </tr>\n",
       "  </thead>\n",
       "  <tbody>\n",
       "    <tr>\n",
       "      <th>0</th>\n",
       "      <td>Murilo</td>\n",
       "      <td>436</td>\n",
       "    </tr>\n",
       "    <tr>\n",
       "      <th>1</th>\n",
       "      <td>Barbara</td>\n",
       "      <td>192</td>\n",
       "    </tr>\n",
       "    <tr>\n",
       "      <th>2</th>\n",
       "      <td>Draw</td>\n",
       "      <td>419</td>\n",
       "    </tr>\n",
       "  </tbody>\n",
       "</table>\n",
       "</div>"
      ],
      "text/plain": [
       "     Names  Games_Won\n",
       "0   Murilo        436\n",
       "1  Barbara        192\n",
       "2     Draw        419"
      ]
     },
     "execution_count": 5,
     "metadata": {},
     "output_type": "execute_result"
    }
   ],
   "source": [
    "# update score\n",
    "score_df = wordle.update_score()\n",
    "score_df"
   ]
  },
  {
   "cell_type": "code",
   "execution_count": 6,
   "id": "68bca24a",
   "metadata": {
    "ExecuteTime": {
     "end_time": "2025-01-10T01:38:28.853535Z",
     "start_time": "2025-01-10T01:38:28.844495Z"
    }
   },
   "outputs": [
    {
     "name": "stdout",
     "output_type": "stream",
     "text": [
      "  Names  Games_Won\n",
      " Murilo        436\n",
      "Barbara        192\n",
      "   Draw        419\n"
     ]
    }
   ],
   "source": [
    "# print results\n",
    "print(score_df.to_string(index=False))"
   ]
  },
  {
   "cell_type": "markdown",
   "id": "0877fdca",
   "metadata": {},
   "source": [
    "#### Git commit message"
   ]
  },
  {
   "cell_type": "code",
   "execution_count": 7,
   "id": "35fdc04b",
   "metadata": {
    "ExecuteTime": {
     "end_time": "2025-01-10T01:38:28.918863Z",
     "start_time": "2025-01-10T01:38:28.909971Z"
    }
   },
   "outputs": [
    {
     "name": "stdout",
     "output_type": "stream",
     "text": [
      "git commit -m \"updated wordle 436-192-419, word=QUILL\"\n"
     ]
    }
   ],
   "source": [
    "# git commit message\n",
    "commit_message = wordle.get_commit_message()\n",
    "print(commit_message)"
   ]
  },
  {
   "attachments": {},
   "cell_type": "markdown",
   "id": "3afcdbae",
   "metadata": {
    "tags": []
   },
   "source": [
    "#### Set custom score"
   ]
  },
  {
   "cell_type": "code",
   "execution_count": 8,
   "id": "78647b3a",
   "metadata": {
    "ExecuteTime": {
     "end_time": "2025-01-10T01:38:28.959462Z",
     "start_time": "2025-01-10T01:38:28.951843Z"
    }
   },
   "outputs": [],
   "source": [
    "# help(wordle.reset_score)"
   ]
  },
  {
   "cell_type": "code",
   "execution_count": 9,
   "id": "65d15bf0",
   "metadata": {
    "ExecuteTime": {
     "end_time": "2025-01-10T01:38:28.987263Z",
     "start_time": "2025-01-10T01:38:28.980388Z"
    }
   },
   "outputs": [],
   "source": [
    "# help(wordle.set_score)"
   ]
  },
  {
   "cell_type": "code",
   "execution_count": 10,
   "id": "83f21710",
   "metadata": {
    "ExecuteTime": {
     "end_time": "2025-01-10T01:38:29.025189Z",
     "start_time": "2025-01-10T01:38:29.018173Z"
    }
   },
   "outputs": [],
   "source": [
    "# # set custom score\n",
    "# df = wordle.set_score(m_score=311, b_score=132, draw_score=308)\n",
    "# df"
   ]
  },
  {
   "attachments": {},
   "cell_type": "markdown",
   "id": "99a87e1f",
   "metadata": {},
   "source": [
    "#### Reset score"
   ]
  },
  {
   "cell_type": "code",
   "execution_count": 11,
   "id": "75742648",
   "metadata": {
    "ExecuteTime": {
     "end_time": "2025-01-10T01:38:29.057928Z",
     "start_time": "2025-01-10T01:38:29.050023Z"
    },
    "tags": []
   },
   "outputs": [],
   "source": [
    "# # reset score\n",
    "# wordle.reset_score()"
   ]
  },
  {
   "cell_type": "code",
   "execution_count": null,
   "id": "b29b69c4",
   "metadata": {},
   "outputs": [],
   "source": []
  }
 ],
 "metadata": {
  "kernelspec": {
   "display_name": ".venv (3.11.6)",
   "language": "python",
   "name": "python3"
  },
  "language_info": {
   "codemirror_mode": {
    "name": "ipython",
    "version": 3
   },
   "file_extension": ".py",
   "mimetype": "text/x-python",
   "name": "python",
   "nbconvert_exporter": "python",
   "pygments_lexer": "ipython3",
   "version": "3.11.6"
  }
 },
 "nbformat": 4,
 "nbformat_minor": 5
}
