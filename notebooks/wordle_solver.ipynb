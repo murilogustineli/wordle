{
 "cells": [
  {
   "attachments": {},
   "cell_type": "markdown",
   "id": "cd86ed2e",
   "metadata": {},
   "source": [
    "# Wordle Solver"
   ]
  },
  {
   "cell_type": "code",
   "id": "aa0d6171",
   "metadata": {
    "ExecuteTime": {
     "end_time": "2024-11-27T16:00:30.764241Z",
     "start_time": "2024-11-27T16:00:30.509054Z"
    }
   },
   "source": [
    "from wordle.utils import Wordle\n",
    "\n",
    "%load_ext autoreload\n",
    "%autoreload 2"
   ],
   "outputs": [],
   "execution_count": 1
  },
  {
   "cell_type": "markdown",
   "id": "cccd4e6c",
   "metadata": {},
   "source": [
    "### Play Wordle"
   ]
  },
  {
   "cell_type": "code",
   "id": "8de7889c",
   "metadata": {
    "ExecuteTime": {
     "end_time": "2024-11-27T16:00:30.798819Z",
     "start_time": "2024-11-27T16:00:30.783680Z"
    }
   },
   "source": [
    "# Initialize Wordle class\n",
    "wordle = Wordle()\n",
    "\n",
    "# Main function that returns a list of possible words\n",
    "green_letters = \"asl\"\n",
    "green_positions = [3, 1, 2]\n",
    "yellow_letters = \"\"\n",
    "yellow_positions = []\n",
    "gray_letters = \"tireck\"\n",
    "\n",
    "# Find words in a list of possible words\n",
    "words = wordle.find_words(\n",
    "    green_letters,\n",
    "    green_positions,\n",
    "    yellow_letters,\n",
    "    yellow_positions,\n",
    "    gray_letters,\n",
    "    answer_word_list=True,\n",
    ")\n",
    "\n",
    "# Choose a word to play\n",
    "wordle.choose_word_to_play(word_threshold=2)"
   ],
   "outputs": [
    {
     "name": "stdout",
     "output_type": "stream",
     "text": [
      "Number of possible words: 2\n",
      "slang 8.0\n",
      "slash 7.0\n"
     ]
    }
   ],
   "execution_count": 2
  },
  {
   "cell_type": "code",
   "id": "07fabf77",
   "metadata": {
    "ExecuteTime": {
     "end_time": "2024-11-27T16:00:31.078130Z",
     "start_time": "2024-11-27T16:00:30.892979Z"
    }
   },
   "source": [
    "# Repetitive letters\n",
    "letters_df = wordle.repetitive_letters()\n",
    "print(letters_df.to_string(index=False))"
   ],
   "outputs": [
    {
     "name": "stdout",
     "output_type": "stream",
     "text": [
      "Letters  Count\n",
      "      S      3\n",
      "      L      2\n",
      "      A      2\n",
      "      N      1\n",
      "      G      1\n",
      "      H      1\n"
     ]
    }
   ],
   "execution_count": 3
  },
  {
   "cell_type": "code",
   "id": "ac58f55f",
   "metadata": {
    "ExecuteTime": {
     "end_time": "2024-11-27T16:00:31.092810Z",
     "start_time": "2024-11-27T16:00:31.081709Z"
    }
   },
   "source": [
    "df = wordle.load_data()\n",
    "df"
   ],
   "outputs": [
    {
     "data": {
      "text/plain": [
       "     Names  Games_Won\n",
       "0   Murilo        319\n",
       "1  Barbara        134\n",
       "2     Draw        312"
      ],
      "text/html": [
       "<div>\n",
       "<style scoped>\n",
       "    .dataframe tbody tr th:only-of-type {\n",
       "        vertical-align: middle;\n",
       "    }\n",
       "\n",
       "    .dataframe tbody tr th {\n",
       "        vertical-align: top;\n",
       "    }\n",
       "\n",
       "    .dataframe thead th {\n",
       "        text-align: right;\n",
       "    }\n",
       "</style>\n",
       "<table border=\"1\" class=\"dataframe\">\n",
       "  <thead>\n",
       "    <tr style=\"text-align: right;\">\n",
       "      <th></th>\n",
       "      <th>Names</th>\n",
       "      <th>Games_Won</th>\n",
       "    </tr>\n",
       "  </thead>\n",
       "  <tbody>\n",
       "    <tr>\n",
       "      <th>0</th>\n",
       "      <td>Murilo</td>\n",
       "      <td>319</td>\n",
       "    </tr>\n",
       "    <tr>\n",
       "      <th>1</th>\n",
       "      <td>Barbara</td>\n",
       "      <td>134</td>\n",
       "    </tr>\n",
       "    <tr>\n",
       "      <th>2</th>\n",
       "      <td>Draw</td>\n",
       "      <td>312</td>\n",
       "    </tr>\n",
       "  </tbody>\n",
       "</table>\n",
       "</div>"
      ]
     },
     "execution_count": 4,
     "metadata": {},
     "output_type": "execute_result"
    }
   ],
   "execution_count": 4
  },
  {
   "cell_type": "code",
   "id": "9bcf5433",
   "metadata": {
    "ExecuteTime": {
     "end_time": "2024-11-27T16:00:32.755354Z",
     "start_time": "2024-11-27T16:00:31.229680Z"
    }
   },
   "source": [
    "# Update score\n",
    "score_df = wordle.score()\n",
    "score_df"
   ],
   "outputs": [
    {
     "data": {
      "text/plain": [
       "     Names  Games_Won\n",
       "0   Murilo        319\n",
       "1  Barbara        134\n",
       "2     Draw        313"
      ],
      "text/html": [
       "<div>\n",
       "<style scoped>\n",
       "    .dataframe tbody tr th:only-of-type {\n",
       "        vertical-align: middle;\n",
       "    }\n",
       "\n",
       "    .dataframe tbody tr th {\n",
       "        vertical-align: top;\n",
       "    }\n",
       "\n",
       "    .dataframe thead th {\n",
       "        text-align: right;\n",
       "    }\n",
       "</style>\n",
       "<table border=\"1\" class=\"dataframe\">\n",
       "  <thead>\n",
       "    <tr style=\"text-align: right;\">\n",
       "      <th></th>\n",
       "      <th>Names</th>\n",
       "      <th>Games_Won</th>\n",
       "    </tr>\n",
       "  </thead>\n",
       "  <tbody>\n",
       "    <tr>\n",
       "      <th>0</th>\n",
       "      <td>Murilo</td>\n",
       "      <td>319</td>\n",
       "    </tr>\n",
       "    <tr>\n",
       "      <th>1</th>\n",
       "      <td>Barbara</td>\n",
       "      <td>134</td>\n",
       "    </tr>\n",
       "    <tr>\n",
       "      <th>2</th>\n",
       "      <td>Draw</td>\n",
       "      <td>313</td>\n",
       "    </tr>\n",
       "  </tbody>\n",
       "</table>\n",
       "</div>"
      ]
     },
     "execution_count": 5,
     "metadata": {},
     "output_type": "execute_result"
    }
   ],
   "execution_count": 5
  },
  {
   "cell_type": "code",
   "id": "68bca24a",
   "metadata": {
    "ExecuteTime": {
     "end_time": "2024-11-27T16:00:32.815329Z",
     "start_time": "2024-11-27T16:00:32.807131Z"
    }
   },
   "source": [
    "# Print results\n",
    "print(score_df.to_string(index=False))"
   ],
   "outputs": [
    {
     "name": "stdout",
     "output_type": "stream",
     "text": [
      "  Names  Games_Won\n",
      " Murilo        319\n",
      "Barbara        134\n",
      "   Draw        313\n"
     ]
    }
   ],
   "execution_count": 6
  },
  {
   "cell_type": "markdown",
   "id": "0877fdca",
   "metadata": {},
   "source": [
    "#### Git commit message"
   ]
  },
  {
   "cell_type": "code",
   "id": "35fdc04b",
   "metadata": {
    "ExecuteTime": {
     "end_time": "2024-11-27T16:00:32.860349Z",
     "start_time": "2024-11-27T16:00:32.851964Z"
    }
   },
   "source": [
    "# git commit message\n",
    "commit_message = wordle.get_commit_message()\n",
    "print(commit_message)"
   ],
   "outputs": [
    {
     "name": "stdout",
     "output_type": "stream",
     "text": [
      "git commit -m \"updated wordle 319-134-313\"\n"
     ]
    }
   ],
   "execution_count": 7
  },
  {
   "attachments": {},
   "cell_type": "markdown",
   "id": "3afcdbae",
   "metadata": {
    "tags": []
   },
   "source": [
    "#### Set custom score"
   ]
  },
  {
   "cell_type": "code",
   "id": "78647b3a",
   "metadata": {
    "ExecuteTime": {
     "end_time": "2024-11-27T16:00:32.892453Z",
     "start_time": "2024-11-27T16:00:32.885114Z"
    }
   },
   "source": [
    "# help(wordle.reset_score)"
   ],
   "outputs": [],
   "execution_count": 8
  },
  {
   "cell_type": "code",
   "id": "65d15bf0",
   "metadata": {
    "ExecuteTime": {
     "end_time": "2024-11-27T16:00:32.926104Z",
     "start_time": "2024-11-27T16:00:32.918679Z"
    }
   },
   "source": [
    "# help(wordle.set_score)"
   ],
   "outputs": [],
   "execution_count": 9
  },
  {
   "cell_type": "code",
   "id": "83f21710",
   "metadata": {
    "ExecuteTime": {
     "end_time": "2024-11-27T16:00:32.944107Z",
     "start_time": "2024-11-27T16:00:32.937594Z"
    }
   },
   "source": [
    "# # Set custom score\n",
    "# df = wordle.set_score(m_score=311, b_score=132, draw_score=308)\n",
    "# df"
   ],
   "outputs": [],
   "execution_count": 10
  },
  {
   "attachments": {},
   "cell_type": "markdown",
   "id": "99a87e1f",
   "metadata": {},
   "source": [
    "#### Reset score"
   ]
  },
  {
   "cell_type": "code",
   "id": "75742648",
   "metadata": {
    "tags": [],
    "ExecuteTime": {
     "end_time": "2024-11-27T16:00:32.960399Z",
     "start_time": "2024-11-27T16:00:32.954631Z"
    }
   },
   "source": [
    "## Reset score\n",
    "# wordle.reset_score()"
   ],
   "outputs": [],
   "execution_count": 11
  },
  {
   "cell_type": "code",
   "id": "ad8e6754",
   "metadata": {
    "ExecuteTime": {
     "end_time": "2024-11-27T16:00:32.977098Z",
     "start_time": "2024-11-27T16:00:32.970665Z"
    }
   },
   "source": [
    "raleigh = 1800 / 5000\n",
    "# intel = round(2500 / (10000 + (20000 / 12)), 2)\n",
    "intel = 2500 / 10000\n",
    "print(f\"Raleigh: {raleigh}%, Intel: {intel}%\")"
   ],
   "outputs": [
    {
     "name": "stdout",
     "output_type": "stream",
     "text": [
      "Raleigh: 0.36%, Intel: 0.25%\n"
     ]
    }
   ],
   "execution_count": 12
  },
  {
   "metadata": {
    "ExecuteTime": {
     "end_time": "2024-11-27T16:00:32.997437Z",
     "start_time": "2024-11-27T16:00:32.989063Z"
    }
   },
   "cell_type": "code",
   "source": [
    "# monthly expenses\n",
    "pay = 9800\n",
    "rent = 2500\n",
    "food = 800\n",
    "car = 300\n",
    "gas = 60\n",
    "insurance = 200\n",
    "utilities = 100\n",
    "gym = 60\n",
    "extra = 600\n",
    "total = rent + food + car + gas + insurance + utilities + gym + extra\n",
    "savings = round((pay - total) / pay, 2)\n",
    "savings"
   ],
   "id": "1fdcc7e9e6b37c24",
   "outputs": [
    {
     "data": {
      "text/plain": [
       "0.53"
      ]
     },
     "execution_count": 13,
     "metadata": {},
     "output_type": "execute_result"
    }
   ],
   "execution_count": 13
  }
 ],
 "metadata": {
  "kernelspec": {
   "display_name": ".venv",
   "language": "python",
   "name": "python3"
  },
  "language_info": {
   "codemirror_mode": {
    "name": "ipython",
    "version": 3
   },
   "file_extension": ".py",
   "mimetype": "text/x-python",
   "name": "python",
   "nbconvert_exporter": "python",
   "pygments_lexer": "ipython3",
   "version": "3.10.12"
  }
 },
 "nbformat": 4,
 "nbformat_minor": 5
}
