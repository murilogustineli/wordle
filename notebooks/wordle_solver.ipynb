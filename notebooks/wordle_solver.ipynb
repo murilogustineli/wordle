{
 "cells": [
  {
   "attachments": {},
   "cell_type": "markdown",
   "id": "cd86ed2e",
   "metadata": {},
   "source": [
    "# Wordle Solver"
   ]
  },
  {
   "cell_type": "code",
   "execution_count": 1,
   "id": "aa0d6171",
   "metadata": {
    "ExecuteTime": {
     "end_time": "2024-12-16T21:43:41.042067Z",
     "start_time": "2024-12-16T21:43:40.807399Z"
    }
   },
   "outputs": [],
   "source": [
    "from wordle.utils import Wordle\n",
    "\n",
    "%load_ext autoreload\n",
    "%autoreload 2"
   ]
  },
  {
   "cell_type": "markdown",
   "id": "cccd4e6c",
   "metadata": {},
   "source": [
    "### Play Wordle"
   ]
  },
  {
   "cell_type": "code",
   "execution_count": 2,
   "id": "ed1e8c097e417b0e",
   "metadata": {
    "ExecuteTime": {
     "end_time": "2024-12-16T21:43:41.077069Z",
     "start_time": "2024-12-16T21:43:41.057904Z"
    }
   },
   "outputs": [
    {
     "name": "stdout",
     "output_type": "stream",
     "text": [
      "Number of possible words: 1\n",
      "scowl 0.0\n"
     ]
    }
   ],
   "source": [
    "# Initialize Wordle class\n",
    "wordle = Wordle()\n",
    "\n",
    "# Main function that returns a list of possible words\n",
    "green_letters = \"s\"\n",
    "green_positions = [1]\n",
    "yellow_letters = \"ollcos\"\n",
    "yellow_positions = [2, 4, 2, 3, 4, 5]\n",
    "gray_letters = \"tiarenya\"\n",
    "\n",
    "# Find words in a list of possible words\n",
    "words = wordle.find_words(\n",
    "    green_letters,\n",
    "    green_positions,\n",
    "    yellow_letters,\n",
    "    yellow_positions,\n",
    "    gray_letters,\n",
    "    answer_word_list=True,\n",
    ")\n",
    "\n",
    "# Choose a word to play\n",
    "wordle.choose_word_to_play(word_threshold=2)"
   ]
  },
  {
   "cell_type": "code",
   "execution_count": 3,
   "id": "4cb77cc5def13431",
   "metadata": {
    "ExecuteTime": {
     "end_time": "2024-12-16T21:43:41.358466Z",
     "start_time": "2024-12-16T21:43:41.165814Z"
    }
   },
   "outputs": [
    {
     "name": "stdout",
     "output_type": "stream",
     "text": [
      "Letters  Count\n",
      "      S      1\n",
      "      C      1\n",
      "      O      1\n",
      "      W      1\n",
      "      L      1\n"
     ]
    }
   ],
   "source": [
    "# Repetitive letters\n",
    "letters_df = wordle.repetitive_letters()\n",
    "print(letters_df.to_string(index=False))"
   ]
  },
  {
   "cell_type": "code",
   "execution_count": 4,
   "id": "4098fa6f21bd5227",
   "metadata": {
    "ExecuteTime": {
     "end_time": "2024-12-16T21:43:41.502042Z",
     "start_time": "2024-12-16T21:43:41.490729Z"
    }
   },
   "outputs": [
    {
     "data": {
      "text/html": [
       "<div>\n",
       "<style scoped>\n",
       "    .dataframe tbody tr th:only-of-type {\n",
       "        vertical-align: middle;\n",
       "    }\n",
       "\n",
       "    .dataframe tbody tr th {\n",
       "        vertical-align: top;\n",
       "    }\n",
       "\n",
       "    .dataframe thead th {\n",
       "        text-align: right;\n",
       "    }\n",
       "</style>\n",
       "<table border=\"1\" class=\"dataframe\">\n",
       "  <thead>\n",
       "    <tr style=\"text-align: right;\">\n",
       "      <th></th>\n",
       "      <th>Names</th>\n",
       "      <th>Games_Won</th>\n",
       "    </tr>\n",
       "  </thead>\n",
       "  <tbody>\n",
       "    <tr>\n",
       "      <th>0</th>\n",
       "      <td>Murilo</td>\n",
       "      <td>325</td>\n",
       "    </tr>\n",
       "    <tr>\n",
       "      <th>1</th>\n",
       "      <td>Barbara</td>\n",
       "      <td>140</td>\n",
       "    </tr>\n",
       "    <tr>\n",
       "      <th>2</th>\n",
       "      <td>Draw</td>\n",
       "      <td>319</td>\n",
       "    </tr>\n",
       "  </tbody>\n",
       "</table>\n",
       "</div>"
      ],
      "text/plain": [
       "     Names  Games_Won\n",
       "0   Murilo        325\n",
       "1  Barbara        140\n",
       "2     Draw        319"
      ]
     },
     "execution_count": 4,
     "metadata": {},
     "output_type": "execute_result"
    }
   ],
   "source": [
    "df = wordle.load_data()\n",
    "df"
   ]
  },
  {
   "cell_type": "code",
   "execution_count": 5,
   "id": "9bcf5433",
   "metadata": {
    "ExecuteTime": {
     "end_time": "2024-12-16T21:43:43.195468Z",
     "start_time": "2024-12-16T21:43:41.526167Z"
    }
   },
   "outputs": [
    {
     "data": {
      "text/html": [
       "<div>\n",
       "<style scoped>\n",
       "    .dataframe tbody tr th:only-of-type {\n",
       "        vertical-align: middle;\n",
       "    }\n",
       "\n",
       "    .dataframe tbody tr th {\n",
       "        vertical-align: top;\n",
       "    }\n",
       "\n",
       "    .dataframe thead th {\n",
       "        text-align: right;\n",
       "    }\n",
       "</style>\n",
       "<table border=\"1\" class=\"dataframe\">\n",
       "  <thead>\n",
       "    <tr style=\"text-align: right;\">\n",
       "      <th></th>\n",
       "      <th>Names</th>\n",
       "      <th>Games_Won</th>\n",
       "    </tr>\n",
       "  </thead>\n",
       "  <tbody>\n",
       "    <tr>\n",
       "      <th>0</th>\n",
       "      <td>Murilo</td>\n",
       "      <td>325</td>\n",
       "    </tr>\n",
       "    <tr>\n",
       "      <th>1</th>\n",
       "      <td>Barbara</td>\n",
       "      <td>140</td>\n",
       "    </tr>\n",
       "    <tr>\n",
       "      <th>2</th>\n",
       "      <td>Draw</td>\n",
       "      <td>320</td>\n",
       "    </tr>\n",
       "  </tbody>\n",
       "</table>\n",
       "</div>"
      ],
      "text/plain": [
       "     Names  Games_Won\n",
       "0   Murilo        325\n",
       "1  Barbara        140\n",
       "2     Draw        320"
      ]
     },
     "execution_count": 5,
     "metadata": {},
     "output_type": "execute_result"
    }
   ],
   "source": [
    "# Update score\n",
    "score_df = wordle.score()\n",
    "score_df"
   ]
  },
  {
   "cell_type": "code",
   "execution_count": 6,
   "id": "68bca24a",
   "metadata": {
    "ExecuteTime": {
     "end_time": "2024-12-16T21:43:43.248744Z",
     "start_time": "2024-12-16T21:43:43.240388Z"
    }
   },
   "outputs": [
    {
     "name": "stdout",
     "output_type": "stream",
     "text": [
      "  Names  Games_Won\n",
      " Murilo        325\n",
      "Barbara        140\n",
      "   Draw        320\n"
     ]
    }
   ],
   "source": [
    "# Print results\n",
    "print(score_df.to_string(index=False))"
   ]
  },
  {
   "cell_type": "markdown",
   "id": "0877fdca",
   "metadata": {},
   "source": [
    "#### Git commit message"
   ]
  },
  {
   "cell_type": "code",
   "execution_count": 7,
   "id": "35fdc04b",
   "metadata": {
    "ExecuteTime": {
     "end_time": "2024-12-16T21:43:43.323977Z",
     "start_time": "2024-12-16T21:43:43.315314Z"
    }
   },
   "outputs": [
    {
     "name": "stdout",
     "output_type": "stream",
     "text": [
      "git commit -m \"updated wordle 325-140-320\"\n"
     ]
    }
   ],
   "source": [
    "# git commit message\n",
    "commit_message = wordle.get_commit_message()\n",
    "print(commit_message)"
   ]
  },
  {
   "attachments": {},
   "cell_type": "markdown",
   "id": "3afcdbae",
   "metadata": {
    "tags": []
   },
   "source": [
    "#### Set custom score"
   ]
  },
  {
   "cell_type": "code",
   "execution_count": 8,
   "id": "78647b3a",
   "metadata": {
    "ExecuteTime": {
     "end_time": "2024-12-16T21:43:43.365823Z",
     "start_time": "2024-12-16T21:43:43.358311Z"
    }
   },
   "outputs": [],
   "source": [
    "# help(wordle.reset_score)"
   ]
  },
  {
   "cell_type": "code",
   "execution_count": 9,
   "id": "65d15bf0",
   "metadata": {
    "ExecuteTime": {
     "end_time": "2024-12-16T21:43:43.403378Z",
     "start_time": "2024-12-16T21:43:43.395Z"
    }
   },
   "outputs": [],
   "source": [
    "# help(wordle.set_score)"
   ]
  },
  {
   "cell_type": "code",
   "execution_count": 10,
   "id": "83f21710",
   "metadata": {
    "ExecuteTime": {
     "end_time": "2024-12-16T21:43:43.422412Z",
     "start_time": "2024-12-16T21:43:43.415257Z"
    }
   },
   "outputs": [],
   "source": [
    "# # Set custom score\n",
    "# df = wordle.set_score(m_score=311, b_score=132, draw_score=308)\n",
    "# df"
   ]
  },
  {
   "attachments": {},
   "cell_type": "markdown",
   "id": "99a87e1f",
   "metadata": {},
   "source": [
    "#### Reset score"
   ]
  },
  {
   "cell_type": "code",
   "execution_count": 11,
   "id": "75742648",
   "metadata": {
    "ExecuteTime": {
     "end_time": "2024-12-16T21:43:43.441515Z",
     "start_time": "2024-12-16T21:43:43.433975Z"
    },
    "tags": []
   },
   "outputs": [],
   "source": [
    "## Reset score\n",
    "# wordle.reset_score()"
   ]
  }
 ],
 "metadata": {
  "kernelspec": {
   "display_name": ".venv",
   "language": "python",
   "name": "python3"
  },
  "language_info": {
   "codemirror_mode": {
    "name": "ipython",
    "version": 3
   },
   "file_extension": ".py",
   "mimetype": "text/x-python",
   "name": "python",
   "nbconvert_exporter": "python",
   "pygments_lexer": "ipython3",
   "version": "3.10.12"
  }
 },
 "nbformat": 4,
 "nbformat_minor": 5
}
