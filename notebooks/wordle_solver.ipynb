{
 "cells": [
  {
   "attachments": {},
   "cell_type": "markdown",
   "id": "cd86ed2e",
   "metadata": {},
   "source": [
    "# Wordle Solver"
   ]
  },
  {
   "cell_type": "code",
   "id": "aa0d6171",
   "metadata": {
    "ExecuteTime": {
     "end_time": "2024-12-22T04:01:33.677509Z",
     "start_time": "2024-12-22T04:01:33.422032Z"
    }
   },
   "source": [
    "from wordle.utils import Wordle\n",
    "\n",
    "%load_ext autoreload\n",
    "%autoreload 2"
   ],
   "outputs": [],
   "execution_count": 1
  },
  {
   "cell_type": "markdown",
   "id": "cccd4e6c",
   "metadata": {},
   "source": [
    "### Play Wordle"
   ]
  },
  {
   "cell_type": "code",
   "id": "ed1e8c097e417b0e",
   "metadata": {
    "ExecuteTime": {
     "end_time": "2024-12-22T04:01:33.710673Z",
     "start_time": "2024-12-22T04:01:33.690119Z"
    }
   },
   "source": [
    "# Initialize Wordle class\n",
    "wordle = Wordle()\n",
    "\n",
    "# Main function that returns a list of possible words\n",
    "green_letters = \"a\"\n",
    "green_positions = [3]\n",
    "yellow_letters = \"rn\"\n",
    "yellow_positions = [4, 4]\n",
    "gray_letters = \"tiechyd\"\n",
    "\n",
    "# Find words in a list of possible words\n",
    "words = wordle.find_words(\n",
    "    green_letters,\n",
    "    green_positions,\n",
    "    yellow_letters,\n",
    "    yellow_positions,\n",
    "    gray_letters,\n",
    "    answer_word_list=True,\n",
    ")\n",
    "\n",
    "# Choose a word to play\n",
    "wordle.choose_word_to_play(word_threshold=2)"
   ],
   "outputs": [
    {
     "name": "stdout",
     "output_type": "stream",
     "text": [
      "Number of possible words: 2\n",
      "brawn 9.0\n",
      "prawn 9.0\n"
     ]
    }
   ],
   "execution_count": 2
  },
  {
   "cell_type": "code",
   "id": "4cb77cc5def13431",
   "metadata": {
    "ExecuteTime": {
     "end_time": "2024-12-22T04:01:33.977371Z",
     "start_time": "2024-12-22T04:01:33.791346Z"
    }
   },
   "source": [
    "# Repetitive letters\n",
    "letters_df = wordle.repetitive_letters()\n",
    "print(letters_df.to_string(index=False))"
   ],
   "outputs": [
    {
     "name": "stdout",
     "output_type": "stream",
     "text": [
      "Letters  Count\n",
      "      R      2\n",
      "      A      2\n",
      "      W      2\n",
      "      N      2\n",
      "      B      1\n",
      "      P      1\n"
     ]
    }
   ],
   "execution_count": 3
  },
  {
   "cell_type": "code",
   "id": "4098fa6f21bd5227",
   "metadata": {
    "ExecuteTime": {
     "end_time": "2024-12-22T04:01:34.113063Z",
     "start_time": "2024-12-22T04:01:34.101833Z"
    }
   },
   "source": [
    "df = wordle.load_data()\n",
    "df"
   ],
   "outputs": [
    {
     "data": {
      "text/plain": [
       "     Names  Games_Won\n",
       "0   Murilo        326\n",
       "1  Barbara        141\n",
       "2     Draw        322"
      ],
      "text/html": [
       "<div>\n",
       "<style scoped>\n",
       "    .dataframe tbody tr th:only-of-type {\n",
       "        vertical-align: middle;\n",
       "    }\n",
       "\n",
       "    .dataframe tbody tr th {\n",
       "        vertical-align: top;\n",
       "    }\n",
       "\n",
       "    .dataframe thead th {\n",
       "        text-align: right;\n",
       "    }\n",
       "</style>\n",
       "<table border=\"1\" class=\"dataframe\">\n",
       "  <thead>\n",
       "    <tr style=\"text-align: right;\">\n",
       "      <th></th>\n",
       "      <th>Names</th>\n",
       "      <th>Games_Won</th>\n",
       "    </tr>\n",
       "  </thead>\n",
       "  <tbody>\n",
       "    <tr>\n",
       "      <th>0</th>\n",
       "      <td>Murilo</td>\n",
       "      <td>326</td>\n",
       "    </tr>\n",
       "    <tr>\n",
       "      <th>1</th>\n",
       "      <td>Barbara</td>\n",
       "      <td>141</td>\n",
       "    </tr>\n",
       "    <tr>\n",
       "      <th>2</th>\n",
       "      <td>Draw</td>\n",
       "      <td>322</td>\n",
       "    </tr>\n",
       "  </tbody>\n",
       "</table>\n",
       "</div>"
      ]
     },
     "execution_count": 4,
     "metadata": {},
     "output_type": "execute_result"
    }
   ],
   "execution_count": 4
  },
  {
   "cell_type": "code",
   "id": "9bcf5433",
   "metadata": {
    "ExecuteTime": {
     "end_time": "2024-12-22T04:01:35.801149Z",
     "start_time": "2024-12-22T04:01:34.124203Z"
    }
   },
   "source": [
    "# Update score\n",
    "score_df = wordle.score()\n",
    "score_df"
   ],
   "outputs": [
    {
     "data": {
      "text/plain": [
       "     Names  Games_Won\n",
       "0   Murilo        327\n",
       "1  Barbara        141\n",
       "2     Draw        322"
      ],
      "text/html": [
       "<div>\n",
       "<style scoped>\n",
       "    .dataframe tbody tr th:only-of-type {\n",
       "        vertical-align: middle;\n",
       "    }\n",
       "\n",
       "    .dataframe tbody tr th {\n",
       "        vertical-align: top;\n",
       "    }\n",
       "\n",
       "    .dataframe thead th {\n",
       "        text-align: right;\n",
       "    }\n",
       "</style>\n",
       "<table border=\"1\" class=\"dataframe\">\n",
       "  <thead>\n",
       "    <tr style=\"text-align: right;\">\n",
       "      <th></th>\n",
       "      <th>Names</th>\n",
       "      <th>Games_Won</th>\n",
       "    </tr>\n",
       "  </thead>\n",
       "  <tbody>\n",
       "    <tr>\n",
       "      <th>0</th>\n",
       "      <td>Murilo</td>\n",
       "      <td>327</td>\n",
       "    </tr>\n",
       "    <tr>\n",
       "      <th>1</th>\n",
       "      <td>Barbara</td>\n",
       "      <td>141</td>\n",
       "    </tr>\n",
       "    <tr>\n",
       "      <th>2</th>\n",
       "      <td>Draw</td>\n",
       "      <td>322</td>\n",
       "    </tr>\n",
       "  </tbody>\n",
       "</table>\n",
       "</div>"
      ]
     },
     "execution_count": 5,
     "metadata": {},
     "output_type": "execute_result"
    }
   ],
   "execution_count": 5
  },
  {
   "cell_type": "code",
   "id": "68bca24a",
   "metadata": {
    "ExecuteTime": {
     "end_time": "2024-12-22T04:01:35.838955Z",
     "start_time": "2024-12-22T04:01:35.829906Z"
    }
   },
   "source": [
    "# Print results\n",
    "print(score_df.to_string(index=False))"
   ],
   "outputs": [
    {
     "name": "stdout",
     "output_type": "stream",
     "text": [
      "  Names  Games_Won\n",
      " Murilo        327\n",
      "Barbara        141\n",
      "   Draw        322\n"
     ]
    }
   ],
   "execution_count": 6
  },
  {
   "cell_type": "markdown",
   "id": "0877fdca",
   "metadata": {},
   "source": [
    "#### Git commit message"
   ]
  },
  {
   "cell_type": "code",
   "id": "35fdc04b",
   "metadata": {
    "ExecuteTime": {
     "end_time": "2024-12-22T04:01:35.923116Z",
     "start_time": "2024-12-22T04:01:35.914434Z"
    }
   },
   "source": [
    "# git commit message\n",
    "commit_message = wordle.get_commit_message()\n",
    "print(commit_message)"
   ],
   "outputs": [
    {
     "name": "stdout",
     "output_type": "stream",
     "text": [
      "git commit -m \"updated wordle 327-141-322\"\n"
     ]
    }
   ],
   "execution_count": 7
  },
  {
   "attachments": {},
   "cell_type": "markdown",
   "id": "3afcdbae",
   "metadata": {
    "tags": []
   },
   "source": [
    "#### Set custom score"
   ]
  },
  {
   "cell_type": "code",
   "id": "78647b3a",
   "metadata": {
    "ExecuteTime": {
     "end_time": "2024-12-22T04:01:35.967106Z",
     "start_time": "2024-12-22T04:01:35.958945Z"
    }
   },
   "source": [
    "# help(wordle.reset_score)"
   ],
   "outputs": [],
   "execution_count": 8
  },
  {
   "cell_type": "code",
   "id": "65d15bf0",
   "metadata": {
    "ExecuteTime": {
     "end_time": "2024-12-22T04:01:36.006209Z",
     "start_time": "2024-12-22T04:01:35.999091Z"
    }
   },
   "source": [
    "# help(wordle.set_score)"
   ],
   "outputs": [],
   "execution_count": 9
  },
  {
   "cell_type": "code",
   "id": "83f21710",
   "metadata": {
    "ExecuteTime": {
     "end_time": "2024-12-22T04:01:36.034929Z",
     "start_time": "2024-12-22T04:01:36.027296Z"
    }
   },
   "source": [
    "# # Set custom score\n",
    "# df = wordle.set_score(m_score=311, b_score=132, draw_score=308)\n",
    "# df"
   ],
   "outputs": [],
   "execution_count": 10
  },
  {
   "attachments": {},
   "cell_type": "markdown",
   "id": "99a87e1f",
   "metadata": {},
   "source": [
    "#### Reset score"
   ]
  },
  {
   "cell_type": "code",
   "id": "75742648",
   "metadata": {
    "tags": [],
    "ExecuteTime": {
     "end_time": "2024-12-22T04:01:36.053296Z",
     "start_time": "2024-12-22T04:01:36.046560Z"
    }
   },
   "source": [
    "## Reset score\n",
    "# wordle.reset_score()"
   ],
   "outputs": [],
   "execution_count": 11
  },
  {
   "metadata": {
    "ExecuteTime": {
     "end_time": "2024-12-22T04:01:36.069804Z",
     "start_time": "2024-12-22T04:01:36.068415Z"
    }
   },
   "cell_type": "code",
   "source": "",
   "id": "2657190fd460675f",
   "outputs": [],
   "execution_count": null
  }
 ],
 "metadata": {
  "kernelspec": {
   "display_name": ".venv",
   "language": "python",
   "name": "python3"
  },
  "language_info": {
   "codemirror_mode": {
    "name": "ipython",
    "version": 3
   },
   "file_extension": ".py",
   "mimetype": "text/x-python",
   "name": "python",
   "nbconvert_exporter": "python",
   "pygments_lexer": "ipython3",
   "version": "3.10.12"
  }
 },
 "nbformat": 4,
 "nbformat_minor": 5
}
