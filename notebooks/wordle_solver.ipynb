{
 "cells": [
  {
   "attachments": {},
   "cell_type": "markdown",
   "id": "cd86ed2e",
   "metadata": {},
   "source": [
    "# Wordle Solver"
   ]
  },
  {
   "cell_type": "code",
   "execution_count": 1,
   "id": "aa0d6171",
   "metadata": {},
   "outputs": [],
   "source": [
    "from wordle.utils import Wordle\n",
    "\n",
    "%load_ext autoreload\n",
    "%autoreload 2"
   ]
  },
  {
   "cell_type": "code",
   "execution_count": 2,
   "id": "67ea32ba",
   "metadata": {},
   "outputs": [
    {
     "name": "stdout",
     "output_type": "stream",
     "text": [
      "['decal']\n"
     ]
    }
   ],
   "source": [
    "# Initialize Wordle class\n",
    "wordle = Wordle()\n",
    "\n",
    "# Main function that returns a list of possible words\n",
    "green_letters = \"de\"\n",
    "green_positions = [1, 2]\n",
    "yellow_letters = \"cael\"\n",
    "yellow_positions = [1, 3, 5, 3]\n",
    "bad_letters = \"rnft\"\n",
    "\n",
    "# Find words in a list of possible words\n",
    "words = wordle.find_words(\n",
    "    green_letters, green_positions, yellow_letters, yellow_positions, bad_letters\n",
    ")\n",
    "print(words)"
   ]
  },
  {
   "cell_type": "code",
   "execution_count": 3,
   "id": "07fabf77",
   "metadata": {},
   "outputs": [
    {
     "name": "stdout",
     "output_type": "stream",
     "text": [
      "Letters  Count\n",
      "      D      1\n",
      "      E      1\n",
      "      C      1\n",
      "      A      1\n",
      "      L      1\n"
     ]
    }
   ],
   "source": [
    "# Repetitive letters\n",
    "letters_df = wordle.repetitive_letters(wordle_list=words)\n",
    "print(letters_df.to_string(index=False))"
   ]
  },
  {
   "attachments": {},
   "cell_type": "markdown",
   "id": "ae329b2b",
   "metadata": {},
   "source": [
    "#### Choosing next word"
   ]
  },
  {
   "cell_type": "code",
   "execution_count": 4,
   "id": "87f44000",
   "metadata": {},
   "outputs": [
    {
     "name": "stdout",
     "output_type": "stream",
     "text": [
      "['delft']\n"
     ]
    }
   ],
   "source": [
    "# Main function that returns a list of possible words\n",
    "green_letters = \"\"\n",
    "green_positions = []\n",
    "yellow_letters = \"ldtf\"\n",
    "yellow_positions = []\n",
    "bad_letters = \"\"\n",
    "\n",
    "# Find words in a list of possible words\n",
    "words = wordle.find_words(\n",
    "    green_letters,\n",
    "    green_positions,\n",
    "    yellow_letters,\n",
    "    yellow_positions,\n",
    "    bad_letters,\n",
    "    answer_word_list=False,\n",
    ")\n",
    "print(words)"
   ]
  },
  {
   "cell_type": "code",
   "execution_count": 5,
   "id": "ac58f55f",
   "metadata": {},
   "outputs": [
    {
     "data": {
      "text/html": [
       "<div>\n",
       "<style scoped>\n",
       "    .dataframe tbody tr th:only-of-type {\n",
       "        vertical-align: middle;\n",
       "    }\n",
       "\n",
       "    .dataframe tbody tr th {\n",
       "        vertical-align: top;\n",
       "    }\n",
       "\n",
       "    .dataframe thead th {\n",
       "        text-align: right;\n",
       "    }\n",
       "</style>\n",
       "<table border=\"1\" class=\"dataframe\">\n",
       "  <thead>\n",
       "    <tr style=\"text-align: right;\">\n",
       "      <th></th>\n",
       "      <th>Names</th>\n",
       "      <th>Games_Won</th>\n",
       "    </tr>\n",
       "  </thead>\n",
       "  <tbody>\n",
       "    <tr>\n",
       "      <th>0</th>\n",
       "      <td>Murilo</td>\n",
       "      <td>255</td>\n",
       "    </tr>\n",
       "    <tr>\n",
       "      <th>1</th>\n",
       "      <td>Barbara</td>\n",
       "      <td>106</td>\n",
       "    </tr>\n",
       "    <tr>\n",
       "      <th>2</th>\n",
       "      <td>Draw</td>\n",
       "      <td>257</td>\n",
       "    </tr>\n",
       "  </tbody>\n",
       "</table>\n",
       "</div>"
      ],
      "text/plain": [
       "     Names  Games_Won\n",
       "0   Murilo        255\n",
       "1  Barbara        106\n",
       "2     Draw        257"
      ]
     },
     "execution_count": 5,
     "metadata": {},
     "output_type": "execute_result"
    }
   ],
   "source": [
    "df = wordle.load_data()\n",
    "df"
   ]
  },
  {
   "cell_type": "code",
   "execution_count": 6,
   "id": "9bcf5433",
   "metadata": {},
   "outputs": [
    {
     "data": {
      "text/html": [
       "<div>\n",
       "<style scoped>\n",
       "    .dataframe tbody tr th:only-of-type {\n",
       "        vertical-align: middle;\n",
       "    }\n",
       "\n",
       "    .dataframe tbody tr th {\n",
       "        vertical-align: top;\n",
       "    }\n",
       "\n",
       "    .dataframe thead th {\n",
       "        text-align: right;\n",
       "    }\n",
       "</style>\n",
       "<table border=\"1\" class=\"dataframe\">\n",
       "  <thead>\n",
       "    <tr style=\"text-align: right;\">\n",
       "      <th></th>\n",
       "      <th>Names</th>\n",
       "      <th>Games_Won</th>\n",
       "    </tr>\n",
       "  </thead>\n",
       "  <tbody>\n",
       "    <tr>\n",
       "      <th>0</th>\n",
       "      <td>Murilo</td>\n",
       "      <td>255</td>\n",
       "    </tr>\n",
       "    <tr>\n",
       "      <th>1</th>\n",
       "      <td>Barbara</td>\n",
       "      <td>107</td>\n",
       "    </tr>\n",
       "    <tr>\n",
       "      <th>2</th>\n",
       "      <td>Draw</td>\n",
       "      <td>257</td>\n",
       "    </tr>\n",
       "  </tbody>\n",
       "</table>\n",
       "</div>"
      ],
      "text/plain": [
       "     Names  Games_Won\n",
       "0   Murilo        255\n",
       "1  Barbara        107\n",
       "2     Draw        257"
      ]
     },
     "execution_count": 6,
     "metadata": {},
     "output_type": "execute_result"
    }
   ],
   "source": [
    "# Update score\n",
    "score_df = wordle.score()\n",
    "score_df"
   ]
  },
  {
   "cell_type": "code",
   "execution_count": 7,
   "id": "68bca24a",
   "metadata": {},
   "outputs": [
    {
     "name": "stdout",
     "output_type": "stream",
     "text": [
      "  Names  Games_Won\n",
      " Murilo        255\n",
      "Barbara        107\n",
      "   Draw        257\n"
     ]
    }
   ],
   "source": [
    "# Print results\n",
    "print(score_df.to_string(index=False))"
   ]
  },
  {
   "cell_type": "code",
   "execution_count": 8,
   "id": "78647b3a",
   "metadata": {},
   "outputs": [],
   "source": [
    "# help(wordle.reset_score)"
   ]
  },
  {
   "attachments": {},
   "cell_type": "markdown",
   "id": "3afcdbae",
   "metadata": {
    "tags": []
   },
   "source": [
    "#### Set custom score"
   ]
  },
  {
   "cell_type": "code",
   "execution_count": 9,
   "id": "65d15bf0",
   "metadata": {},
   "outputs": [],
   "source": [
    "# help(wordle.set_score)"
   ]
  },
  {
   "cell_type": "code",
   "execution_count": 10,
   "id": "83f21710",
   "metadata": {},
   "outputs": [],
   "source": [
    "# # Set custom score\n",
    "# df = wordle.set_score(m_score=253, b_score=105, draw_score=252)\n",
    "# df"
   ]
  },
  {
   "attachments": {},
   "cell_type": "markdown",
   "id": "99a87e1f",
   "metadata": {},
   "source": [
    "#### Reset score"
   ]
  },
  {
   "cell_type": "code",
   "execution_count": 11,
   "id": "75742648",
   "metadata": {
    "tags": []
   },
   "outputs": [],
   "source": [
    "## Reset score\n",
    "# wordle.reset_score()"
   ]
  },
  {
   "cell_type": "markdown",
   "id": "0b0182dc",
   "metadata": {},
   "source": []
  },
  {
   "cell_type": "code",
   "execution_count": null,
   "id": "c1830c07",
   "metadata": {},
   "outputs": [],
   "source": []
  },
  {
   "cell_type": "code",
   "execution_count": null,
   "id": "8eb26bfc",
   "metadata": {},
   "outputs": [],
   "source": [
    "from plantclef.utils import get_spark\n",
    "from pyspark.sql import functions as F\n",
    "\n",
    "spark = get_spark()\n",
    "display(spark)"
   ]
  },
  {
   "cell_type": "code",
   "execution_count": null,
   "id": "98ba5ef8",
   "metadata": {},
   "outputs": [],
   "source": [
    "# get dataframes\n",
    "gcs_path = \"gs://dsgt-clef-plantclef-2024\"\n",
    "test_data_path = \"data/parquet_files/PlantCLEF2024_test\"\n",
    "\n",
    "# paths to dataframe\n",
    "test_path = f\"{gcs_path}/{test_data_path}\"\n",
    "# read data\n",
    "test_df = spark.read.parquet(test_path)\n",
    "# show\n",
    "test_df.show(n=5, truncate=50)"
   ]
  },
  {
   "cell_type": "code",
   "execution_count": null,
   "id": "655735cf",
   "metadata": {},
   "outputs": [],
   "source": [
    "import io\n",
    "\n",
    "import numpy as np\n",
    "import timm\n",
    "import torch\n",
    "from PIL import Image\n",
    "from pyspark.sql import functions as F\n",
    "from pyspark.sql.types import ArrayType, FloatType, MapType, StringType\n",
    "from pyspark.ml import Transformer\n",
    "from pyspark.ml.param.shared import HasInputCol, HasOutputCol\n",
    "from pyspark.ml.util import DefaultParamsReadable, DefaultParamsWritable\n",
    "from plantclef.model_setup import setup_pretrained_model\n",
    "from pyspark.sql import DataFrame\n",
    "from pyspark.ml.functions import vector_to_array\n",
    "from pyspark.ml import Pipeline\n",
    "from pyspark.ml.feature import SQLTransformer"
   ]
  },
  {
   "cell_type": "code",
   "execution_count": null,
   "id": "48697b21",
   "metadata": {},
   "outputs": [],
   "source": [
    "class PretrainedDinoV2(\n",
    "    Transformer,\n",
    "    HasInputCol,\n",
    "    HasOutputCol,\n",
    "    DefaultParamsReadable,\n",
    "    DefaultParamsWritable,\n",
    "):\n",
    "    def __init__(\n",
    "        self,\n",
    "        pretrained_path: str,\n",
    "        input_col: str = \"input\",\n",
    "        output_col: str = \"output\",\n",
    "        model_name: str = \"vit_base_patch14_reg4_dinov2.lvd142m\",\n",
    "        batch_size: int = 8,\n",
    "    ):\n",
    "        super().__init__()\n",
    "        self._setDefault(inputCol=input_col, outputCol=output_col)\n",
    "        self.model_name = model_name\n",
    "        self.batch_size = batch_size\n",
    "        self.pretrained_path = pretrained_path\n",
    "        self.num_classes = 7806  # total number of plant species\n",
    "        self.local_directory = \"/mnt/data/models/pretrained_models\"\n",
    "        self.class_mapping_file = f\"{self.local_directory}/class_mapping.txt\"\n",
    "        # Model\n",
    "        self.device = torch.device(\"cuda\" if torch.cuda.is_available() else \"cpu\")\n",
    "        self.model = timm.create_model(\n",
    "            self.model_name,\n",
    "            pretrained=False,\n",
    "            num_classes=self.num_classes,\n",
    "            checkpoint_path=self.pretrained_path,\n",
    "        )\n",
    "        self.model.to(self.device)\n",
    "        self.model.eval()\n",
    "        # Data transform\n",
    "        self.data_config = timm.data.resolve_model_data_config(self.model)\n",
    "        self.transforms = timm.data.create_transform(\n",
    "            **self.data_config, is_training=False\n",
    "        )\n",
    "        self.sql_statement = \"SELECT image_name, dino_logits FROM __THIS__\"\n",
    "\n",
    "    def _load_class_mapping(self):\n",
    "        with open(self.class_mapping_file) as f:\n",
    "            class_index_to_class_name = {i: line.strip() for i, line in enumerate(f)}\n",
    "        return class_index_to_class_name\n",
    "\n",
    "    def _make_predict_fn(self):\n",
    "        \"\"\"Return PredictBatchFunction using a closure over the model\"\"\"\n",
    "        self.cid_to_spid = self._load_class_mapping()\n",
    "\n",
    "        def predict(inputs: np.ndarray) -> np.ndarray:\n",
    "            batch_results = []\n",
    "            for i, input in enumerate(inputs):\n",
    "                print(f\"Item {i} type: {type(input)}\")  # Check the type of the input\n",
    "                if not isinstance(input, bytes):\n",
    "                    print(\"Error: Input is not bytes.\")\n",
    "                    batch_results.append({})\n",
    "                    continue\n",
    "\n",
    "                try:\n",
    "                    image = Image.open(io.BytesIO(input))\n",
    "                    processed_image = self.transforms(image).unsqueeze(0)\n",
    "                    batch_input = torch.cat([processed_image]).to(self.device)\n",
    "\n",
    "                    with torch.no_grad():\n",
    "                        outputs = self.model(batch_input)\n",
    "                        probabilities = torch.softmax(outputs, dim=1) * 100\n",
    "                        top_probs, top_indices = torch.topk(probabilities, k=20)\n",
    "\n",
    "                    top_probs = top_probs.cpu().numpy()\n",
    "                    top_indices = top_indices.cpu().numpy()\n",
    "\n",
    "                    # Convert top indices and probabilities to a dictionary\n",
    "                    result = {\n",
    "                        self.cid_to_spid.get(index, \"Unknown\"): float(prob)\n",
    "                        for index, prob in zip(\n",
    "                            top_indices.flatten(), top_probs.flatten()\n",
    "                        )\n",
    "                    }\n",
    "                    batch_results.append(result)\n",
    "\n",
    "                except Exception as e:\n",
    "                    print(f\"Failed to process input due to: {str(e)}\")\n",
    "                    batch_results.append({})\n",
    "\n",
    "            return pd.Series(batch_results)\n",
    "\n",
    "        return predict\n",
    "\n",
    "    def _transform(self, df):\n",
    "        print(f\"df schema: {df.schema}\")\n",
    "        predict_udf = F.udf(\n",
    "            self._make_predict_fn(), ArrayType(MapType(StringType(), FloatType()))\n",
    "        )\n",
    "        return df.withColumn(self.getOutputCol(), predict_udf(df[self.getInputCol()]))\n",
    "\n",
    "    def transform(self, df) -> DataFrame:\n",
    "        transformed = self._transform(df)\n",
    "\n",
    "        for c in self.feature_columns:\n",
    "            # check if the feature is a vector and convert it to an array\n",
    "            if \"array\" in transformed.schema[c].simpleString():\n",
    "                continue\n",
    "            transformed = transformed.withColumn(c, vector_to_array(F.col(c)))\n",
    "        return transformed\n",
    "\n",
    "    @property\n",
    "    def feature_columns(self) -> list:\n",
    "        return [\"dino_logits\"]\n",
    "\n",
    "    def pipeline(self):\n",
    "        return Pipeline(stages=[self, SQLTransformer(statement=self.sql_statement)])\n",
    "\n",
    "    def run(self, df: DataFrame) -> DataFrame:\n",
    "        model = self.pipeline().fit(df)\n",
    "        transformed = model.transform(df)\n",
    "\n",
    "        return transformed"
   ]
  },
  {
   "cell_type": "code",
   "execution_count": null,
   "id": "d272ab97",
   "metadata": {},
   "outputs": [],
   "source": [
    "pretrained_path = setup_pretrained_model()\n",
    "pretrained_dino = PretrainedDinoV2(\n",
    "    pretrained_path=pretrained_path,\n",
    "    input_col=\"data\",\n",
    "    output_col=\"dino_logits\",\n",
    ")"
   ]
  },
  {
   "cell_type": "code",
   "execution_count": null,
   "id": "f315ecb7",
   "metadata": {},
   "outputs": [],
   "source": [
    "transformed_df = pretrained_dino.run(df=test_df)"
   ]
  }
 ],
 "metadata": {
  "kernelspec": {
   "display_name": "ml",
   "language": "python",
   "name": "python3"
  },
  "language_info": {
   "codemirror_mode": {
    "name": "ipython",
    "version": 3
   },
   "file_extension": ".py",
   "mimetype": "text/x-python",
   "name": "python",
   "nbconvert_exporter": "python",
   "pygments_lexer": "ipython3",
   "version": "3.11.6"
  },
  "vscode": {
   "interpreter": {
    "hash": "57f1e8b789c2562e3faa8bd4fbf1bf03f323f206cff4185df1184c5825a46e3f"
   }
  }
 },
 "nbformat": 4,
 "nbformat_minor": 5
}
