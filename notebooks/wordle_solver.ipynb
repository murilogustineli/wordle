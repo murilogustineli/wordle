{
 "cells": [
  {
   "attachments": {},
   "cell_type": "markdown",
   "id": "cd86ed2e",
   "metadata": {},
   "source": [
    "# Wordle Solver"
   ]
  },
  {
   "cell_type": "code",
   "id": "aa0d6171",
   "metadata": {
    "ExecuteTime": {
     "end_time": "2024-11-14T05:52:47.511845Z",
     "start_time": "2024-11-14T05:52:47.188003Z"
    }
   },
   "source": [
    "from wordle.utils import Wordle\n",
    "\n",
    "%load_ext autoreload\n",
    "%autoreload 2"
   ],
   "outputs": [],
   "execution_count": 2
  },
  {
   "cell_type": "markdown",
   "id": "cccd4e6c",
   "metadata": {},
   "source": [
    "### Play Wordle"
   ]
  },
  {
   "cell_type": "code",
   "id": "8de7889c",
   "metadata": {
    "ExecuteTime": {
     "end_time": "2024-11-14T05:52:53.717835Z",
     "start_time": "2024-11-14T05:52:53.702404Z"
    }
   },
   "source": [
    "# Initialize Wordle class\n",
    "wordle = Wordle()\n",
    "\n",
    "# Main function that returns a list of possible words\n",
    "green_letters = \"ul\"\n",
    "green_positions = [3, 4]\n",
    "yellow_letters = \"alaalua\"\n",
    "yellow_positions = [3, 3, 4, 1, 2, 4, 2]\n",
    "gray_letters = \"tiresongmck\"\n",
    "\n",
    "# Find words in a list of possible words\n",
    "words = wordle.find_words(\n",
    "    green_letters,\n",
    "    green_positions,\n",
    "    yellow_letters,\n",
    "    yellow_positions,\n",
    "    gray_letters,\n",
    "    answer_word_list=True,\n",
    ")\n",
    "# Choose a word to play\n",
    "wordle.choose_word_to_play(word_threshold=1)"
   ],
   "outputs": [
    {
     "name": "stdout",
     "output_type": "stream",
     "text": [
      "Number of possible words: 1\n",
      "uvula 0.0\n"
     ]
    }
   ],
   "execution_count": 3
  },
  {
   "cell_type": "code",
   "id": "07fabf77",
   "metadata": {},
   "source": [
    "# Repetitive letters\n",
    "letters_df = wordle.repetitive_letters()\n",
    "print(letters_df.to_string(index=False))"
   ],
   "outputs": [],
   "execution_count": null
  },
  {
   "cell_type": "code",
   "id": "ac58f55f",
   "metadata": {},
   "source": [
    "df = wordle.load_data()\n",
    "df"
   ],
   "outputs": [],
   "execution_count": null
  },
  {
   "cell_type": "code",
   "id": "9bcf5433",
   "metadata": {},
   "source": [
    "# Update score\n",
    "score_df = wordle.score()\n",
    "score_df"
   ],
   "outputs": [],
   "execution_count": null
  },
  {
   "cell_type": "code",
   "id": "68bca24a",
   "metadata": {},
   "source": [
    "# Print results\n",
    "print(score_df.to_string(index=False))"
   ],
   "outputs": [],
   "execution_count": null
  },
  {
   "cell_type": "markdown",
   "id": "0877fdca",
   "metadata": {},
   "source": [
    "#### Git commit message"
   ]
  },
  {
   "cell_type": "code",
   "id": "35fdc04b",
   "metadata": {},
   "source": [
    "# git commit message\n",
    "commit_message = wordle.get_commit_message()\n",
    "print(commit_message)"
   ],
   "outputs": [],
   "execution_count": null
  },
  {
   "attachments": {},
   "cell_type": "markdown",
   "id": "3afcdbae",
   "metadata": {
    "tags": []
   },
   "source": [
    "#### Set custom score"
   ]
  },
  {
   "cell_type": "code",
   "id": "78647b3a",
   "metadata": {},
   "source": [
    "# help(wordle.reset_score)"
   ],
   "outputs": [],
   "execution_count": null
  },
  {
   "cell_type": "code",
   "id": "65d15bf0",
   "metadata": {},
   "source": [
    "# help(wordle.set_score)"
   ],
   "outputs": [],
   "execution_count": null
  },
  {
   "cell_type": "code",
   "id": "83f21710",
   "metadata": {},
   "source": [
    "# # Set custom score\n",
    "# df = wordle.set_score(m_score=265, b_score=109, draw_score=261)\n",
    "# df"
   ],
   "outputs": [],
   "execution_count": null
  },
  {
   "attachments": {},
   "cell_type": "markdown",
   "id": "99a87e1f",
   "metadata": {},
   "source": [
    "#### Reset score"
   ]
  },
  {
   "cell_type": "code",
   "id": "75742648",
   "metadata": {
    "tags": []
   },
   "source": [
    "## Reset score\n",
    "# wordle.reset_score()"
   ],
   "outputs": [],
   "execution_count": null
  },
  {
   "cell_type": "code",
   "id": "ad8e6754",
   "metadata": {},
   "source": [],
   "outputs": [],
   "execution_count": null
  }
 ],
 "metadata": {
  "kernelspec": {
   "display_name": ".venv",
   "language": "python",
   "name": "python3"
  },
  "language_info": {
   "codemirror_mode": {
    "name": "ipython",
    "version": 3
   },
   "file_extension": ".py",
   "mimetype": "text/x-python",
   "name": "python",
   "nbconvert_exporter": "python",
   "pygments_lexer": "ipython3",
   "version": "3.9.6"
  }
 },
 "nbformat": 4,
 "nbformat_minor": 5
}
