{
 "cells": [
  {
   "attachments": {},
   "cell_type": "markdown",
   "id": "cd86ed2e",
   "metadata": {},
   "source": [
    "# Wordle Solver"
   ]
  },
  {
   "cell_type": "code",
   "execution_count": 1,
   "id": "aa0d6171",
   "metadata": {},
   "outputs": [],
   "source": [
    "# import functions\n",
    "from wordle_helpers import *"
   ]
  },
  {
   "cell_type": "code",
   "execution_count": 2,
   "id": "33b529e6",
   "metadata": {},
   "outputs": [],
   "source": [
    "# help(main)"
   ]
  },
  {
   "cell_type": "code",
   "execution_count": 3,
   "id": "1a862c91",
   "metadata": {},
   "outputs": [
    {
     "name": "stdout",
     "output_type": "stream",
     "text": [
      "['snare']\n"
     ]
    }
   ],
   "source": [
    "# Main function that returns a list of possible words\n",
    "green_letters = 'AE'\n",
    "green_positions = [3,5,]\n",
    "yellow_letters = 'RN'\n",
    "yellow_positions = [2,4,]\n",
    "bad_letters = 'C'\n",
    "\n",
    "# Main function that returns a list of possible words\n",
    "words = main(green_letters, green_positions, yellow_letters, yellow_positions, bad_letters)\n",
    "print(words)"
   ]
  },
  {
   "cell_type": "code",
   "execution_count": 4,
   "id": "07fabf77",
   "metadata": {},
   "outputs": [
    {
     "name": "stdout",
     "output_type": "stream",
     "text": [
      "Letters  Count\n",
      "      S      1\n",
      "      N      1\n",
      "      A      1\n",
      "      R      1\n",
      "      E      1\n"
     ]
    }
   ],
   "source": [
    "# Repetitive letters\n",
    "letters_df = repetitive_letters(wordle_list=words)\n",
    "print(letters_df.to_string(index=False))"
   ]
  },
  {
   "attachments": {},
   "cell_type": "markdown",
   "id": "ae329b2b",
   "metadata": {},
   "source": [
    "#### Choosing next word"
   ]
  },
  {
   "cell_type": "code",
   "execution_count": 5,
   "id": "87f44000",
   "metadata": {},
   "outputs": [
    {
     "name": "stdout",
     "output_type": "stream",
     "text": [
      "['hoist', 'hotis']\n"
     ]
    }
   ],
   "source": [
    "# Main function that returns a list of possible words\n",
    "green_letters = ''\n",
    "green_positions = []\n",
    "yellow_letters = 'OHIST'\n",
    "yellow_positions = []\n",
    "bad_letters = ''\n",
    "\n",
    "# Main function that returns a list of possible words\n",
    "words = main(\n",
    "    green_letters,\n",
    "    green_positions,\n",
    "    yellow_letters,\n",
    "    yellow_positions,\n",
    "    bad_letters,\n",
    "    wordle_list_path=\"wordle-possible-words\",\n",
    ")\n",
    "print(words)"
   ]
  },
  {
   "cell_type": "code",
   "execution_count": 6,
   "id": "fa9a8f89",
   "metadata": {},
   "outputs": [],
   "source": [
    "# help(score)"
   ]
  },
  {
   "cell_type": "code",
   "execution_count": 7,
   "id": "ac58f55f",
   "metadata": {},
   "outputs": [
    {
     "data": {
      "text/html": [
       "<div>\n",
       "<style scoped>\n",
       "    .dataframe tbody tr th:only-of-type {\n",
       "        vertical-align: middle;\n",
       "    }\n",
       "\n",
       "    .dataframe tbody tr th {\n",
       "        vertical-align: top;\n",
       "    }\n",
       "\n",
       "    .dataframe thead th {\n",
       "        text-align: right;\n",
       "    }\n",
       "</style>\n",
       "<table border=\"1\" class=\"dataframe\">\n",
       "  <thead>\n",
       "    <tr style=\"text-align: right;\">\n",
       "      <th></th>\n",
       "      <th>Names</th>\n",
       "      <th>Games_Won</th>\n",
       "    </tr>\n",
       "  </thead>\n",
       "  <tbody>\n",
       "    <tr>\n",
       "      <th>0</th>\n",
       "      <td>Murilo</td>\n",
       "      <td>174</td>\n",
       "    </tr>\n",
       "    <tr>\n",
       "      <th>1</th>\n",
       "      <td>Barbara</td>\n",
       "      <td>74</td>\n",
       "    </tr>\n",
       "    <tr>\n",
       "      <th>2</th>\n",
       "      <td>Draw</td>\n",
       "      <td>176</td>\n",
       "    </tr>\n",
       "  </tbody>\n",
       "</table>\n",
       "</div>"
      ],
      "text/plain": [
       "     Names  Games_Won\n",
       "0   Murilo        174\n",
       "1  Barbara         74\n",
       "2     Draw        176"
      ]
     },
     "execution_count": 7,
     "metadata": {},
     "output_type": "execute_result"
    }
   ],
   "source": [
    "df = load_data(file_name='wordle_ranking.csv')\n",
    "df"
   ]
  },
  {
   "cell_type": "code",
   "execution_count": 8,
   "id": "9bcf5433",
   "metadata": {},
   "outputs": [
    {
     "data": {
      "text/html": [
       "<div>\n",
       "<style scoped>\n",
       "    .dataframe tbody tr th:only-of-type {\n",
       "        vertical-align: middle;\n",
       "    }\n",
       "\n",
       "    .dataframe tbody tr th {\n",
       "        vertical-align: top;\n",
       "    }\n",
       "\n",
       "    .dataframe thead th {\n",
       "        text-align: right;\n",
       "    }\n",
       "</style>\n",
       "<table border=\"1\" class=\"dataframe\">\n",
       "  <thead>\n",
       "    <tr style=\"text-align: right;\">\n",
       "      <th></th>\n",
       "      <th>Names</th>\n",
       "      <th>Games_Won</th>\n",
       "    </tr>\n",
       "  </thead>\n",
       "  <tbody>\n",
       "    <tr>\n",
       "      <th>0</th>\n",
       "      <td>Murilo</td>\n",
       "      <td>174</td>\n",
       "    </tr>\n",
       "    <tr>\n",
       "      <th>1</th>\n",
       "      <td>Barbara</td>\n",
       "      <td>74</td>\n",
       "    </tr>\n",
       "    <tr>\n",
       "      <th>2</th>\n",
       "      <td>Draw</td>\n",
       "      <td>177</td>\n",
       "    </tr>\n",
       "  </tbody>\n",
       "</table>\n",
       "</div>"
      ],
      "text/plain": [
       "     Names  Games_Won\n",
       "0   Murilo        174\n",
       "1  Barbara         74\n",
       "2     Draw        177"
      ]
     },
     "execution_count": 8,
     "metadata": {},
     "output_type": "execute_result"
    }
   ],
   "source": [
    "# Update score\n",
    "score_df = score()\n",
    "score_df"
   ]
  },
  {
   "cell_type": "code",
   "execution_count": 9,
   "id": "68bca24a",
   "metadata": {},
   "outputs": [
    {
     "name": "stdout",
     "output_type": "stream",
     "text": [
      "  Names  Games_Won\n",
      " Murilo        174\n",
      "Barbara         74\n",
      "   Draw        177\n"
     ]
    }
   ],
   "source": [
    "# Print results\n",
    "print(score_df.to_string(index=False))"
   ]
  },
  {
   "cell_type": "code",
   "execution_count": 10,
   "id": "78647b3a",
   "metadata": {},
   "outputs": [],
   "source": [
    "# help(reset_score)"
   ]
  },
  {
   "attachments": {},
   "cell_type": "markdown",
   "id": "3afcdbae",
   "metadata": {
    "tags": []
   },
   "source": [
    "#### Set custom score"
   ]
  },
  {
   "cell_type": "code",
   "execution_count": 11,
   "id": "65d15bf0",
   "metadata": {},
   "outputs": [],
   "source": [
    "# help(set_score)"
   ]
  },
  {
   "cell_type": "code",
   "execution_count": 12,
   "id": "83f21710",
   "metadata": {},
   "outputs": [],
   "source": [
    "# # Set custom score\n",
    "# df = set_score(m_score=168, b_score=74, draw_score=168)\n",
    "# df"
   ]
  },
  {
   "attachments": {},
   "cell_type": "markdown",
   "id": "99a87e1f",
   "metadata": {},
   "source": [
    "#### Reset score"
   ]
  },
  {
   "cell_type": "code",
   "execution_count": 13,
   "id": "75742648",
   "metadata": {
    "tags": []
   },
   "outputs": [],
   "source": [
    "## Reset score\n",
    "# reset_score()"
   ]
  },
  {
   "cell_type": "code",
   "execution_count": 14,
   "id": "808fc597",
   "metadata": {},
   "outputs": [
    {
     "name": "stdout",
     "output_type": "stream",
     "text": [
      "Matrix Multiplication:\n",
      "[[ 650    0 -650]\n",
      " [ 300    0 -300]\n",
      " [  85    0  -85]]\n",
      "\n",
      "Sum of Hadarmard product: 65\n"
     ]
    }
   ],
   "source": [
    "# Matrix X\n",
    "X = np.array([\n",
    "    [200, 150, 150],\n",
    "    [100, 50, 100],\n",
    "    [25, 25, 10],\n",
    "])\n",
    "\n",
    "# Matrix K\n",
    "K = np.array([\n",
    "    [1, 0, -1],\n",
    "    [2, 0, -2],\n",
    "    [1, 0, -1],\n",
    "])\n",
    "\n",
    "# Performing computations\n",
    "matrix_mult = X @ K # matrix multiplication\n",
    "hadamard_prod = np.sum(X * K) # sum of Hadamard product\n",
    "\n",
    "# Results\n",
    "print(f\"Matrix Multiplication:\\n{matrix_mult}\\n\")\n",
    "print(f\"Sum of Hadarmard product: {hadamard_prod}\")"
   ]
  },
  {
   "cell_type": "code",
   "execution_count": null,
   "id": "04d4e8c2",
   "metadata": {},
   "outputs": [],
   "source": []
  }
 ],
 "metadata": {
  "kernelspec": {
   "display_name": "ml",
   "language": "python",
   "name": "python3"
  },
  "language_info": {
   "codemirror_mode": {
    "name": "ipython",
    "version": 3
   },
   "file_extension": ".py",
   "mimetype": "text/x-python",
   "name": "python",
   "nbconvert_exporter": "python",
   "pygments_lexer": "ipython3",
   "version": "3.11.4"
  },
  "vscode": {
   "interpreter": {
    "hash": "57f1e8b789c2562e3faa8bd4fbf1bf03f323f206cff4185df1184c5825a46e3f"
   }
  }
 },
 "nbformat": 4,
 "nbformat_minor": 5
}
