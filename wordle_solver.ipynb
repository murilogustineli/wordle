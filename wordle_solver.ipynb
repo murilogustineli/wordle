{
 "cells": [
  {
   "attachments": {},
   "cell_type": "markdown",
   "id": "cd86ed2e",
   "metadata": {},
   "source": [
    "# Wordle Solver"
   ]
  },
  {
   "cell_type": "code",
   "execution_count": 1,
   "id": "aa0d6171",
   "metadata": {},
   "outputs": [],
   "source": [
    "# import functions\n",
    "from wordle_helpers import *"
   ]
  },
  {
   "cell_type": "code",
   "execution_count": 2,
   "id": "33b529e6",
   "metadata": {},
   "outputs": [],
   "source": [
    "# help(main)"
   ]
  },
  {
   "cell_type": "code",
   "execution_count": 11,
   "id": "1a862c91",
   "metadata": {},
   "outputs": [
    {
     "name": "stdout",
     "output_type": "stream",
     "text": [
      "['agree', 'barge', 'large']\n"
     ]
    }
   ],
   "source": [
    "# Main function that returns a list of possible words\n",
    "green_letters = 'E'\n",
    "green_positions = [5,]\n",
    "yellow_letters = 'RAG'\n",
    "yellow_positions = [2,3,1,]\n",
    "bad_letters = 'CNUIDS'\n",
    "\n",
    "# Main function that returns a list of possible words\n",
    "words = main(green_letters, green_positions, yellow_letters, yellow_positions, bad_letters)\n",
    "print(words)"
   ]
  },
  {
   "cell_type": "code",
   "execution_count": 12,
   "id": "07fabf77",
   "metadata": {},
   "outputs": [
    {
     "name": "stdout",
     "output_type": "stream",
     "text": [
      "Letters  Count\n",
      "      E      4\n",
      "      A      3\n",
      "      G      3\n",
      "      R      3\n",
      "      B      1\n",
      "      L      1\n"
     ]
    }
   ],
   "source": [
    "# Repetitive letters\n",
    "letters_df = repetitive_letters(wordle_list=words)\n",
    "print(letters_df.to_string(index=False))"
   ]
  },
  {
   "attachments": {},
   "cell_type": "markdown",
   "id": "ae329b2b",
   "metadata": {},
   "source": [
    "#### Choosing next word"
   ]
  },
  {
   "cell_type": "code",
   "execution_count": 10,
   "id": "87f44000",
   "metadata": {},
   "outputs": [
    {
     "name": "stdout",
     "output_type": "stream",
     "text": [
      "['guids']\n"
     ]
    }
   ],
   "source": [
    "# Main function that returns a list of possible words\n",
    "green_letters = ''\n",
    "green_positions = []\n",
    "yellow_letters = 'GISDU'\n",
    "yellow_positions = []\n",
    "bad_letters = ''\n",
    "\n",
    "# Main function that returns a list of possible words\n",
    "words = main(\n",
    "    green_letters,\n",
    "    green_positions,\n",
    "    yellow_letters,\n",
    "    yellow_positions,\n",
    "    bad_letters,\n",
    "    wordle_list_path=\"wordle-possible-words\",\n",
    ")\n",
    "print(words)"
   ]
  },
  {
   "cell_type": "code",
   "execution_count": 6,
   "id": "fa9a8f89",
   "metadata": {},
   "outputs": [],
   "source": [
    "# help(score)"
   ]
  },
  {
   "cell_type": "code",
   "execution_count": 7,
   "id": "ac58f55f",
   "metadata": {},
   "outputs": [
    {
     "data": {
      "text/html": [
       "<div>\n",
       "<style scoped>\n",
       "    .dataframe tbody tr th:only-of-type {\n",
       "        vertical-align: middle;\n",
       "    }\n",
       "\n",
       "    .dataframe tbody tr th {\n",
       "        vertical-align: top;\n",
       "    }\n",
       "\n",
       "    .dataframe thead th {\n",
       "        text-align: right;\n",
       "    }\n",
       "</style>\n",
       "<table border=\"1\" class=\"dataframe\">\n",
       "  <thead>\n",
       "    <tr style=\"text-align: right;\">\n",
       "      <th></th>\n",
       "      <th>Names</th>\n",
       "      <th>Games_Won</th>\n",
       "    </tr>\n",
       "  </thead>\n",
       "  <tbody>\n",
       "    <tr>\n",
       "      <th>0</th>\n",
       "      <td>Murilo</td>\n",
       "      <td>217</td>\n",
       "    </tr>\n",
       "    <tr>\n",
       "      <th>1</th>\n",
       "      <td>Barbara</td>\n",
       "      <td>89</td>\n",
       "    </tr>\n",
       "    <tr>\n",
       "      <th>2</th>\n",
       "      <td>Draw</td>\n",
       "      <td>221</td>\n",
       "    </tr>\n",
       "  </tbody>\n",
       "</table>\n",
       "</div>"
      ],
      "text/plain": [
       "     Names  Games_Won\n",
       "0   Murilo        217\n",
       "1  Barbara         89\n",
       "2     Draw        221"
      ]
     },
     "execution_count": 7,
     "metadata": {},
     "output_type": "execute_result"
    }
   ],
   "source": [
    "df = load_data(file_name='wordle_ranking.csv')\n",
    "df"
   ]
  },
  {
   "cell_type": "code",
   "execution_count": 8,
   "id": "9bcf5433",
   "metadata": {},
   "outputs": [
    {
     "data": {
      "text/html": [
       "<div>\n",
       "<style scoped>\n",
       "    .dataframe tbody tr th:only-of-type {\n",
       "        vertical-align: middle;\n",
       "    }\n",
       "\n",
       "    .dataframe tbody tr th {\n",
       "        vertical-align: top;\n",
       "    }\n",
       "\n",
       "    .dataframe thead th {\n",
       "        text-align: right;\n",
       "    }\n",
       "</style>\n",
       "<table border=\"1\" class=\"dataframe\">\n",
       "  <thead>\n",
       "    <tr style=\"text-align: right;\">\n",
       "      <th></th>\n",
       "      <th>Names</th>\n",
       "      <th>Games_Won</th>\n",
       "    </tr>\n",
       "  </thead>\n",
       "  <tbody>\n",
       "    <tr>\n",
       "      <th>0</th>\n",
       "      <td>Murilo</td>\n",
       "      <td>217</td>\n",
       "    </tr>\n",
       "    <tr>\n",
       "      <th>1</th>\n",
       "      <td>Barbara</td>\n",
       "      <td>89</td>\n",
       "    </tr>\n",
       "    <tr>\n",
       "      <th>2</th>\n",
       "      <td>Draw</td>\n",
       "      <td>222</td>\n",
       "    </tr>\n",
       "  </tbody>\n",
       "</table>\n",
       "</div>"
      ],
      "text/plain": [
       "     Names  Games_Won\n",
       "0   Murilo        217\n",
       "1  Barbara         89\n",
       "2     Draw        222"
      ]
     },
     "execution_count": 8,
     "metadata": {},
     "output_type": "execute_result"
    }
   ],
   "source": [
    "# Update score\n",
    "score_df = score()\n",
    "score_df"
   ]
  },
  {
   "cell_type": "code",
   "execution_count": 9,
   "id": "68bca24a",
   "metadata": {},
   "outputs": [
    {
     "name": "stdout",
     "output_type": "stream",
     "text": [
      "  Names  Games_Won\n",
      " Murilo        217\n",
      "Barbara         89\n",
      "   Draw        222\n"
     ]
    }
   ],
   "source": [
    "# Print results\n",
    "print(score_df.to_string(index=False))"
   ]
  },
  {
   "cell_type": "code",
   "execution_count": 10,
   "id": "78647b3a",
   "metadata": {},
   "outputs": [],
   "source": [
    "# help(reset_score)"
   ]
  },
  {
   "attachments": {},
   "cell_type": "markdown",
   "id": "3afcdbae",
   "metadata": {
    "tags": []
   },
   "source": [
    "#### Set custom score"
   ]
  },
  {
   "cell_type": "code",
   "execution_count": 11,
   "id": "65d15bf0",
   "metadata": {},
   "outputs": [],
   "source": [
    "# help(set_score)"
   ]
  },
  {
   "cell_type": "code",
   "execution_count": 12,
   "id": "83f21710",
   "metadata": {},
   "outputs": [],
   "source": [
    "# # Set custom score\n",
    "# df = set_score(m_score=196, b_score=79, draw_score=204)\n",
    "# df"
   ]
  },
  {
   "attachments": {},
   "cell_type": "markdown",
   "id": "99a87e1f",
   "metadata": {},
   "source": [
    "#### Reset score"
   ]
  },
  {
   "cell_type": "code",
   "execution_count": 13,
   "id": "75742648",
   "metadata": {
    "tags": []
   },
   "outputs": [],
   "source": [
    "## Reset score\n",
    "# reset_score()"
   ]
  },
  {
   "cell_type": "code",
   "execution_count": null,
   "id": "2ac3351d",
   "metadata": {},
   "outputs": [],
   "source": []
  },
  {
   "cell_type": "markdown",
   "id": "51596b1b",
   "metadata": {},
   "source": [
    "Given sentences in a source s and target t languages and a source-to-target tokens alignment, implement a function that can look quickly up which source token(s) are aligned to a target token.\n",
    "\n",
    "Provide a function that can do the same for a target token, i.e. return which source token(s) are aligned to a given target token. An example use case may be to analyze large corpora of aligned text to build multi-lingual dictionaries, etc. (Note for interviewer: the idea behind that comment is to encourage them to realize that for a single word may occur multiple times throughout the input text and is not string-unique.)\n",
    "\n",
    "Use your implementation to print the aligned token(s) for \"barking\" (s2t), \"is\" (s2t), and \"Katzen\" (t2s).\n",
    "\n",
    "Example of inputs\n",
    "\n",
    "s = \"the small dog is barking at all the cats\"\n",
    "t = \"alle Katzen bellt der kleine Hund an\"\n",
    "a = \"0-3 1-4 2-5 4-2 4-6 5-0 6-0 7-1 8-1\""
   ]
  },
  {
   "cell_type": "code",
   "execution_count": 14,
   "id": "0ba0eb59",
   "metadata": {},
   "outputs": [
    {
     "data": {
      "text/plain": [
       "(['bellt', 'an'], [], ['the', 'cats'])"
      ]
     },
     "execution_count": 14,
     "metadata": {},
     "output_type": "execute_result"
    }
   ],
   "source": [
    "def get_aligned_tokens(s, t, a, token, direction='s2t'):\n",
    "    # Splitting sentences into tokens and alignment pairs\n",
    "    s_tokens = s.split()\n",
    "    t_tokens = t.split()\n",
    "    alignment_pairs = a.split()\n",
    "\n",
    "    # Creating a dictionary to store alignments\n",
    "    alignments = {}\n",
    "    for pair in alignment_pairs:\n",
    "        s_idx, t_idx = map(int, pair.split('-'))\n",
    "        source_token = s_tokens[s_idx]\n",
    "        target_token = t_tokens[t_idx]\n",
    "        if direction == 's2t':\n",
    "            # If the source token is not in the dictionary, add it with an empty list\n",
    "            if source_token not in alignments:\n",
    "                alignments[source_token] = []\n",
    "            # Append the target token to the list of aligned tokens\n",
    "            alignments[source_token].append(target_token)\n",
    "        else:\n",
    "            # If the target token is not in the dictionary, add it with an empty list\n",
    "            if target_token not in alignments:\n",
    "                alignments[target_token] = []\n",
    "            # Append the source token to the list of aligned tokens\n",
    "            alignments[target_token].append(source_token)\n",
    "\n",
    "    # Returning the aligned tokens for the given token\n",
    "    return alignments.get(token, [])\n",
    "\n",
    "# Test inputs\n",
    "s = \"the small dog is barking at all the cats\"\n",
    "t = \"alle Katzen bellt der kleine Hund an\"\n",
    "a = \"0-3 1-4 2-5 4-2 4-6 5-0 6-0 7-1 8-1\"\n",
    "\n",
    "# Using the function to find aligned tokens\n",
    "aligned_to_barking_s2t = get_aligned_tokens(s, t, a, \"barking\", \"s2t\")\n",
    "aligned_to_is_s2t = get_aligned_tokens(s, t, a, \"is\", \"s2t\")\n",
    "aligned_to_Katzen_t2s = get_aligned_tokens(s, t, a, \"Katzen\", \"t2s\")\n",
    "\n",
    "aligned_to_barking_s2t, aligned_to_is_s2t, aligned_to_Katzen_t2s"
   ]
  },
  {
   "cell_type": "code",
   "execution_count": 21,
   "id": "7b15857a",
   "metadata": {},
   "outputs": [
    {
     "data": {
      "text/plain": [
       "'positive'"
      ]
     },
     "execution_count": 21,
     "metadata": {},
     "output_type": "execute_result"
    }
   ],
   "source": [
    "import re\n",
    "import numpy as np\n",
    "from collections import defaultdict\n",
    "\n",
    "class SimpleNaiveBayesClassifier:\n",
    "    def __init__(self):\n",
    "        self.class_probabilities = {}\n",
    "        self.word_probabilities = {}\n",
    "        self.vocabulary = set()\n",
    "\n",
    "    def preprocess(self, text):\n",
    "        # Convert text to lowercase and tokenize (split into words)\n",
    "        return re.findall(r'\\b\\w+\\b', text.lower())\n",
    "\n",
    "    def train(self, documents, labels):\n",
    "        # Count the frequency of each word in each class\n",
    "        word_counts = defaultdict(lambda: defaultdict(int))\n",
    "        class_counts = defaultdict(int)\n",
    "\n",
    "        for document, label in zip(documents, labels):\n",
    "            words = self.preprocess(document)\n",
    "            class_counts[label] += 1\n",
    "            for word in words:\n",
    "                word_counts[label][word] += 1\n",
    "                self.vocabulary.add(word)\n",
    "\n",
    "        # Calculate probabilities for each class\n",
    "        total_documents = len(documents)\n",
    "        for label in class_counts:\n",
    "            self.class_probabilities[label] = class_counts[label] / total_documents\n",
    "\n",
    "        # Calculate conditional probabilities for each word given a class\n",
    "        for label in word_counts:\n",
    "            total_words_in_class = sum(word_counts[label].values())\n",
    "            self.word_probabilities[label] = {\n",
    "                word: (word_counts[label][word] + 1) / (total_words_in_class + len(self.vocabulary))\n",
    "                for word in self.vocabulary\n",
    "            }\n",
    "\n",
    "    def predict(self, document):\n",
    "        words = self.preprocess(document)\n",
    "        class_scores = {label: np.log(prob) for label, prob in self.class_probabilities.items()}\n",
    "\n",
    "        for word in words:\n",
    "            if word in self.vocabulary:\n",
    "                for label in class_scores:\n",
    "                    class_scores[label] += np.log(self.word_probabilities[label].get(word, 1 / (len(self.vocabulary) + 1)))\n",
    "\n",
    "        return max(class_scores, key=class_scores.get)\n",
    "\n",
    "# Example usage with a simple dataset\n",
    "documents = [\"I love this movie\", \"This movie is very good\", \"I hate this movie\", \"This movie is terrible\"]\n",
    "labels = [\"positive\", \"positive\", \"negative\", \"negative\"]\n",
    "\n",
    "classifier = SimpleNaiveBayesClassifier()\n",
    "classifier.train(documents, labels)\n",
    "\n",
    "# Test the classifier with a new document\n",
    "test_document = \"This movie is good\"\n",
    "predicted_class = classifier.predict(test_document)\n",
    "predicted_class"
   ]
  },
  {
   "cell_type": "code",
   "execution_count": null,
   "id": "68fb1de7",
   "metadata": {},
   "outputs": [],
   "source": []
  },
  {
   "cell_type": "code",
   "execution_count": null,
   "id": "10daa262",
   "metadata": {},
   "outputs": [],
   "source": []
  }
 ],
 "metadata": {
  "kernelspec": {
   "display_name": "ml",
   "language": "python",
   "name": "python3"
  },
  "language_info": {
   "codemirror_mode": {
    "name": "ipython",
    "version": 3
   },
   "file_extension": ".py",
   "mimetype": "text/x-python",
   "name": "python",
   "nbconvert_exporter": "python",
   "pygments_lexer": "ipython3",
   "version": "3.10.12"
  },
  "vscode": {
   "interpreter": {
    "hash": "57f1e8b789c2562e3faa8bd4fbf1bf03f323f206cff4185df1184c5825a46e3f"
   }
  }
 },
 "nbformat": 4,
 "nbformat_minor": 5
}
