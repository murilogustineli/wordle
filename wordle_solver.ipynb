{
 "cells": [
  {
   "attachments": {},
   "cell_type": "markdown",
   "id": "cd86ed2e",
   "metadata": {},
   "source": [
    "# Wordle Solver"
   ]
  },
  {
   "cell_type": "code",
   "execution_count": 1,
   "id": "aa0d6171",
   "metadata": {},
   "outputs": [],
   "source": [
    "# import functions\n",
    "from wordle_helpers import *"
   ]
  },
  {
   "cell_type": "code",
   "execution_count": 2,
   "id": "33b529e6",
   "metadata": {},
   "outputs": [],
   "source": [
    "# help(main)"
   ]
  },
  {
   "cell_type": "code",
   "execution_count": 3,
   "id": "1a862c91",
   "metadata": {},
   "outputs": [
    {
     "name": "stdout",
     "output_type": "stream",
     "text": [
      "['ionic', 'sonic', 'tonic']\n"
     ]
    }
   ],
   "source": [
    "# Main function that returns a list of possible words\n",
    "green_letters = 'O'\n",
    "green_positions = [2,]\n",
    "yellow_letters = 'CNI'\n",
    "yellow_positions = [1,4,5,]\n",
    "bad_letters = 'RAEHUR'\n",
    "\n",
    "# Main function that returns a list of possible words\n",
    "words = main(green_letters, green_positions, yellow_letters, yellow_positions, bad_letters)\n",
    "print(words)"
   ]
  },
  {
   "cell_type": "code",
   "execution_count": 4,
   "id": "07fabf77",
   "metadata": {},
   "outputs": [
    {
     "name": "stdout",
     "output_type": "stream",
     "text": [
      "Letters  Count\n",
      "      I      4\n",
      "      O      3\n",
      "      N      3\n",
      "      C      3\n",
      "      S      1\n",
      "      T      1\n"
     ]
    }
   ],
   "source": [
    "# Repetitive letters\n",
    "letters_df = repetitive_letters(wordle_list=words)\n",
    "print(letters_df.to_string(index=False))"
   ]
  },
  {
   "attachments": {},
   "cell_type": "markdown",
   "id": "ae329b2b",
   "metadata": {},
   "source": [
    "#### Choosing next word"
   ]
  },
  {
   "cell_type": "code",
   "execution_count": 5,
   "id": "87f44000",
   "metadata": {},
   "outputs": [
    {
     "name": "stdout",
     "output_type": "stream",
     "text": [
      "['abets', 'absit', 'abuts', 'actas', 'actus', 'adats', 'adits', 'adust', 'advts', 'adyts', 'aftos', 'agast', 'agist', 'airts', 'aitus', 'alist', 'altos', 'angst', 'antas', 'antes', 'antis', 'antsy', 'appts', 'arets', 'artis', 'artsy', 'ascot', 'ashet', 'asity', 'asset', 'assot', 'aster', 'astir', 'astun', 'ataps', 'atlas', 'atmas', 'atmos', 'atocs', 'atoks', 'atoms', 'attas', 'atuas', 'aunts', 'autos', 'avast', 'bafts', 'bahts', 'baits', 'bants', 'basta', 'baste', 'basti', 'basto', 'basts', 'bates', 'baths', 'batos', 'batts', 'bayts', 'beast', 'beats', 'beets', 'belts', 'bents', 'besat', 'beset', 'besit', 'besot', 'besti', 'bests', 'betas', 'betes', 'beths', 'bhats', 'bhuts', 'bints', 'bites', 'bitos', 'bitsy', 'bitts', 'blast', 'blats', 'blest', 'blets', 'blist', 'blits', 'blots', 'boast', 'boats', 'boets', 'bolts', 'boost', 'boots', 'borts', 'botas', 'botes', 'botos', 'botts', 'bouts', 'brast', 'brats', 'brits', 'brust', 'bruts', 'buats', 'buist', 'bunts', 'burst', 'busti', 'busts', 'busty', 'butes', 'butts', 'bytes', 'canst', 'cants', 'carts', 'caste', 'casts', 'cates', 'celts', 'cents', 'certs', 'cesta', 'cesti', 'cetes', 'chats', 'chest', 'chits', 'chuts', 'cists', 'cites', 'clast', 'clats', 'clits', 'clots', 'coast', 'coats', 'coits', 'colts', 'coost', 'coots', 'coset', 'costa', 'coste', 'costs', 'cotes', 'coths', 'cotts', 'crest', 'crits', 'crost', 'crust', 'cuits', 'cults', 'cunts', 'curst', 'cutes', 'cutis', 'cysts', 'cytes', 'dalts', 'dants', 'darts', 'dates', 'datos', 'dauts', 'dawts', 'debts', 'deets', 'deist', 'delts', 'dents', 'dicts', 'didst', 'diets', 'dints', 'dirts', 'ditas', 'dites', 'ditsy', 'ditts', 'doats', 'doest', 'doits', 'dolts', 'dorts', 'dotes', 'douts', 'dowts', 'drats', 'drest', 'ducts', 'duets', 'duits', 'dunts', 'durst', 'dusts', 'dusty', 'earst', 'easts', 'edits', 'efits', 'egest', 'emits', 'empts', 'escot', 'ester', 'estoc', 'estop', 'estro', 'etats', 'etens', 'ethos', 'etics', 'etnas', 'etuis', 'evets', 'ewest', 'exist', 'exits', 'eyots', 'facts', 'farts', 'fasti', 'fasts', 'fates', 'fatso', 'fauts', 'feast', 'feats', 'feist', 'felts', 'fents', 'festa', 'fests', 'festy', 'fetas', 'fetes', 'fetts', 'fetus', 'fiats', 'fiest', 'first', 'fists', 'fisty', 'fitts', 'flats', 'flits', 'foist', 'fonts', 'foots', 'forts', 'frats', 'frets', 'frist', 'frits', 'frost', 'frust', 'funts', 'fusts', 'fusty', 'gaits', 'gants', 'gasts', 'gates', 'gaths', 'geats', 'geest', 'geist', 'geits', 'gelts', 'gents', 'geste', 'gests', 'getas', 'ghast', 'ghats', 'ghest', 'ghost', 'gifts', 'gilts', 'girts', 'gists', 'gites', 'giust', 'glits', 'glost', 'gluts', 'gnats', 'goats', 'goest', 'gosht', 'goths', 'gouts', 'grats', 'grist', 'grits', 'grots', 'guest', 'gusto', 'gusts', 'gusty', 'gutsy', 'gytes', 'haats', 'hadst', 'haets', 'hafts', 'halts', 'hants', 'harts', 'hasta', 'haste', 'hasty', 'hates', 'heast', 'heats', 'hefts', 'heist', 'hents', 'hests', 'hetes', 'heths', 'hilts', 'hints', 'hists', 'hoast', 'hoist', 'holts', 'hoots', 'horst', 'hosta', 'hosts', 'hotis', 'houts', 'hunts', 'hurst', 'hurts', 'ictus', 'ikats', 'inset', 'intis', 'inust', 'iotas', 'islet', 'istle', 'items', 'jatis', 'jatos', 'jeats', 'jests', 'jetes', 'jilts', 'jitis', 'joist', 'jolts', 'jorts', 'jotas', 'joust', 'juste', 'justs', 'jutes', 'kants', 'karst', 'karts', 'katas', 'katis', 'keets', 'kelts', 'kents', 'kests', 'ketas', 'ketes', 'khats', 'khets', 'kilts', 'kists', 'kites', 'kiths', 'knits', 'knots', 'knuts', 'kotos', 'kusti', 'kutas', 'kutis', 'kutus', 'kyats', 'kydst', 'kytes', 'lants', 'lasts', 'laths', 'latus', 'least', 'leats', 'leets', 'lefts', 'lests', 'lifts', 'lilts', 'lints', 'lists', 'litas', 'lites', 'liths', 'loast', 'lofts', 'loots', 'lotas', 'lotes', 'lotos', 'lotsa', 'lotus', 'louts', 'lowts', 'lunts', 'lusts', 'lusty', 'lutes', 'lytes', 'mafts', 'maist', 'malts', 'mants', 'marts', 'masts', 'masty', 'masut', 'mates', 'maths', 'matsu', 'matts', 'mauts', 'mayst', 'meats', 'meets', 'melts', 'ments', 'mesto', 'metas', 'metes', 'meths', 'metis', 'midst', 'milts', 'mints', 'misto', 'mists', 'misty', 'mitas', 'mites', 'mitis', 'mitts', 'moats', 'moist', 'moits', 'molts', 'moots', 'morts', 'moste', 'mosto', 'mosts', 'motes', 'moths', 'motis', 'motts', 'motus', 'moust', 'muist', 'munts', 'muset', 'musit', 'musta', 'musth', 'musts', 'musty', 'mutas', 'mutes', 'mutis', 'mutts', 'myths', 'naats', 'nants', 'nasty', 'nates', 'natis', 'neats', 'neist', 'nerts', 'nests', 'nesty', 'netas', 'netes', 'netts', 'newts', 'nexts', 'nites', 'notes', 'noust', 'nowts', 'nurts', 'nutso', 'nutsy', 'oasts', 'oaths', 'obits', 'octas', 'odist', 'oints', 'oktas', 'omits', 'onset', 'oonts', 'opsat', 'opsit', 'osetr', 'ostia', 'ottos', 'ousts', 'ovist', 'pacts', 'pants', 'parts', 'pasta', 'paste', 'pasts', 'pasty', 'patas', 'pates', 'paths', 'patsy', 'patus', 'peats', 'pects', 'pelts', 'pents', 'perst', 'perts', 'pesta', 'pesto', 'pests', 'pesty', 'petos', 'phots', 'phuts', 'piets', 'pints', 'piste', 'pitas', 'piths', 'pitso', 'pitsu', 'plast', 'plats', 'plets', 'plots', 'poets', 'polts', 'ponts', 'poots', 'ports', 'poset', 'posit', 'poste', 'posts', 'potes', 'potsy', 'potts', 'pouts', 'prats', 'prest', 'prost', 'pshut', 'ptish', 'punts', 'putas', 'putos', 'putts', 'pyats', 'pyets', 'pyots', 'quats', 'quest', 'quist', 'quits', 'rafts', 'raits', 'rants', 'rasta', 'ratas', 'rates', 'raths', 'ratos', 'ratus', 'reast', 'reest', 'reist', 'rents', 'resat', 'reset', 'resit', 'resto', 'rests', 'resty', 'rifts', 'riots', 'rists', 'rites', 'ritts', 'roast', 'roist', 'ronts', 'roost', 'roots', 'rorts', 'roset', 'rosit', 'rosti', 'rosts', 'rotas', 'rotes', 'rotis', 'rotls', 'rotos', 'roust', 'routs', 'rowts', 'royst', 'runts', 'rusts', 'rusty', 'ruths', 'ryots', 'sabot', 'saeta', 'saint', 'saist', 'saith', 'sakti', 'salat', 'salet', 'salto', 'salts', 'salty', 'salut', 'santo', 'sants', 'satai', 'satay', 'sated', 'satem', 'sater', 'sates', 'satin', 'satis', 'satyr', 'sault', 'saunt', 'saute', 'sauts', 'sayst', 'scant', 'scart', 'scath', 'scats', 'scatt', 'sceat', 'scent', 'scoot', 'scote', 'scots', 'scout', 'scrat', 'scuft', 'scuta', 'scute', 'scuts', 'seats', 'sects', 'seity', 'sekts', 'sente', 'senti', 'sents', 'septa', 'septs', 'setae', 'setal', 'seter', 'seths', 'seton', 'setts', 'setup', 'sexto', 'sexts', 'shaft', 'shakt', 'shalt', 'shart', 'sheet', 'shent', 'shets', 'shift', 'shirt', 'shist', 'shite', 'shits', 'shoat', 'shoot', 'short', 'shote', 'shots', 'shott', 'shout', 'shtar', 'shtik', 'shtum', 'shtup', 'shunt', 'shute', 'shuts', 'sicht', 'sient', 'sieth', 'sifts', 'sight', 'silts', 'silty', 'sista', 'sists', 'sitar', 'sitch', 'sited', 'sites', 'sithe', 'sitka', 'situp', 'situs', 'sixte', 'sixth', 'sixty', 'skart', 'skate', 'skats', 'skatt', 'skeet', 'skets', 'skint', 'skirt', 'skite', 'skits', 'skort', 'skyte', 'slant', 'slart', 'slate', 'slats', 'slaty', 'sleet', 'slept', 'slipt', 'slits', 'sloot', 'sloth', 'slots', 'sluit', 'sluts', 'smalt', 'smart', 'smelt', 'smite', 'smith', 'smits', 'smolt', 'smoot', 'smote', 'smout', 'smowt', 'smuts', 'snath', 'snift', 'snirt', 'snits', 'snoot', 'snort', 'snots', 'snout', 'softa', 'softs', 'softy', 'soote', 'sooth', 'soots', 'sooty', 'sorta', 'sorts', 'soths', 'sotol', 'sotto', 'souct', 'south', 'souts', 'sowth', 'spait', 'spalt', 'spart', 'spate', 'spats', 'speat', 'spect', 'spelt', 'spent', 'spets', 'spilt', 'spirt', 'spite', 'spits', 'spitz', 'splat', 'split', 'spoot', 'sport', 'spots', 'spout', 'sprat', 'sprit', 'spurt', 'sputa', 'squat', 'squit', 'stabs', 'stack', 'stade', 'staff', 'stage', 'stags', 'stagy', 'staid', 'staig', 'stain', 'stair', 'stake', 'stale', 'stalk', 'stall', 'stamp', 'stand', 'stane', 'stang', 'stank', 'stans', 'staph', 'staps', 'stare', 'stark', 'starn', 'starr', 'stars', 'start', 'stary', 'stash', 'state', 'stats', 'statu', 'staun', 'stave', 'staws', 'stays', 'stead', 'steak', 'steal', 'steam', 'stean', 'stear', 'stedd', 'stede', 'steds', 'steed', 'steek', 'steel', 'steem', 'steen', 'steep', 'steer', 'steez', 'steik', 'steil', 'stein', 'stela', 'stele', 'stell', 'steme', 'stems', 'stend', 'steno', 'stens', 'stent', 'steps', 'stept', 'stere', 'stern', 'stets', 'stews', 'stewy', 'steys', 'stich', 'stick', 'stied', 'sties', 'stiff', 'stilb', 'stile', 'still', 'stilt', 'stime', 'stims', 'stimy', 'sting', 'stink', 'stint', 'stipa', 'stipe', 'stire', 'stirk', 'stirp', 'stirs', 'stive', 'stivy', 'stoae', 'stoai', 'stoas', 'stoat', 'stobs', 'stock', 'stoep', 'stogs', 'stogy', 'stoic', 'stoit', 'stoke', 'stole', 'stoln', 'stoma', 'stomp', 'stond', 'stone', 'stong', 'stonk', 'stonn', 'stony', 'stood', 'stook', 'stool', 'stoop', 'stoor', 'stope', 'stops', 'stopt', 'store', 'stork', 'storm', 'story', 'stoss', 'stots', 'stott', 'stoun', 'stoup', 'stour', 'stout', 'stove', 'stown', 'stowp', 'stows', 'strad', 'strae', 'strag', 'strak', 'strap', 'straw', 'stray', 'strep', 'strew', 'stria', 'strig', 'strim', 'strip', 'strop', 'strow', 'stroy', 'strum', 'strut', 'stubs', 'stuck', 'stucs', 'stude', 'studs', 'study', 'stuff', 'stull', 'stulm', 'stumm', 'stump', 'stums', 'stung', 'stunk', 'stuns', 'stunt', 'stupa', 'stupe', 'sture', 'sturt', 'stush', 'styed', 'styes', 'style', 'styli', 'stylo', 'styme', 'stymy', 'styre', 'styte', 'suent', 'suete', 'suets', 'suety', 'suint', 'suite', 'suits', 'sunts', 'surat', 'sutor', 'sutra', 'sutta', 'swapt', 'swart', 'swath', 'swats', 'sweat', 'sweet', 'swelt', 'swept', 'swift', 'swith', 'swits', 'swopt', 'swots', 'synth', 'sythe', 'taals', 'tabes', 'tabis', 'tabls', 'tabos', 'tabus', 'taces', 'tachs', 'tacks', 'tacos', 'tacts', 'taels', 'tahas', 'tahrs', 'taigs', 'tails', 'tains', 'taish', 'taits', 'tajes', 'takas', 'takes', 'takis', 'talas', 'talcs', 'tales', 'talks', 'talls', 'talus', 'tamas', 'tames', 'tamis', 'tamps', 'tanas', 'tangs', 'tanhs', 'tanks', 'tansu', 'tansy', 'tapas', 'tapes', 'tapis', 'tapus', 'taras', 'tards', 'tares', 'tarns', 'taros', 'tarps', 'tarse', 'tarsi', 'tarts', 'tasar', 'tasca', 'tased', 'taser', 'tases', 'tasks', 'tassa', 'tasse', 'tasso', 'taste', 'tasto', 'tasty', 'tates', 'taths', 'tatts', 'tatus', 'tauts', 'tavas', 'tawas', 'tawse', 'tawts', 'taxes', 'taxis', 'taxus', 'teads', 'teaks', 'teals', 'teams', 'tears', 'tease', 'teats', 'techs', 'teels', 'teems', 'teens', 'teers', 'teets', 'teffs', 'teggs', 'tegus', 'tehrs', 'teils', 'teins', 'teles', 'tells', 'telos', 'temes', 'temps', 'temse', 'tends', 'tenes', 'tense', 'tents', 'tepas', 'teras', 'teres', 'terfs', 'terms', 'terns', 'terse', 'terts', 'tesla', 'testa', 'teste', 'tests', 'testy', 'tetes', 'teths', 'texas', 'texes', 'texts', 'thans', 'thars', 'thaws', 'thees', 'thens', 'these', 'thesp', 'thews', 'thigs', 'thins', 'those', 'thots', 'thous', 'thuds', 'thugs', 'tians', 'tiars', 'tices', 'ticks', 'tides', 'tiefs', 'tiers', 'tiffs', 'tifos', 'tifts', 'tiges', 'tikas', 'tikes', 'tikis', 'tiles', 'tills', 'tilts', 'times', 'timps', 'tinas', 'tinds', 'tines', 'tings', 'tinks', 'tints', 'tipis', 'tipsy', 'tires', 'tirls', 'tiros', 'tirrs', 'titas', 'titis', 'tiyns', 'tizes', 'toads', 'toast', 'tocks', 'tocos', 'todos', 'toeas', 'toffs', 'tofts', 'tofus', 'togas', 'toges', 'tohos', 'toils', 'toise', 'toits', 'tokes', 'tokos', 'tolas', 'toles', 'tolls', 'tolts', 'tolus', 'tombs', 'tomes', 'tomos', 'tones', 'tongs', 'tonks', 'tonus', 'tools', 'tooms', 'toons', 'toots', 'topes', 'tophs', 'topis', 'topos', 'toras', 'torcs', 'tores', 'toros', 'torrs', 'torse', 'torsi', 'torsk', 'torso', 'torts', 'torus', 'tosas', 'tosed', 'toses', 'toshy', 'tossy', 'tosyl', 'totes', 'touks', 'touns', 'tours', 'touse', 'tousy', 'touts', 'towns', 'towse', 'towsy', 'towts', 'toyos', 'tozes', 'trabs', 'trads', 'trags', 'trams', 'trans', 'traps', 'trash', 'trass', 'trats', 'trays', 'trees', 'treks', 'trems', 'tress', 'trest', 'trets', 'trews', 'treys', 'tries', 'trigs', 'trims', 'trins', 'trios', 'trips', 'trist', 'trods', 'trogs', 'trois', 'trons', 'trots', 'trows', 'troys', 'trues', 'trugs', 'truss', 'trust', 'tryps', 'tryst', 'tsade', 'tsadi', 'tsars', 'tsked', 'tsuba', 'tsubo', 'tuans', 'tubas', 'tubes', 'tucks', 'tufas', 'tuffs', 'tufts', 'tuism', 'tules', 'tulps', 'tulsi', 'tumps', 'tunas', 'tunds', 'tunes', 'tungs', 'turds', 'turfs', 'turks', 'turms', 'turns', 'turps', 'turrs', 'tushy', 'tusks', 'tusky', 'tutes', 'tutus', 'tuxes', 'twaes', 'twals', 'twats', 'tways', 'twigs', 'twins', 'twist', 'twits', 'twocs', 'tyees', 'tyers', 'tykes', 'tymps', 'tynes', 'types', 'typos', 'typps', 'tyres', 'tyros', 'tzars', 'units', 'unset', 'upset', 'useta', 'ustad', 'uster', 'vants', 'vasts', 'vasty', 'vatas', 'vatos', 'vatus', 'vauts', 'vents', 'verst', 'verts', 'vesta', 'vests', 'vints', 'visit', 'vista', 'visto', 'vitas', 'vlast', 'volts', 'votes', 'wadts', 'wafts', 'waist', 'waits', 'wants', 'warst', 'warts', 'waste', 'wasts', 'watts', 'weest', 'weets', 'wefts', 'welts', 'wents', 'wests', 'wetas', 'whats', 'whets', 'whist', 'whits', 'wifts', 'wilts', 'wisht', 'wists', 'wites', 'withs', 'wonts', 'worst', 'worts', 'wrast', 'wrest', 'wrist', 'writs', 'wurst', 'wytes', 'xysti', 'xysts', 'yates', 'yeast', 'yelts', 'yests', 'yesty', 'yetis', 'yetts', 'yites', 'ytost', 'yufts', 'yurts', 'zatis', 'zests', 'zesty', 'zetas', 'zitis', 'zoist']\n"
     ]
    }
   ],
   "source": [
    "# Main function that returns a list of possible words\n",
    "green_positions = []\n",
    "yellow_letters = 'ST'\n",
    "yellow_positions = []\n",
    "bad_letters = ''\n",
    "\n",
    "# Main function that returns a list of possible words\n",
    "words = main(\n",
    "    green_letters,\n",
    "    green_positions,\n",
    "    yellow_letters,\n",
    "    yellow_positions,\n",
    "    bad_letters,\n",
    "    wordle_list_path=\"wordle-possible-words\",\n",
    ")\n",
    "print(words)"
   ]
  },
  {
   "cell_type": "code",
   "execution_count": 6,
   "id": "fa9a8f89",
   "metadata": {},
   "outputs": [],
   "source": [
    "# help(score)"
   ]
  },
  {
   "cell_type": "code",
   "execution_count": 7,
   "id": "ac58f55f",
   "metadata": {},
   "outputs": [
    {
     "data": {
      "text/html": [
       "<div>\n",
       "<style scoped>\n",
       "    .dataframe tbody tr th:only-of-type {\n",
       "        vertical-align: middle;\n",
       "    }\n",
       "\n",
       "    .dataframe tbody tr th {\n",
       "        vertical-align: top;\n",
       "    }\n",
       "\n",
       "    .dataframe thead th {\n",
       "        text-align: right;\n",
       "    }\n",
       "</style>\n",
       "<table border=\"1\" class=\"dataframe\">\n",
       "  <thead>\n",
       "    <tr style=\"text-align: right;\">\n",
       "      <th></th>\n",
       "      <th>Names</th>\n",
       "      <th>Games_Won</th>\n",
       "    </tr>\n",
       "  </thead>\n",
       "  <tbody>\n",
       "    <tr>\n",
       "      <th>0</th>\n",
       "      <td>Murilo</td>\n",
       "      <td>146</td>\n",
       "    </tr>\n",
       "    <tr>\n",
       "      <th>1</th>\n",
       "      <td>Barbara</td>\n",
       "      <td>68</td>\n",
       "    </tr>\n",
       "    <tr>\n",
       "      <th>2</th>\n",
       "      <td>Draw</td>\n",
       "      <td>148</td>\n",
       "    </tr>\n",
       "  </tbody>\n",
       "</table>\n",
       "</div>"
      ],
      "text/plain": [
       "     Names  Games_Won\n",
       "0   Murilo        146\n",
       "1  Barbara         68\n",
       "2     Draw        148"
      ]
     },
     "execution_count": 7,
     "metadata": {},
     "output_type": "execute_result"
    }
   ],
   "source": [
    "df = load_data(file_name='wordle_ranking.csv')\n",
    "df"
   ]
  },
  {
   "cell_type": "code",
   "execution_count": 8,
   "id": "9bcf5433",
   "metadata": {},
   "outputs": [
    {
     "data": {
      "text/html": [
       "<div>\n",
       "<style scoped>\n",
       "    .dataframe tbody tr th:only-of-type {\n",
       "        vertical-align: middle;\n",
       "    }\n",
       "\n",
       "    .dataframe tbody tr th {\n",
       "        vertical-align: top;\n",
       "    }\n",
       "\n",
       "    .dataframe thead th {\n",
       "        text-align: right;\n",
       "    }\n",
       "</style>\n",
       "<table border=\"1\" class=\"dataframe\">\n",
       "  <thead>\n",
       "    <tr style=\"text-align: right;\">\n",
       "      <th></th>\n",
       "      <th>Names</th>\n",
       "      <th>Games_Won</th>\n",
       "    </tr>\n",
       "  </thead>\n",
       "  <tbody>\n",
       "    <tr>\n",
       "      <th>0</th>\n",
       "      <td>Murilo</td>\n",
       "      <td>146</td>\n",
       "    </tr>\n",
       "    <tr>\n",
       "      <th>1</th>\n",
       "      <td>Barbara</td>\n",
       "      <td>69</td>\n",
       "    </tr>\n",
       "    <tr>\n",
       "      <th>2</th>\n",
       "      <td>Draw</td>\n",
       "      <td>148</td>\n",
       "    </tr>\n",
       "  </tbody>\n",
       "</table>\n",
       "</div>"
      ],
      "text/plain": [
       "     Names  Games_Won\n",
       "0   Murilo        146\n",
       "1  Barbara         69\n",
       "2     Draw        148"
      ]
     },
     "execution_count": 8,
     "metadata": {},
     "output_type": "execute_result"
    }
   ],
   "source": [
    "# Update score\n",
    "score_df = score()\n",
    "score_df"
   ]
  },
  {
   "cell_type": "code",
   "execution_count": 9,
   "id": "68bca24a",
   "metadata": {},
   "outputs": [
    {
     "name": "stdout",
     "output_type": "stream",
     "text": [
      "  Names  Games_Won\n",
      " Murilo        146\n",
      "Barbara         69\n",
      "   Draw        148\n"
     ]
    }
   ],
   "source": [
    "# Print results\n",
    "print(score_df.to_string(index=False))"
   ]
  },
  {
   "cell_type": "code",
   "execution_count": 10,
   "id": "78647b3a",
   "metadata": {},
   "outputs": [],
   "source": [
    "# help(reset_score)"
   ]
  },
  {
   "attachments": {},
   "cell_type": "markdown",
   "id": "3afcdbae",
   "metadata": {
    "tags": []
   },
   "source": [
    "#### Set custom score"
   ]
  },
  {
   "cell_type": "code",
   "execution_count": 11,
   "id": "65d15bf0",
   "metadata": {},
   "outputs": [],
   "source": [
    "# help(set_score)"
   ]
  },
  {
   "cell_type": "code",
   "execution_count": 12,
   "id": "83f21710",
   "metadata": {},
   "outputs": [],
   "source": [
    "# # Set custom score\n",
    "# df = set_score(m_score=140, b_score=60, draw_score=141)\n",
    "# df"
   ]
  },
  {
   "attachments": {},
   "cell_type": "markdown",
   "id": "99a87e1f",
   "metadata": {},
   "source": [
    "#### Reset score"
   ]
  },
  {
   "cell_type": "code",
   "execution_count": 13,
   "id": "75742648",
   "metadata": {
    "tags": []
   },
   "outputs": [],
   "source": [
    "## Reset score\n",
    "# reset_score()"
   ]
  },
  {
   "cell_type": "code",
   "execution_count": null,
   "id": "6603a12b",
   "metadata": {},
   "outputs": [],
   "source": []
  }
 ],
 "metadata": {
  "kernelspec": {
   "display_name": "ml",
   "language": "python",
   "name": "python3"
  },
  "language_info": {
   "codemirror_mode": {
    "name": "ipython",
    "version": 3
   },
   "file_extension": ".py",
   "mimetype": "text/x-python",
   "name": "python",
   "nbconvert_exporter": "python",
   "pygments_lexer": "ipython3",
   "version": "3.11.4"
  },
  "vscode": {
   "interpreter": {
    "hash": "57f1e8b789c2562e3faa8bd4fbf1bf03f323f206cff4185df1184c5825a46e3f"
   }
  }
 },
 "nbformat": 4,
 "nbformat_minor": 5
}
