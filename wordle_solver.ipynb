{
 "cells": [
  {
   "cell_type": "markdown",
   "id": "cd86ed2e",
   "metadata": {},
   "source": [
    "# Wordle Solver"
   ]
  },
  {
   "cell_type": "code",
   "execution_count": 17,
   "id": "aa0d6171",
   "metadata": {},
   "outputs": [],
   "source": [
    "# import functions\n",
    "from wordle_helpers import *"
   ]
  },
  {
   "cell_type": "code",
   "execution_count": 18,
   "id": "33b529e6",
   "metadata": {},
   "outputs": [],
   "source": [
    "# help(main)"
   ]
  },
  {
   "cell_type": "code",
   "execution_count": 19,
   "id": "1a862c91",
   "metadata": {},
   "outputs": [
    {
     "name": "stdout",
     "output_type": "stream",
     "text": [
      "['below', 'hello']\n"
     ]
    }
   ],
   "source": [
    "# Main function that returns a list of possible words\n",
    "green_letters = 'L'\n",
    "green_positions = [3,]\n",
    "yellow_letters = 'EO'\n",
    "yellow_positions = [5,2,]\n",
    "bad_letters = 'CRANDTS'\n",
    "\n",
    "# Main function that returns a list of possible words\n",
    "words = main(green_letters, green_positions, yellow_letters, yellow_positions, bad_letters)\n",
    "print(words)"
   ]
  },
  {
   "cell_type": "code",
   "execution_count": 20,
   "id": "07fabf77",
   "metadata": {},
   "outputs": [
    {
     "name": "stdout",
     "output_type": "stream",
     "text": [
      "Letters  Count\n",
      "      L      3\n",
      "      E      2\n",
      "      O      2\n",
      "      B      1\n",
      "      W      1\n",
      "      H      1\n"
     ]
    }
   ],
   "source": [
    "# Repetitive letters\n",
    "letters_df = repetitive_letters(wordle_list=words)\n",
    "print(letters_df.to_string(index=False))"
   ]
  },
  {
   "cell_type": "markdown",
   "id": "1f7f9798",
   "metadata": {
    "tags": []
   },
   "source": [
    "#### Good words:\n",
    "SALET, CRANE, SHOUT, AUDIO, SLICE, SLICK, SPLIT, STUDY, INCUR, CHOIR, CROWN, CROWD, CRONE, POISE, OLIVE, DUNCE, BINGO, BISON, MIDST, SPOUT"
   ]
  },
  {
   "cell_type": "code",
   "execution_count": 21,
   "id": "87f44000",
   "metadata": {},
   "outputs": [
    {
     "name": "stdout",
     "output_type": "stream",
     "text": [
      "['dalts', 'delts', 'dolts']\n"
     ]
    }
   ],
   "source": [
    "# Main function that returns a list of possible words\n",
    "green_letters = ''\n",
    "green_positions = []\n",
    "yellow_letters = 'LTSD'\n",
    "yellow_positions = []\n",
    "bad_letters = ''\n",
    "\n",
    "# Main function that returns a list of possible words\n",
    "words = main(\n",
    "    green_letters,\n",
    "    green_positions,\n",
    "    yellow_letters,\n",
    "    yellow_positions,\n",
    "    bad_letters,\n",
    "    wordle_list_path=\"wordle-possible-words\",\n",
    ")\n",
    "print(words)"
   ]
  },
  {
   "cell_type": "code",
   "execution_count": 22,
   "id": "fa9a8f89",
   "metadata": {},
   "outputs": [],
   "source": [
    "# help(score)"
   ]
  },
  {
   "cell_type": "code",
   "execution_count": 23,
   "id": "ac58f55f",
   "metadata": {},
   "outputs": [
    {
     "data": {
      "text/html": [
       "<div>\n",
       "<style scoped>\n",
       "    .dataframe tbody tr th:only-of-type {\n",
       "        vertical-align: middle;\n",
       "    }\n",
       "\n",
       "    .dataframe tbody tr th {\n",
       "        vertical-align: top;\n",
       "    }\n",
       "\n",
       "    .dataframe thead th {\n",
       "        text-align: right;\n",
       "    }\n",
       "</style>\n",
       "<table border=\"1\" class=\"dataframe\">\n",
       "  <thead>\n",
       "    <tr style=\"text-align: right;\">\n",
       "      <th></th>\n",
       "      <th>Names</th>\n",
       "      <th>Games_Won</th>\n",
       "    </tr>\n",
       "  </thead>\n",
       "  <tbody>\n",
       "    <tr>\n",
       "      <th>0</th>\n",
       "      <td>&lt;&lt;&lt;&lt;&lt;&lt;&lt; Updated upstream</td>\n",
       "      <td>NaN</td>\n",
       "    </tr>\n",
       "    <tr>\n",
       "      <th>1</th>\n",
       "      <td>Murilo</td>\n",
       "      <td>125.0</td>\n",
       "    </tr>\n",
       "    <tr>\n",
       "      <th>2</th>\n",
       "      <td>=======</td>\n",
       "      <td>NaN</td>\n",
       "    </tr>\n",
       "    <tr>\n",
       "      <th>3</th>\n",
       "      <td>Murilo</td>\n",
       "      <td>124.0</td>\n",
       "    </tr>\n",
       "    <tr>\n",
       "      <th>4</th>\n",
       "      <td>&gt;&gt;&gt;&gt;&gt;&gt;&gt; Stashed changes</td>\n",
       "      <td>NaN</td>\n",
       "    </tr>\n",
       "    <tr>\n",
       "      <th>5</th>\n",
       "      <td>Barbara</td>\n",
       "      <td>53.0</td>\n",
       "    </tr>\n",
       "    <tr>\n",
       "      <th>6</th>\n",
       "      <td>Draw</td>\n",
       "      <td>118.0</td>\n",
       "    </tr>\n",
       "  </tbody>\n",
       "</table>\n",
       "</div>"
      ],
      "text/plain": [
       "                      Names  Games_Won\n",
       "0  <<<<<<< Updated upstream        NaN\n",
       "1                    Murilo      125.0\n",
       "2                   =======        NaN\n",
       "3                    Murilo      124.0\n",
       "4   >>>>>>> Stashed changes        NaN\n",
       "5                   Barbara       53.0\n",
       "6                      Draw      118.0"
      ]
     },
     "execution_count": 23,
     "metadata": {},
     "output_type": "execute_result"
    }
   ],
   "source": [
    "df = load_data(file_name='wordle_ranking.csv')\n",
    "df"
   ]
  },
  {
   "cell_type": "code",
   "execution_count": 24,
   "id": "9bcf5433",
   "metadata": {},
   "outputs": [
    {
     "data": {
      "text/html": [
       "<div>\n",
       "<style scoped>\n",
       "    .dataframe tbody tr th:only-of-type {\n",
       "        vertical-align: middle;\n",
       "    }\n",
       "\n",
       "    .dataframe tbody tr th {\n",
       "        vertical-align: top;\n",
       "    }\n",
       "\n",
       "    .dataframe thead th {\n",
       "        text-align: right;\n",
       "    }\n",
       "</style>\n",
       "<table border=\"1\" class=\"dataframe\">\n",
       "  <thead>\n",
       "    <tr style=\"text-align: right;\">\n",
       "      <th></th>\n",
       "      <th>Names</th>\n",
       "      <th>Games_Won</th>\n",
       "    </tr>\n",
       "  </thead>\n",
       "  <tbody>\n",
       "    <tr>\n",
       "      <th>1</th>\n",
       "      <td>Murilo</td>\n",
       "      <td>125.0</td>\n",
       "    </tr>\n",
       "    <tr>\n",
       "      <th>3</th>\n",
       "      <td>Murilo</td>\n",
       "      <td>124.0</td>\n",
       "    </tr>\n",
       "    <tr>\n",
       "      <th>5</th>\n",
       "      <td>Barbara</td>\n",
       "      <td>53.0</td>\n",
       "    </tr>\n",
       "    <tr>\n",
       "      <th>6</th>\n",
       "      <td>Draw</td>\n",
       "      <td>118.0</td>\n",
       "    </tr>\n",
       "  </tbody>\n",
       "</table>\n",
       "</div>"
      ],
      "text/plain": [
       "     Names  Games_Won\n",
       "1   Murilo      125.0\n",
       "3   Murilo      124.0\n",
       "5  Barbara       53.0\n",
       "6     Draw      118.0"
      ]
     },
     "execution_count": 24,
     "metadata": {},
     "output_type": "execute_result"
    }
   ],
   "source": [
    "# Update score\n",
    "score_df = score()\n",
    "score_df"
   ]
  },
  {
   "cell_type": "code",
   "execution_count": 25,
   "id": "68bca24a",
   "metadata": {},
   "outputs": [
    {
     "name": "stdout",
     "output_type": "stream",
     "text": [
      "  Names  Games_Won\n",
      " Murilo      125.0\n",
      " Murilo      124.0\n",
      "Barbara       53.0\n",
      "   Draw      118.0\n"
     ]
    }
   ],
   "source": [
    "# Print results\n",
    "print(score_df.to_string(index=False))"
   ]
  },
  {
   "cell_type": "code",
   "execution_count": 26,
   "id": "78647b3a",
   "metadata": {},
   "outputs": [],
   "source": [
    "# help(reset_score)"
   ]
  },
  {
   "cell_type": "markdown",
   "id": "3afcdbae",
   "metadata": {
    "tags": []
   },
   "source": [
    "#### Set custom score"
   ]
  },
  {
   "cell_type": "code",
   "execution_count": 27,
   "id": "65d15bf0",
   "metadata": {},
   "outputs": [],
   "source": [
    "# help(set_score)"
   ]
  },
  {
   "cell_type": "code",
   "execution_count": 28,
   "id": "83f21710",
   "metadata": {},
   "outputs": [],
   "source": [
    "# # Set custom score\n",
    "# df = set_score(m_score=107, b_score=41, draw_score=105)\n",
    "# df"
   ]
  },
  {
   "cell_type": "markdown",
   "id": "99a87e1f",
   "metadata": {},
   "source": [
    "#### Reset score"
   ]
  },
  {
   "cell_type": "code",
   "execution_count": 29,
   "id": "75742648",
   "metadata": {
    "tags": []
   },
   "outputs": [],
   "source": [
    "## Reset score\n",
    "# reset_score()"
   ]
  },
  {
   "cell_type": "code",
   "execution_count": null,
   "id": "80cd1e60",
   "metadata": {},
   "outputs": [],
   "source": []
  },
  {
   "cell_type": "code",
   "execution_count": null,
   "id": "2b4c5781",
   "metadata": {},
   "outputs": [],
   "source": []
  }
 ],
 "metadata": {
  "kernelspec": {
   "display_name": "ml",
   "language": "python",
   "name": "python3"
  },
  "language_info": {
   "codemirror_mode": {
    "name": "ipython",
    "version": 3
   },
   "file_extension": ".py",
   "mimetype": "text/x-python",
   "name": "python",
   "nbconvert_exporter": "python",
   "pygments_lexer": "ipython3",
   "version": "3.11.3"
  },
  "vscode": {
   "interpreter": {
    "hash": "57f1e8b789c2562e3faa8bd4fbf1bf03f323f206cff4185df1184c5825a46e3f"
   }
  }
 },
 "nbformat": 4,
 "nbformat_minor": 5
}
