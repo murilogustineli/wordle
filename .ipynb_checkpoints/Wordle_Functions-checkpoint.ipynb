{
 "cells": [
  {
   "cell_type": "markdown",
   "id": "30ab593e-329a-4a90-ae09-7ce38e3af0e2",
   "metadata": {},
   "source": [
    "# Wordle Functions\n",
    "## Program to solve wordle"
   ]
  },
  {
   "cell_type": "code",
   "execution_count": 1,
   "id": "51fb2ee5-4082-4b7c-9d29-11f8e80b8230",
   "metadata": {},
   "outputs": [],
   "source": [
    "import numpy as np"
   ]
  },
  {
   "cell_type": "code",
   "execution_count": 2,
   "id": "0a29fd1e-9323-464c-b78f-8ae30097bfd0",
   "metadata": {},
   "outputs": [],
   "source": [
    "# Function to load words text file and return a list of words\n",
    "def load_words(file_path):\n",
    "    my_file = open(file_path, \"r\")\n",
    "    content = my_file.read()\n",
    "    words = content.split('\\n')\n",
    "    return words"
   ]
  },
  {
   "cell_type": "code",
   "execution_count": 3,
   "id": "31944ae0-13df-4133-82cd-bc4f1e67ca26",
   "metadata": {},
   "outputs": [
    {
     "name": "stdout",
     "output_type": "stream",
     "text": [
      "['aback', 'abase', 'abate', 'abbey', 'abbot', 'abhor', 'abide', 'abled', 'abode', 'abort']\n"
     ]
    }
   ],
   "source": [
    "# Words list\n",
    "words = load_words(file_path=\"wordle-answers-alphabetical.txt\")\n",
    "\n",
    "# First 10 words\n",
    "print(words[:10])"
   ]
  },
  {
   "cell_type": "code",
   "execution_count": 4,
   "id": "d0003189-3021-4f5f-adc3-527588570928",
   "metadata": {},
   "outputs": [],
   "source": [
    "def find_words(words, good_letters, yellow_letters, bad_letters, letter_positions):\n",
    "    # List of possible words\n",
    "    possible_words = []\n",
    "    # Subtract 1 from every value in letter_positions \n",
    "    letter_positions = np.array(letter_positions)-1\n",
    "    \n",
    "    # Iterate over each word in Wordle\n",
    "    for w in range(len(words)):\n",
    "        # Check words that dont' have bad_letters and have yellow_letters\n",
    "        if not any((l in words[w]) for l in bad_letters) and all((l in words[w]) for l in yellow_letters):\n",
    "            # Check position of letters in word if it has green letters\n",
    "            if (len(good_letters) and len(letter_positions)) > 0:\n",
    "                # Go through each letter and check if they're in the right place\n",
    "                for n in range(len(letter_positions)):\n",
    "                    if str(words[w][letter_positions[n]]) == str(good_letters[n]):\n",
    "                        if n == len(letter_positions)-1:\n",
    "                            possible_words.append(words[w])\n",
    "                    else:\n",
    "                        break\n",
    "            else:\n",
    "                possible_words.append(words[w])\n",
    "                        \n",
    "    # Return list of possible words\n",
    "    return possible_words"
   ]
  },
  {
   "cell_type": "code",
   "execution_count": 5,
   "id": "463510f2-c3f5-43bf-904f-34a1b02934fb",
   "metadata": {
    "tags": []
   },
   "outputs": [
    {
     "name": "stdout",
     "output_type": "stream",
     "text": [
      "['retro', 'route']\n"
     ]
    }
   ],
   "source": [
    "def main():\n",
    "    # Words list\n",
    "    words = load_words(file_path=\"wordle-answers-alphabetical.txt\")\n",
    "    \n",
    "    # Variables\n",
    "    good_letters = 'R'.lower()\n",
    "    letter_positions = [1]\n",
    "    yellow_letters = 'ETOR'.lower()\n",
    "    bad_letters = 'SALCHIF'.lower()\n",
    "    \n",
    "    # Return list of possible words\n",
    "    print(find_words(words,\n",
    "                     good_letters=good_letters,\n",
    "                     yellow_letters=yellow_letters,\n",
    "                     bad_letters=bad_letters,\n",
    "                     letter_positions=letter_positions))\n",
    "    \n",
    "if __name__ == '__main__':\n",
    "    main()"
   ]
  },
  {
   "cell_type": "markdown",
   "id": "c99cdbb2-9217-4b7f-b353-12ffd3cc6da6",
   "metadata": {
    "tags": []
   },
   "source": [
    "#### Good words:\n",
    "SALET, CRANE, SHOUT, AUDIO, SPLIT, STUDY, INCUR, CHOIR, CROWN, CROWD, CRONE, POISE, OLIVE, DUNCE, BINGO, BISON"
   ]
  },
  {
   "cell_type": "code",
   "execution_count": 6,
   "id": "6e872ee4-29e0-450d-8129-36258e3e45f1",
   "metadata": {},
   "outputs": [],
   "source": [
    "# FORTE, METRO, RETRO, ROUTE, TROPE, TROVE, WROTE"
   ]
  },
  {
   "cell_type": "code",
   "execution_count": 7,
   "id": "8d48c8be-e00b-4e56-ba28-794011b08288",
   "metadata": {
    "tags": []
   },
   "outputs": [
    {
     "name": "stdout",
     "output_type": "stream",
     "text": [
      "['humid']\n"
     ]
    }
   ],
   "source": [
    "def main():\n",
    "    # Words list\n",
    "    words = load_words(file_path=\"wordle-answers-alphabetical.txt\")\n",
    "    \n",
    "    # Variables\n",
    "    good_letters = ''.lower()\n",
    "    letter_positions = []\n",
    "    yellow_letters = 'MDH'.lower()\n",
    "    bad_letters = ''.lower()\n",
    "    \n",
    "    # Return list of possible words\n",
    "    print(find_words(words,\n",
    "                     good_letters=good_letters,\n",
    "                     yellow_letters=yellow_letters,\n",
    "                     bad_letters=bad_letters,\n",
    "                     letter_positions=letter_positions))\n",
    "    \n",
    "if __name__ == '__main__':\n",
    "    main()"
   ]
  },
  {
   "cell_type": "code",
   "execution_count": 8,
   "id": "e9bdb414-20df-4876-b1fd-621e4de2d9c4",
   "metadata": {},
   "outputs": [],
   "source": [
    "import pandas as pd"
   ]
  },
  {
   "cell_type": "code",
   "execution_count": 9,
   "id": "8e726709-c65d-434f-8eee-952a850c19b8",
   "metadata": {},
   "outputs": [],
   "source": [
    "def load_data(file_name = 'wordle_ranking.csv'):\n",
    "    df = pd.read_csv(file_name)\n",
    "    return df"
   ]
  },
  {
   "cell_type": "code",
   "execution_count": 10,
   "id": "b323ec2d-4f40-4f68-b7c2-753fd7f87515",
   "metadata": {},
   "outputs": [],
   "source": [
    "# Function to compute the score\n",
    "def score():\n",
    "\t\"\"\"\n",
    "\tFunction that tracks the score for wordle. There are 3 possibilities:\n",
    "\t1. Murilo wins\n",
    "\t2. Barbara wins\n",
    "\t3. Draw; no winners\n",
    "\t\"\"\"\n",
    "\t# Load data\n",
    "\tdata = load_data(file_name = 'wordle_ranking.csv')\n",
    "\t\n",
    "\t# Filter for Murilo and Barbara rows\n",
    "\tm_df = data[data['Names'] == 'Murilo'].copy()\n",
    "\tb_df = data[data['Names'] == 'Barbara'].copy()\n",
    "\t\n",
    "\t# Select winner\n",
    "\twinner = input(\"Who won the game? Murilo, Barbara, or Draw? \\\n",
    "\t\t\\nEnter 'M' if Murilo won. \\\n",
    "\t\t\\nEnter 'B'' if Barbara won. \\\n",
    "\t\t\\nEnter 'D' if it was a Draw. \\\n",
    "\t\t\\nPlease enter [M/B/D]\").lower()\n",
    "\t\n",
    "\t# Add points to winner\n",
    "\tif winner == 'M'.lower():\n",
    "\t\tm_df['Games_Won'] = m_df['Games_Won'] + 1\n",
    "\telif winner == 'B'.lower():\n",
    "\t\tb_df['Games_Won'] = b_df['Games_Won'] + 1\n",
    "\telif winner == 'D'.lower():\n",
    "\t\tb_df['Draw'] = b_df['Draw'] + 1\n",
    "\t\tm_df['Draw'] = m_df['Draw'] + 1\n",
    "\t\t\n",
    "\t# Convert into DataFrame\n",
    "\tframes = [m_df, b_df]\n",
    "\tdf = pd.concat(frames)\n",
    "\t\n",
    "\t# Write DF to CSV\n",
    "\tdf.to_csv('wordle_ranking.csv', index=False)\n",
    "\t\n",
    "\treturn df"
   ]
  },
  {
   "cell_type": "code",
   "execution_count": 11,
   "id": "944880cf-dbaa-4215-bf53-eb5e50644e62",
   "metadata": {},
   "outputs": [
    {
     "name": "stdin",
     "output_type": "stream",
     "text": [
      "Who won the game? Murilo, Barbara, or Draw? \t\t\n",
      "Enter 'M' if Murilo won. \t\t\n",
      "Enter 'B'' if Barbara won. \t\t\n",
      "Enter 'D' if it was a Draw. \t\t\n",
      "Please enter [M/B/D] k\n"
     ]
    },
    {
     "data": {
      "text/html": [
       "<div>\n",
       "<style scoped>\n",
       "    .dataframe tbody tr th:only-of-type {\n",
       "        vertical-align: middle;\n",
       "    }\n",
       "\n",
       "    .dataframe tbody tr th {\n",
       "        vertical-align: top;\n",
       "    }\n",
       "\n",
       "    .dataframe thead th {\n",
       "        text-align: right;\n",
       "    }\n",
       "</style>\n",
       "<table border=\"1\" class=\"dataframe\">\n",
       "  <thead>\n",
       "    <tr style=\"text-align: right;\">\n",
       "      <th></th>\n",
       "      <th>Names</th>\n",
       "      <th>Games_Won</th>\n",
       "      <th>Draw</th>\n",
       "    </tr>\n",
       "  </thead>\n",
       "  <tbody>\n",
       "    <tr>\n",
       "      <th>0</th>\n",
       "      <td>Murilo</td>\n",
       "      <td>6</td>\n",
       "      <td>1</td>\n",
       "    </tr>\n",
       "    <tr>\n",
       "      <th>1</th>\n",
       "      <td>Barbara</td>\n",
       "      <td>1</td>\n",
       "      <td>1</td>\n",
       "    </tr>\n",
       "  </tbody>\n",
       "</table>\n",
       "</div>"
      ],
      "text/plain": [
       "     Names  Games_Won  Draw\n",
       "0   Murilo          6     1\n",
       "1  Barbara          1     1"
      ]
     },
     "execution_count": 11,
     "metadata": {},
     "output_type": "execute_result"
    }
   ],
   "source": [
    "score()"
   ]
  },
  {
   "cell_type": "code",
   "execution_count": 13,
   "id": "9818b287-1d4b-4141-b8d9-867718aa1cbf",
   "metadata": {},
   "outputs": [],
   "source": [
    "# Function that reset the score\n",
    "def reset_score():\n",
    "    \"\"\"\n",
    "    Function that resets the score.\n",
    "    Enter 'y' to reset the score\n",
    "    Enter 'n' to not reset the score\n",
    "    \"\"\"\n",
    "    # reset = input('Would you like to reset the ranking? [y/n]')\n",
    "    reset = 'n'\n",
    "    if reset == 'y':\n",
    "        data = [['Murilo', 0, 0], ['Barbara', 0, 0]]\n",
    "        df = pd.DataFrame(data, columns=['Names', 'Games_Won', 'Draw'])\n",
    "        df.to_csv('wordle_ranking.csv', index=False)\n",
    "    else:\n",
    "        return 'Ranking is not reset'\n",
    "    \n",
    "    return df"
   ]
  },
  {
   "cell_type": "code",
   "execution_count": 14,
   "id": "d23dcdc4-a4e8-4fc5-a618-1a4e713f1002",
   "metadata": {},
   "outputs": [
    {
     "data": {
      "text/html": [
       "<div>\n",
       "<style scoped>\n",
       "    .dataframe tbody tr th:only-of-type {\n",
       "        vertical-align: middle;\n",
       "    }\n",
       "\n",
       "    .dataframe tbody tr th {\n",
       "        vertical-align: top;\n",
       "    }\n",
       "\n",
       "    .dataframe thead th {\n",
       "        text-align: right;\n",
       "    }\n",
       "</style>\n",
       "<table border=\"1\" class=\"dataframe\">\n",
       "  <thead>\n",
       "    <tr style=\"text-align: right;\">\n",
       "      <th></th>\n",
       "      <th>Names</th>\n",
       "      <th>Games_Won</th>\n",
       "      <th>Draw</th>\n",
       "    </tr>\n",
       "  </thead>\n",
       "  <tbody>\n",
       "    <tr>\n",
       "      <th>0</th>\n",
       "      <td>Murilo</td>\n",
       "      <td>6</td>\n",
       "      <td>1</td>\n",
       "    </tr>\n",
       "    <tr>\n",
       "      <th>1</th>\n",
       "      <td>Barbara</td>\n",
       "      <td>1</td>\n",
       "      <td>1</td>\n",
       "    </tr>\n",
       "  </tbody>\n",
       "</table>\n",
       "</div>"
      ],
      "text/plain": [
       "     Names  Games_Won  Draw\n",
       "0   Murilo          6     1\n",
       "1  Barbara          1     1"
      ]
     },
     "execution_count": 14,
     "metadata": {},
     "output_type": "execute_result"
    }
   ],
   "source": [
    "df = load_data()\n",
    "df"
   ]
  },
  {
   "cell_type": "code",
   "execution_count": 15,
   "id": "9c7e97e5-af95-496c-b7a9-63d946c199d5",
   "metadata": {},
   "outputs": [
    {
     "data": {
      "text/plain": [
       "'Ranking is not reset'"
      ]
     },
     "execution_count": 15,
     "metadata": {},
     "output_type": "execute_result"
    }
   ],
   "source": [
    "reset_score()"
   ]
  },
  {
   "cell_type": "markdown",
   "id": "5748d75f-761d-4e20-b60d-b7b75094b847",
   "metadata": {
    "jp-MarkdownHeadingCollapsed": true,
    "tags": []
   },
   "source": [
    "### Exercises"
   ]
  },
  {
   "cell_type": "code",
   "execution_count": 16,
   "id": "2d6d8943-8a36-461c-b378-60bfbfd5f027",
   "metadata": {},
   "outputs": [
    {
     "name": "stdout",
     "output_type": "stream",
     "text": [
      "WELL DONE!\n"
     ]
    }
   ],
   "source": [
    "import regex as re\n",
    "s = 'Why,hELLo worlD#ONE!'\n",
    "print(re.sub('[a-z,#]', '', s))"
   ]
  },
  {
   "cell_type": "code",
   "execution_count": 17,
   "id": "b6ebb063-3f46-4e00-9fca-c5d4f82e4965",
   "metadata": {},
   "outputs": [
    {
     "name": "stdout",
     "output_type": "stream",
     "text": [
      "Age: 10\n"
     ]
    }
   ],
   "source": [
    "class P:\n",
    "    def __init__(self, age):\n",
    "        self.age = age\n",
    "\n",
    "    def __str__(self):\n",
    "        return f\"Age: {self.age}\"\n",
    "\n",
    "p = P(10)\n",
    "print(p)"
   ]
  },
  {
   "cell_type": "code",
   "execution_count": 18,
   "id": "bff7a5c0-0d55-4aef-9fdc-f7f197c8c94e",
   "metadata": {},
   "outputs": [
    {
     "name": "stdout",
     "output_type": "stream",
     "text": [
      "[0 1 2 3 4 5 6 7 8 9]\n",
      "[0 3 6 9]\n"
     ]
    }
   ],
   "source": [
    "import numpy as np\n",
    "nums = np.arange(10)\n",
    "print(nums)\n",
    "print(nums[nums % 3 == 0])"
   ]
  },
  {
   "cell_type": "code",
   "execution_count": 19,
   "id": "81431611-511e-438f-8424-d46eae4f9b45",
   "metadata": {},
   "outputs": [
    {
     "data": {
      "text/plain": [
       "{2, 3, 4, 5}"
      ]
     },
     "execution_count": 19,
     "metadata": {},
     "output_type": "execute_result"
    }
   ],
   "source": [
    "set1, set2 = {2, 3, 4}, {3, 4, 5}\n",
    "set1 |= set2\n",
    "set1"
   ]
  },
  {
   "cell_type": "code",
   "execution_count": 20,
   "id": "fd42aab4-30cb-481c-a6ca-8320aefbc5c5",
   "metadata": {
    "tags": []
   },
   "outputs": [
    {
     "name": "stdout",
     "output_type": "stream",
     "text": [
      "{0: 0, 1: 2, 2: 4}\n"
     ]
    }
   ],
   "source": [
    "d = { }\n",
    "for i in range(3):\n",
    "    for j in range (3):\n",
    "        d[i] = i*j\n",
    "        # print(d)\n",
    "print(d)"
   ]
  },
  {
   "cell_type": "code",
   "execution_count": 21,
   "id": "60d871b7-eeff-40ed-90a2-9b847948a391",
   "metadata": {
    "tags": []
   },
   "outputs": [
    {
     "name": "stdout",
     "output_type": "stream",
     "text": [
      "['foo', 'bar']\n",
      "['foo', 'bar', 'baz']\n",
      "['spam', 'eggs', 'joke']\n"
     ]
    }
   ],
   "source": [
    "def fct(string, num):\n",
    "    ans = []\n",
    "    for i in range(len(string)):\n",
    "        sub = ''\n",
    "        for j in range(i, len(string), num):\n",
    "            sub += string[j]\n",
    "        ans.append(sub)\n",
    "        if len(ans) == num:\n",
    "            break\n",
    "    return ans\n",
    "    \n",
    "print(fct('fboaor', 2))\n",
    "print(fct('fbboaaorz', 3))\n",
    "print(fct('sejpgoagkmse', 3))"
   ]
  },
  {
   "cell_type": "code",
   "execution_count": 22,
   "id": "16e98a0a-bbf9-43a5-ac92-9a9dad2c9a62",
   "metadata": {},
   "outputs": [
    {
     "name": "stdout",
     "output_type": "stream",
     "text": [
      "['foo', 'bar']\n",
      "['foo', 'bar', 'baz']\n",
      "['spam', 'eggs', 'joke']\n"
     ]
    }
   ],
   "source": [
    "# Computing string permutation\n",
    "def fct(string, num):\n",
    "    return [string[i::num] for i in range(num)]\n",
    "\n",
    "  \n",
    "# Main function with test cases\n",
    "def main():\n",
    "    test_cases = [\n",
    "        ['fboaor', 2],\n",
    "        ['fbboaaorz', 3],\n",
    "        ['sejpgoagkmse', 3]\n",
    "    ]\n",
    "    for s, n in test_cases:\n",
    "        print(fct(s, n))\n",
    "\n",
    "\n",
    "# Calling main function and printing results\n",
    "if __name__ == '__main__':\n",
    "    main()"
   ]
  },
  {
   "cell_type": "code",
   "execution_count": null,
   "id": "29ac6779-8b21-40e0-8d57-a3600ed5aa63",
   "metadata": {},
   "outputs": [],
   "source": []
  },
  {
   "cell_type": "code",
   "execution_count": null,
   "id": "d01f20ae-f1c5-4625-abd0-19402ffab2d2",
   "metadata": {},
   "outputs": [],
   "source": []
  },
  {
   "cell_type": "code",
   "execution_count": 23,
   "id": "3be7d104-92bc-4bcc-82c4-2d8e0a9529b3",
   "metadata": {},
   "outputs": [
    {
     "name": "stdout",
     "output_type": "stream",
     "text": [
      "    *     \n",
      "   ***    \n",
      "  *****   \n",
      " *******  \n",
      "********* \n"
     ]
    }
   ],
   "source": [
    "# print a piramid\n",
    "n = 5\n",
    "for i in range(1, n+1):\n",
    "    print(str('*'*i).rjust(n) + str('*'*(i-1)).ljust(n))"
   ]
  },
  {
   "cell_type": "code",
   "execution_count": 24,
   "id": "aa20c96b-ee5d-4e94-b35f-32f0e9e228d2",
   "metadata": {},
   "outputs": [
    {
     "name": "stdout",
     "output_type": "stream",
     "text": [
      "    *     \n",
      "   ***    \n",
      "  *****   \n",
      " *******  \n",
      "********* \n",
      " *******  \n",
      "  *****   \n",
      "   ***    \n",
      "    *     \n"
     ]
    }
   ],
   "source": [
    "n = 5\n",
    "for i in range(1, n+1):\n",
    "    print(str('*'*i).rjust(n) + str('*'*(i-1)).ljust(n))\n",
    "    \n",
    "for i in range(n-1, 0, -1):\n",
    "    print(str('*'*i).rjust(n) + str('*'*(i-1)).ljust(n))"
   ]
  },
  {
   "cell_type": "code",
   "execution_count": null,
   "id": "1c21163d-af63-49fe-b2c1-50b0def1a03c",
   "metadata": {},
   "outputs": [],
   "source": []
  },
  {
   "cell_type": "code",
   "execution_count": null,
   "id": "5b9b9771-d9d7-4ccf-9fac-3f30f4d63725",
   "metadata": {},
   "outputs": [],
   "source": []
  },
  {
   "cell_type": "code",
   "execution_count": 25,
   "id": "7471f3af-8e14-4275-add6-fecef359ff5b",
   "metadata": {},
   "outputs": [],
   "source": [
    "# Function that return the total value of the hand\n",
    "def count_cards(hand):\n",
    "    total = 0\n",
    "    \n",
    "    for i in hand:\n",
    "        if i.isnumeric():\n",
    "            total += int(i)\n",
    "        else:\n",
    "            if i in ['J','Q','K']:\n",
    "                total += 10\n",
    "            if i == 'A':\n",
    "                total += 10\n",
    "    if 'A' in hand:\n",
    "        for a in hand:\n",
    "            if a == 'A' and total > 21:\n",
    "                total -= 9\n",
    "    return total\n",
    "\n",
    "def blackjack_hand_greater_than(hand_1, hand_2, return_numbers=False):\n",
    "    \"\"\"\n",
    "    Return True if hand_1 beats hand_2, and False otherwise.\n",
    "    \n",
    "    In order for hand_1 to beat hand_2 the following must be true:\n",
    "    - The total of hand_1 must not exceed 21\n",
    "    - The total of hand_1 must exceed the total of hand_2 OR hand_2's total must exceed 21\n",
    "    \n",
    "    Hands are represented as a list of cards. Each card is represented by a string.\n",
    "    \n",
    "    When adding up a hand's total, cards with numbers count for that many points. Face\n",
    "    cards ('J', 'Q', and 'K') are worth 10 points. 'A' can count for 1 or 11.\n",
    "    \n",
    "    When determining a hand's total, you should try to count aces in the way that \n",
    "    maximizes the hand's total without going over 21. e.g. the total of ['A', 'A', '9'] is 21,\n",
    "    the total of ['A', 'A', '9', '3'] is 14.\n",
    "    \n",
    "    Examples:\n",
    "    >>> blackjack_hand_greater_than(['K'], ['3', '4'])\n",
    "    True\n",
    "    >>> blackjack_hand_greater_than(['K'], ['10'])\n",
    "    False\n",
    "    >>> blackjack_hand_greater_than(['K', 'K', '2'], ['3'])\n",
    "    False\n",
    "    \"\"\"\n",
    "    # Getting total value for each hand\n",
    "    h_1 = count_cards(hand_1)\n",
    "    h_2 = count_cards(hand_2)\n",
    "    \n",
    "    if return_numbers == True:\n",
    "        return h_1, h_2\n",
    "    else:\n",
    "    \n",
    "        # Conditional statements\n",
    "        if (h_1 > h_2 or h_2 > 21) and h_1 <= 21:\n",
    "            return True\n",
    "        if h_1 <= h_2 or h_1 > 21:\n",
    "            return False"
   ]
  },
  {
   "cell_type": "code",
   "execution_count": 26,
   "id": "ee39353c-302f-47b7-b44f-6347d44fce5e",
   "metadata": {},
   "outputs": [
    {
     "name": "stdout",
     "output_type": "stream",
     "text": [
      "True\n",
      "False\n",
      "False\n"
     ]
    }
   ],
   "source": [
    "print(blackjack_hand_greater_than(['K'], ['3', '4']))\n",
    "print(blackjack_hand_greater_than(['K'], ['10']))\n",
    "print(blackjack_hand_greater_than(['K', 'K', '2'], ['3']))"
   ]
  },
  {
   "cell_type": "code",
   "execution_count": 27,
   "id": "1876d78d-5077-4fdf-acad-4bb0d36cef3f",
   "metadata": {},
   "outputs": [
    {
     "name": "stdout",
     "output_type": "stream",
     "text": [
      "True\n"
     ]
    }
   ],
   "source": [
    "print(blackjack_hand_greater_than(['9'], ['9', 'Q', '8', 'A']))"
   ]
  },
  {
   "cell_type": "code",
   "execution_count": 28,
   "id": "a797dc5e-45fb-4ba0-8cd3-9099c15bc523",
   "metadata": {},
   "outputs": [
    {
     "name": "stdout",
     "output_type": "stream",
     "text": [
      "(22, 28)\n",
      "False\n"
     ]
    }
   ],
   "source": [
    "print(blackjack_hand_greater_than(hand_1=['2', 'A', '5', 'Q', '4'], hand_2=['J', '4', '3', 'A', '10'], return_numbers=True))\n",
    "print(blackjack_hand_greater_than(hand_1=['2', 'A', '5', 'Q', '4'], hand_2=['J', '4', '3', 'A', '10'], return_numbers=False))"
   ]
  },
  {
   "cell_type": "code",
   "execution_count": 29,
   "id": "97d03022-86a1-44cd-8953-f6bc94d2c075",
   "metadata": {},
   "outputs": [
    {
     "name": "stdout",
     "output_type": "stream",
     "text": [
      "1: 1\n",
      "2: 2\n",
      "3: 6\n",
      "4: 24\n",
      "5: 120\n",
      "6: 720\n",
      "7: 5040\n",
      "8: 40320\n",
      "9: 362880\n",
      "10: 3628800\n",
      "11: 39916800\n",
      "12: 479001600\n",
      "13: 6227020800\n",
      "14: 87178291200\n",
      "15: 1307674368000\n",
      "16: 20922789888000\n",
      "17: 355687428096000\n",
      "18: 6402373705728000\n",
      "19: 121645100408832000\n",
      "20: 2432902008176640000\n"
     ]
    }
   ],
   "source": [
    "# Recursion\n",
    "def factorial(n):\n",
    "    if n == 1:\n",
    "        return 1\n",
    "    return n * factorial(n-1)\n",
    "\n",
    "for i in range(1, 21):\n",
    "    print(f\"{i}: {factorial(i)}\")"
   ]
  },
  {
   "cell_type": "code",
   "execution_count": 30,
   "id": "3d2df5f9-7cea-4d57-ae4c-235825827379",
   "metadata": {},
   "outputs": [
    {
     "data": {
      "text/plain": [
       "19"
      ]
     },
     "execution_count": 30,
     "metadata": {},
     "output_type": "execute_result"
    }
   ],
   "source": [
    "len(str(factorial(20)))"
   ]
  },
  {
   "cell_type": "code",
   "execution_count": 31,
   "id": "927a33be-fcb2-4675-bfb9-32042016c8a1",
   "metadata": {},
   "outputs": [
    {
     "name": "stdout",
     "output_type": "stream",
     "text": [
      "8 11 14 17 20 23 26 29 32 35 38 41 44 47 50 53 56 59 62 65 68 71 74 77 80 83 86 89 "
     ]
    }
   ],
   "source": [
    "for i in range(8, 90, 3):\n",
    "    print(i, end=' ')"
   ]
  },
  {
   "cell_type": "code",
   "execution_count": 32,
   "id": "6be5bbed-cb6b-45a5-a2a9-d58d32250f83",
   "metadata": {},
   "outputs": [
    {
     "name": "stdout",
     "output_type": "stream",
     "text": [
      "100 98 96 94 92 90 88 86 84 82 80 78 76 74 72 70 68 66 64 62 60 58 56 54 52 50 48 46 44 42 40 38 36 34 32 30 28 26 24 22 20 18 16 14 12 10 8 6 4 2 "
     ]
    }
   ],
   "source": [
    "for i in range(100, 1, -2):\n",
    "    print(i, end=' ')"
   ]
  },
  {
   "cell_type": "code",
   "execution_count": 33,
   "id": "65a86e6e-8eba-4a86-bba0-78fcaf86349d",
   "metadata": {},
   "outputs": [],
   "source": [
    "A = 10\n",
    "B = 7\n",
    "CD = 5\n",
    "E = 1\n",
    "F = 6\n",
    "G = 1 "
   ]
  },
  {
   "cell_type": "code",
   "execution_count": 34,
   "id": "c3416e3a-ce4a-4d8e-9a18-6f1a9aad5f92",
   "metadata": {},
   "outputs": [
    {
     "name": "stdout",
     "output_type": "stream",
     "text": [
      "******\n",
      "******\n",
      "******\n",
      "******\n"
     ]
    }
   ],
   "source": [
    "for i in range(4):\n",
    "    print('*'*6)"
   ]
  },
  {
   "cell_type": "code",
   "execution_count": 35,
   "id": "26a88bc2-5c54-4ef4-a351-91f254bfa8ad",
   "metadata": {},
   "outputs": [
    {
     "name": "stdout",
     "output_type": "stream",
     "text": [
      "*\n",
      "**\n",
      "***\n",
      "****\n"
     ]
    }
   ],
   "source": [
    "for i in range(4):\n",
    "    print('*'*(i+1))"
   ]
  },
  {
   "cell_type": "code",
   "execution_count": 36,
   "id": "074b66b5-e7ca-4cc3-ac88-8f45294bca57",
   "metadata": {},
   "outputs": [
    {
     "name": "stdout",
     "output_type": "stream",
     "text": [
      "AAAAAAAAAABBBBBBBCDCDCDCDEFFFFFFG\n"
     ]
    }
   ],
   "source": [
    "for i in range(1, 5):\n",
    "    print('A'*i, end='')\n",
    "for i in range(7):\n",
    "    print('B', end='')\n",
    "for i in range(4):\n",
    "    print('CD', end='')\n",
    "print('E', end='')\n",
    "for i in range(6):\n",
    "    print('F', end='')\n",
    "print('G')"
   ]
  },
  {
   "cell_type": "code",
   "execution_count": 37,
   "id": "b64521f4-a229-485a-8917-4eea4058ec1a",
   "metadata": {},
   "outputs": [
    {
     "name": "stdout",
     "output_type": "stream",
     "text": [
      "CD\n",
      "CD\n",
      "CD\n",
      "CD\n",
      "CD\n"
     ]
    }
   ],
   "source": [
    "for i in range(5):\n",
    "    print('CD')"
   ]
  },
  {
   "cell_type": "code",
   "execution_count": 38,
   "id": "ae64ba4c-1cce-44ad-b8bb-eb96509fa407",
   "metadata": {},
   "outputs": [
    {
     "name": "stdout",
     "output_type": "stream",
     "text": [
      "Murilo Murilo Murilo Murilo Murilo "
     ]
    }
   ],
   "source": [
    "# name = input('What your name? ')\n",
    "# num = int(input('How many times you want to print your name? '))\n",
    "name = 'Murilo'\n",
    "num = 5\n",
    "for i in range(1, num+1):\n",
    "    print(name, end=' ')"
   ]
  },
  {
   "cell_type": "code",
   "execution_count": 39,
   "id": "8460d6c4-90cc-4fec-8cfa-20a546ab4320",
   "metadata": {},
   "outputs": [
    {
     "name": "stdout",
     "output_type": "stream",
     "text": [
      "1 1 2 3 5 8 13 21 34 55 89 144 "
     ]
    }
   ],
   "source": [
    "fib = 10\n",
    "a, b = 1, 1\n",
    "print(a, b, end=' ')\n",
    "for i in range(fib):\n",
    "    a, b = b, a+b\n",
    "    print(b, end=' ')"
   ]
  },
  {
   "cell_type": "code",
   "execution_count": null,
   "id": "4c6e3d5f-a034-4969-97f8-bfd7e1d4fdcd",
   "metadata": {},
   "outputs": [],
   "source": []
  },
  {
   "cell_type": "code",
   "execution_count": null,
   "id": "79ccc7c6-a59a-4d02-8125-85390acee23b",
   "metadata": {},
   "outputs": [],
   "source": []
  }
 ],
 "metadata": {
  "kernelspec": {
   "display_name": "Python 3 (ipykernel)",
   "language": "python",
   "name": "python3"
  },
  "language_info": {
   "codemirror_mode": {
    "name": "ipython",
    "version": 3
   },
   "file_extension": ".py",
   "mimetype": "text/x-python",
   "name": "python",
   "nbconvert_exporter": "python",
   "pygments_lexer": "ipython3",
   "version": "3.9.12"
  }
 },
 "nbformat": 4,
 "nbformat_minor": 5
}
