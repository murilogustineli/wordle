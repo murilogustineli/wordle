{
 "cells": [
  {
   "cell_type": "markdown",
   "id": "3933667c",
   "metadata": {},
   "source": [
    "# Wordle Solver"
   ]
  },
  {
   "cell_type": "code",
   "execution_count": 1,
   "id": "266ac9f6",
   "metadata": {},
   "outputs": [
    {
     "name": "stdout",
     "output_type": "stream",
     "text": [
      "\n"
     ]
    }
   ],
   "source": [
    "%run -i wordle_functions.py"
   ]
  },
  {
   "cell_type": "code",
   "execution_count": 2,
   "id": "370e403f",
   "metadata": {},
   "outputs": [
    {
     "name": "stdout",
     "output_type": "stream",
     "text": [
      "Help on function main in module __main__:\n",
      "\n",
      "main(green_letters: str, green_letter_positions: list, yellow_letters: str, yellow_letter_positions: list, bad_letters: str) -> None\n",
      "    Function takes  4 arguments:\n",
      "    1. green_letters --> string that represents green letters in wordle guess\n",
      "    2. green_letter_positions --> list of the positions of the green_letters ranging from 1 to 5\n",
      "    3. yellow_letters --> string that represents yellow letters in wordle guess\n",
      "    4. yellow_letter_positions --> list of the positions of the yellow_letters ranging from 1 to 5\n",
      "    5. bad_letters --> string that represents gray letters in wordle guess\n",
      "\n"
     ]
    }
   ],
   "source": [
    "help(main)"
   ]
  },
  {
   "cell_type": "code",
   "execution_count": 3,
   "id": "7b35e8dd",
   "metadata": {},
   "outputs": [
    {
     "name": "stdout",
     "output_type": "stream",
     "text": [
      "['cramp', 'crawl', 'crazy']\n"
     ]
    }
   ],
   "source": [
    "# Main function that returns a list of possible words\n",
    "green_letters = 'CRA'\n",
    "green_positions = [1,2,3]\n",
    "yellow_letters = ''\n",
    "yellow_positions = []\n",
    "bad_letters = 'NESTIK'\n",
    "\n",
    "# Main function that returns a list of possible words\n",
    "main(green_letters, green_positions, yellow_letters, yellow_positions, bad_letters)"
   ]
  },
  {
   "cell_type": "markdown",
   "id": "be5e0d9b",
   "metadata": {
    "tags": []
   },
   "source": [
    "#### Good words:\n",
    "SALET, CRANE, SHOUT, AUDIO, SLICE, SLICK, SPLIT, STUDY, INCUR, CHOIR, CROWN, CROWD, CRONE, POISE, OLIVE, DUNCE, BINGO, BISON, MIDST, SPOUT"
   ]
  },
  {
   "cell_type": "code",
   "execution_count": 4,
   "id": "9f244f5f",
   "metadata": {},
   "outputs": [],
   "source": [
    "# DITTO, HOTLY, LOFTY, MOTIF, MOTTO, TODDY"
   ]
  },
  {
   "cell_type": "code",
   "execution_count": 5,
   "id": "acfb6579",
   "metadata": {},
   "outputs": [
    {
     "name": "stdout",
     "output_type": "stream",
     "text": [
      "['amply', 'balmy', 'dimly', 'filmy', 'imply', 'loamy', 'lumpy', 'lymph', 'madly', 'manly', 'mealy', 'milky', 'moldy', 'slimy']\n"
     ]
    }
   ],
   "source": [
    "# Main function that returns a list of possible words\n",
    "green_letters = ''\n",
    "green_positions = []\n",
    "yellow_letters = 'MLY'\n",
    "yellow_positions = []\n",
    "bad_letters = ''\n",
    "\n",
    "# Main function that returns a list of possible words\n",
    "main(green_letters, green_positions, yellow_letters, yellow_positions, bad_letters)"
   ]
  },
  {
   "cell_type": "code",
   "execution_count": 6,
   "id": "b33d1ce8",
   "metadata": {},
   "outputs": [],
   "source": [
    "# help(score)"
   ]
  },
  {
   "cell_type": "code",
   "execution_count": 7,
   "id": "b790bd07",
   "metadata": {},
   "outputs": [
    {
     "data": {
      "text/html": [
       "<div>\n",
       "<style scoped>\n",
       "    .dataframe tbody tr th:only-of-type {\n",
       "        vertical-align: middle;\n",
       "    }\n",
       "\n",
       "    .dataframe tbody tr th {\n",
       "        vertical-align: top;\n",
       "    }\n",
       "\n",
       "    .dataframe thead th {\n",
       "        text-align: right;\n",
       "    }\n",
       "</style>\n",
       "<table border=\"1\" class=\"dataframe\">\n",
       "  <thead>\n",
       "    <tr style=\"text-align: right;\">\n",
       "      <th></th>\n",
       "      <th>Names</th>\n",
       "      <th>Games_Won</th>\n",
       "      <th>Draw</th>\n",
       "    </tr>\n",
       "  </thead>\n",
       "  <tbody>\n",
       "    <tr>\n",
       "      <th>0</th>\n",
       "      <td>Murilo</td>\n",
       "      <td>14</td>\n",
       "      <td>12</td>\n",
       "    </tr>\n",
       "    <tr>\n",
       "      <th>1</th>\n",
       "      <td>Barbara</td>\n",
       "      <td>8</td>\n",
       "      <td>12</td>\n",
       "    </tr>\n",
       "  </tbody>\n",
       "</table>\n",
       "</div>"
      ],
      "text/plain": [
       "     Names  Games_Won  Draw\n",
       "0   Murilo         14    12\n",
       "1  Barbara          8    12"
      ]
     },
     "execution_count": 7,
     "metadata": {},
     "output_type": "execute_result"
    }
   ],
   "source": [
    "df = load_data(file_name='wordle_ranking.csv')\n",
    "df"
   ]
  },
  {
   "cell_type": "code",
   "execution_count": 8,
   "id": "698f5b65",
   "metadata": {},
   "outputs": [
    {
     "name": "stdin",
     "output_type": "stream",
     "text": [
      "Who won the game? Murilo, Barbara, or Draw?     \n",
      "Enter 'M' if Murilo won.     \n",
      "Enter 'B' if Barbara won.     \n",
      "Enter 'D' if it was a Draw.     \n",
      "Please enter [M/B/D]: B\n"
     ]
    },
    {
     "data": {
      "text/html": [
       "<div>\n",
       "<style scoped>\n",
       "    .dataframe tbody tr th:only-of-type {\n",
       "        vertical-align: middle;\n",
       "    }\n",
       "\n",
       "    .dataframe tbody tr th {\n",
       "        vertical-align: top;\n",
       "    }\n",
       "\n",
       "    .dataframe thead th {\n",
       "        text-align: right;\n",
       "    }\n",
       "</style>\n",
       "<table border=\"1\" class=\"dataframe\">\n",
       "  <thead>\n",
       "    <tr style=\"text-align: right;\">\n",
       "      <th></th>\n",
       "      <th>Names</th>\n",
       "      <th>Games_Won</th>\n",
       "      <th>Draw</th>\n",
       "    </tr>\n",
       "  </thead>\n",
       "  <tbody>\n",
       "    <tr>\n",
       "      <th>0</th>\n",
       "      <td>Murilo</td>\n",
       "      <td>14</td>\n",
       "      <td>12</td>\n",
       "    </tr>\n",
       "    <tr>\n",
       "      <th>1</th>\n",
       "      <td>Barbara</td>\n",
       "      <td>9</td>\n",
       "      <td>12</td>\n",
       "    </tr>\n",
       "  </tbody>\n",
       "</table>\n",
       "</div>"
      ],
      "text/plain": [
       "     Names  Games_Won  Draw\n",
       "0   Murilo         14    12\n",
       "1  Barbara          9    12"
      ]
     },
     "execution_count": 8,
     "metadata": {},
     "output_type": "execute_result"
    }
   ],
   "source": [
    "# Update score\n",
    "score_df = score()\n",
    "score_df"
   ]
  },
  {
   "cell_type": "code",
   "execution_count": 9,
   "id": "fba7aae0",
   "metadata": {},
   "outputs": [
    {
     "name": "stdout",
     "output_type": "stream",
     "text": [
      "  Names  Games_Won  Draw\n",
      " Murilo         14    12\n",
      "Barbara          9    12\n"
     ]
    }
   ],
   "source": [
    "# Print results\n",
    "print(score_df.to_string(index=False))"
   ]
  },
  {
   "cell_type": "code",
   "execution_count": 10,
   "id": "ced1255c",
   "metadata": {},
   "outputs": [],
   "source": [
    "# help(reset_score)"
   ]
  },
  {
   "cell_type": "markdown",
   "id": "ace4f35e",
   "metadata": {},
   "source": [
    "#### Set custom score"
   ]
  },
  {
   "cell_type": "code",
   "execution_count": 11,
   "id": "3b292e25-097b-4790-82c1-b4ee9d2fa36c",
   "metadata": {},
   "outputs": [],
   "source": [
    "# help(set_score)"
   ]
  },
  {
   "cell_type": "code",
   "execution_count": 12,
   "id": "09c035a9",
   "metadata": {},
   "outputs": [],
   "source": [
    "## Set custom score\n",
    "# df = set_score(m_score=10, b_score=4, draw=6)\n",
    "# df"
   ]
  },
  {
   "cell_type": "markdown",
   "id": "5d9c2f0a",
   "metadata": {},
   "source": [
    "#### Reset score"
   ]
  },
  {
   "cell_type": "code",
   "execution_count": 13,
   "id": "319f3af2",
   "metadata": {},
   "outputs": [],
   "source": [
    "## Reset score\n",
    "# reset_score()"
   ]
  },
  {
   "cell_type": "code",
   "execution_count": null,
   "id": "965d2267-8bdc-482f-aed0-4664de4a25d9",
   "metadata": {},
   "outputs": [],
   "source": []
  }
 ],
 "metadata": {
  "kernelspec": {
   "display_name": "Python 3 (ipykernel)",
   "language": "python",
   "name": "python3"
  },
  "language_info": {
   "codemirror_mode": {
    "name": "ipython",
    "version": 3
   },
   "file_extension": ".py",
   "mimetype": "text/x-python",
   "name": "python",
   "nbconvert_exporter": "python",
   "pygments_lexer": "ipython3",
   "version": "3.9.12"
  }
 },
 "nbformat": 4,
 "nbformat_minor": 5
}
